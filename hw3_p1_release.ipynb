{
  "nbformat": 4,
  "nbformat_minor": 0,
  "metadata": {
    "colab": {
      "provenance": [],
      "include_colab_link": true
    },
    "kernelspec": {
      "name": "python3",
      "display_name": "Python 3"
    },
    "language_info": {
      "name": "python"
    },
    "accelerator": "GPU",
    "gpuClass": "standard"
  },
  "cells": [
    {
      "cell_type": "markdown",
      "metadata": {
        "id": "view-in-github",
        "colab_type": "text"
      },
      "source": [
        "<a href=\"https://colab.research.google.com/github/across04/code_snippets/blob/main/hw3_p1_release.ipynb\" target=\"_parent\"><img src=\"https://colab.research.google.com/assets/colab-badge.svg\" alt=\"Open In Colab\"/></a>"
      ]
    },
    {
      "cell_type": "markdown",
      "source": [
        "# Problem 1: Convolutional Neural Network"
      ],
      "metadata": {
        "id": "BxnjmW9_Qwwb"
      }
    },
    {
      "cell_type": "code",
      "source": [
        "from google.colab import drive\n",
        "drive.mount('/content/drive')"
      ],
      "metadata": {
        "id": "uWVKSTmU2QrU",
        "outputId": "83c6ba26-7afd-4eeb-81e7-c81aab8fbc46",
        "colab": {
          "base_uri": "https://localhost:8080/"
        }
      },
      "execution_count": null,
      "outputs": [
        {
          "output_type": "stream",
          "name": "stdout",
          "text": [
            "Mounted at /content/drive\n"
          ]
        }
      ]
    },
    {
      "cell_type": "code",
      "source": [
        "!nvidia-smi"
      ],
      "metadata": {
        "id": "FbQ9D0Ax2f9f",
        "outputId": "50bc8f5b-9ead-43d5-897c-fb17e3e7d871",
        "colab": {
          "base_uri": "https://localhost:8080/"
        }
      },
      "execution_count": null,
      "outputs": [
        {
          "output_type": "stream",
          "name": "stdout",
          "text": [
            "Tue May  7 17:34:59 2024       \n",
            "+---------------------------------------------------------------------------------------+\n",
            "| NVIDIA-SMI 535.104.05             Driver Version: 535.104.05   CUDA Version: 12.2     |\n",
            "|-----------------------------------------+----------------------+----------------------+\n",
            "| GPU  Name                 Persistence-M | Bus-Id        Disp.A | Volatile Uncorr. ECC |\n",
            "| Fan  Temp   Perf          Pwr:Usage/Cap |         Memory-Usage | GPU-Util  Compute M. |\n",
            "|                                         |                      |               MIG M. |\n",
            "|=========================================+======================+======================|\n",
            "|   0  Tesla T4                       Off | 00000000:00:04.0 Off |                    0 |\n",
            "| N/A   65C    P8              11W /  70W |      0MiB / 15360MiB |      0%      Default |\n",
            "|                                         |                      |                  N/A |\n",
            "+-----------------------------------------+----------------------+----------------------+\n",
            "                                                                                         \n",
            "+---------------------------------------------------------------------------------------+\n",
            "| Processes:                                                                            |\n",
            "|  GPU   GI   CI        PID   Type   Process name                            GPU Memory |\n",
            "|        ID   ID                                                             Usage      |\n",
            "|=======================================================================================|\n",
            "|  No running processes found                                                           |\n",
            "+---------------------------------------------------------------------------------------+\n"
          ]
        }
      ]
    },
    {
      "cell_type": "markdown",
      "source": [
        "# Intro\n",
        "\n",
        "We will be tackling a straightforward image classification task using the CIFAR-10 dataset. Our goal is to build a CNN model that can accurately classify the images into their respective categories.\n"
      ],
      "metadata": {
        "id": "T7hkzjxqQqH6"
      }
    },
    {
      "cell_type": "markdown",
      "source": [
        "# 0. Warm-up\n",
        "\n",
        "Generally, when you have to deal with image, text, audio or video data,\n",
        "you can use standard python packages that load data into a numpy array.\n",
        "Then you can convert this array into a ``torch.Tensor``.\n",
        "\n",
        "For vision, PyTorch has a package called ``torchvision``,\n",
        "that has data loaders for common datasets such as Imagenet, CIFAR10, MNIST, etc. and data transformers for images, viz., ``torchvision.datasets``\n",
        "and ``torch.utils.data.DataLoader``.\n",
        "This provides a huge convenience and avoids writing boilerplate code."
      ],
      "metadata": {
        "id": "miDAC2JaRSzL"
      }
    },
    {
      "cell_type": "code",
      "execution_count": null,
      "metadata": {
        "id": "l7cGFQMAQnfX"
      },
      "outputs": [],
      "source": [
        "%matplotlib inline\n",
        "\n",
        "# Numerical Operations\n",
        "import math\n",
        "import numpy as np\n",
        "\n",
        "# Reading/Writing Data\n",
        "import pandas as pd\n",
        "import os\n",
        "import csv\n",
        "\n",
        "# For Progress Bar\n",
        "from tqdm import tqdm\n",
        "\n",
        "# Pytorch\n",
        "import torch\n",
        "import torch.nn as nn\n",
        "from torch.utils.data import Dataset, DataLoader, random_split\n",
        "from torch.utils.tensorboard import SummaryWriter\n",
        "\n",
        "import torchvision\n",
        "import torchvision.datasets as datasets\n",
        "import torchvision.transforms as transforms\n",
        "\n",
        "import matplotlib.pyplot as plt\n",
        "from matplotlib import cm"
      ]
    },
    {
      "cell_type": "markdown",
      "source": [
        "## Recap on MNIST Dataset\n",
        "\n",
        "The built-in datasets library in the package `torchvision` will automatically download some dataset if you set `download=True` when initializing the dataset."
      ],
      "metadata": {
        "id": "ynXWvq-hRuSM"
      }
    },
    {
      "cell_type": "code",
      "source": [
        "mnist_trainset = datasets.MNIST(root='./data', train=True, download=True,\n",
        "                                transform=transforms.ToTensor())\n",
        "mnist_testset = datasets.MNIST(root='./data', train=False, download=True,\n",
        "                               transform=transforms.ToTensor())\n",
        "print(\"Print the training dataset:\\n \", mnist_trainset)\n",
        "print(\"Print the testing dataset:\\n \", mnist_testset)"
      ],
      "metadata": {
        "id": "Cpw9VqNURdlY",
        "outputId": "357b285f-9fb0-4a11-e1af-397d30598176",
        "colab": {
          "base_uri": "https://localhost:8080/"
        }
      },
      "execution_count": null,
      "outputs": [
        {
          "output_type": "stream",
          "name": "stdout",
          "text": [
            "Downloading http://yann.lecun.com/exdb/mnist/train-images-idx3-ubyte.gz\n",
            "Failed to download (trying next):\n",
            "HTTP Error 403: Forbidden\n",
            "\n",
            "Downloading https://ossci-datasets.s3.amazonaws.com/mnist/train-images-idx3-ubyte.gz\n",
            "Downloading https://ossci-datasets.s3.amazonaws.com/mnist/train-images-idx3-ubyte.gz to ./data/MNIST/raw/train-images-idx3-ubyte.gz\n"
          ]
        },
        {
          "output_type": "stream",
          "name": "stderr",
          "text": [
            "100%|██████████| 9912422/9912422 [00:00<00:00, 16818224.80it/s]\n"
          ]
        },
        {
          "output_type": "stream",
          "name": "stdout",
          "text": [
            "Extracting ./data/MNIST/raw/train-images-idx3-ubyte.gz to ./data/MNIST/raw\n",
            "\n",
            "Downloading http://yann.lecun.com/exdb/mnist/train-labels-idx1-ubyte.gz\n",
            "Failed to download (trying next):\n",
            "HTTP Error 403: Forbidden\n",
            "\n",
            "Downloading https://ossci-datasets.s3.amazonaws.com/mnist/train-labels-idx1-ubyte.gz\n",
            "Downloading https://ossci-datasets.s3.amazonaws.com/mnist/train-labels-idx1-ubyte.gz to ./data/MNIST/raw/train-labels-idx1-ubyte.gz\n"
          ]
        },
        {
          "output_type": "stream",
          "name": "stderr",
          "text": [
            "100%|██████████| 28881/28881 [00:00<00:00, 470088.49it/s]\n"
          ]
        },
        {
          "output_type": "stream",
          "name": "stdout",
          "text": [
            "Extracting ./data/MNIST/raw/train-labels-idx1-ubyte.gz to ./data/MNIST/raw\n",
            "\n",
            "Downloading http://yann.lecun.com/exdb/mnist/t10k-images-idx3-ubyte.gz\n",
            "Failed to download (trying next):\n",
            "HTTP Error 403: Forbidden\n",
            "\n",
            "Downloading https://ossci-datasets.s3.amazonaws.com/mnist/t10k-images-idx3-ubyte.gz\n",
            "Downloading https://ossci-datasets.s3.amazonaws.com/mnist/t10k-images-idx3-ubyte.gz to ./data/MNIST/raw/t10k-images-idx3-ubyte.gz\n"
          ]
        },
        {
          "output_type": "stream",
          "name": "stderr",
          "text": [
            "100%|██████████| 1648877/1648877 [00:00<00:00, 4425779.61it/s]\n"
          ]
        },
        {
          "output_type": "stream",
          "name": "stdout",
          "text": [
            "Extracting ./data/MNIST/raw/t10k-images-idx3-ubyte.gz to ./data/MNIST/raw\n",
            "\n",
            "Downloading http://yann.lecun.com/exdb/mnist/t10k-labels-idx1-ubyte.gz\n",
            "Failed to download (trying next):\n",
            "HTTP Error 403: Forbidden\n",
            "\n",
            "Downloading https://ossci-datasets.s3.amazonaws.com/mnist/t10k-labels-idx1-ubyte.gz\n",
            "Downloading https://ossci-datasets.s3.amazonaws.com/mnist/t10k-labels-idx1-ubyte.gz to ./data/MNIST/raw/t10k-labels-idx1-ubyte.gz\n"
          ]
        },
        {
          "output_type": "stream",
          "name": "stderr",
          "text": [
            "100%|██████████| 4542/4542 [00:00<00:00, 4025043.05it/s]"
          ]
        },
        {
          "output_type": "stream",
          "name": "stdout",
          "text": [
            "Extracting ./data/MNIST/raw/t10k-labels-idx1-ubyte.gz to ./data/MNIST/raw\n",
            "\n",
            "Print the training dataset:\n",
            "  Dataset MNIST\n",
            "    Number of datapoints: 60000\n",
            "    Root location: ./data\n",
            "    Split: Train\n",
            "    StandardTransform\n",
            "Transform: ToTensor()\n",
            "Print the testing dataset:\n",
            "  Dataset MNIST\n",
            "    Number of datapoints: 10000\n",
            "    Root location: ./data\n",
            "    Split: Test\n",
            "    StandardTransform\n",
            "Transform: ToTensor()\n"
          ]
        },
        {
          "output_type": "stream",
          "name": "stderr",
          "text": [
            "\n"
          ]
        }
      ]
    },
    {
      "cell_type": "code",
      "source": [
        "fig, axs = plt.subplots(3, 10, figsize = (6, 4))\n",
        "plt.gray()\n",
        "\n",
        "# loop through subplots and add mnist images\n",
        "for i, ax in enumerate(axs.flat):\n",
        "  ax.imshow(mnist_trainset[i][0][0], cmap=cm.gray_r)\n",
        "  ax.axis('off')\n",
        "  ax.set_title('{}'.format(mnist_trainset[i][1]))"
      ],
      "metadata": {
        "id": "gCVL87D0Rdrk",
        "outputId": "8ae38db0-b38b-4b98-af58-e52c2a1d834e",
        "colab": {
          "base_uri": "https://localhost:8080/",
          "height": 316
        }
      },
      "execution_count": null,
      "outputs": [
        {
          "output_type": "display_data",
          "data": {
            "text/plain": [
              "<Figure size 600x400 with 30 Axes>"
            ],
            "image/png": "[encoded data removed]"
          },
          "metadata": {}
        }
      ]
    },
    {
      "cell_type": "code",
      "source": [
        "train_loader = torch.utils.data.DataLoader(mnist_trainset, batch_size=4, shuffle=True)\n",
        "test_loader = torch.utils.data.DataLoader(mnist_testset, batch_size=1, shuffle=False)\n",
        "print(train_loader)\n",
        "print(test_loader)\n",
        "\n",
        "for batch_id, (data, label) in enumerate(train_loader):\n",
        "  print('batch_id:', batch_id)\n",
        "  print(data.shape)\n",
        "  print(label.shape)\n",
        "  break"
      ],
      "metadata": {
        "id": "rXDNZ79uRsvc",
        "outputId": "63334099-ab26-47ea-a325-7a037960e690",
        "colab": {
          "base_uri": "https://localhost:8080/"
        }
      },
      "execution_count": null,
      "outputs": [
        {
          "output_type": "stream",
          "name": "stdout",
          "text": [
            "<torch.utils.data.dataloader.DataLoader object at 0x7924f48d3a90>\n",
            "<torch.utils.data.dataloader.DataLoader object at 0x7924f69cee30>\n",
            "batch_id: 0\n",
            "torch.Size([4, 1, 28, 28])\n",
            "torch.Size([4])\n"
          ]
        }
      ]
    },
    {
      "cell_type": "markdown",
      "source": [
        "## CIFAR-10 Dataset"
      ],
      "metadata": {
        "id": "3wrE4llaYVwJ"
      }
    },
    {
      "cell_type": "markdown",
      "source": [
        "Follow the above instructions on MNIST dataset, write code to load and visualize the CIFAR-10 dataset in the similar manner.\n",
        "\n",
        "CIFAR-10 dataset has the classes (listed below): ‘airplane’, ‘automobile’, ‘bird’, ‘cat’, ‘deer’, ‘dog’, ‘frog’, ‘horse’, ‘ship’, ‘truck’. The images in CIFAR-10 are of size $3 \\times 32 \\times 32$, i.e. 3-channel color images of $32 \\times 32$ pixels in size.\n",
        "\n",
        "<!-- <h4>Note:</h4>\n",
        "The output of torchvision datasets are PILImage images of range [0, 1].\n",
        "We transform them to Tensors of normalized range [-1, 1].\n",
        "\n",
        "1.   List item\n",
        "2.   List item -->\n",
        "\n"
      ],
      "metadata": {
        "id": "_F5FEYIHS704"
      }
    },
    {
      "cell_type": "code",
      "source": [
        "classes = ('plane', 'car', 'bird', 'cat', 'deer', 'dog', 'frog', 'horse',\n",
        "           'ship', 'truck')\n",
        "\n",
        "cifar_trainset = datasets.CIFAR10(root='./data', train=True, download=True,\n",
        "                                transform=transforms.ToTensor())\n",
        "cifar_testset = datasets.CIFAR10(root='./data', train=False, download=True,\n",
        "                               transform=transforms.ToTensor())\n",
        "print(\"Print the training dataset:\\n \", cifar_trainset)\n",
        "print(\"Print the testing dataset:\\n \", cifar_testset)\n",
        "\n",
        "train_loader = torch.utils.data.DataLoader(cifar_trainset, batch_size=4, shuffle=True)\n",
        "test_loader = torch.utils.data.DataLoader(cifar_testset, batch_size=1, shuffle=False)"
      ],
      "metadata": {
        "id": "c1xu-FWVS0nV",
        "outputId": "4e4bd67d-957f-471c-dd1c-0536389bebd0",
        "colab": {
          "base_uri": "https://localhost:8080/"
        }
      },
      "execution_count": null,
      "outputs": [
        {
          "output_type": "stream",
          "name": "stdout",
          "text": [
            "Downloading https://www.cs.toronto.edu/~kriz/cifar-10-python.tar.gz to ./data/cifar-10-python.tar.gz\n"
          ]
        },
        {
          "output_type": "stream",
          "name": "stderr",
          "text": [
            "100%|██████████| 170498071/170498071 [00:03<00:00, 46950153.15it/s]\n"
          ]
        },
        {
          "output_type": "stream",
          "name": "stdout",
          "text": [
            "Extracting ./data/cifar-10-python.tar.gz to ./data\n",
            "Files already downloaded and verified\n",
            "Print the training dataset:\n",
            "  Dataset CIFAR10\n",
            "    Number of datapoints: 50000\n",
            "    Root location: ./data\n",
            "    Split: Train\n",
            "    StandardTransform\n",
            "Transform: ToTensor()\n",
            "Print the testing dataset:\n",
            "  Dataset CIFAR10\n",
            "    Number of datapoints: 10000\n",
            "    Root location: ./data\n",
            "    Split: Test\n",
            "    StandardTransform\n",
            "Transform: ToTensor()\n"
          ]
        }
      ]
    },
    {
      "cell_type": "code",
      "source": [
        "# visualize the different classes of the cifar dataset\n",
        "\n",
        "def cifar_imshow(img):\n",
        "  npimg = img.numpy()\n",
        "  return np.transpose(npimg, (1, 2, 0)) # reorganize the channel\n",
        "\n",
        "# mapping from numeric label to class label\n",
        "label_map = {\n",
        "    0: 'airplane',\n",
        "    1: 'automobile',\n",
        "    2: 'bird',\n",
        "    3: 'cat',\n",
        "    4: 'deer',\n",
        "    5: 'dog',\n",
        "    6: 'frog',\n",
        "    7: 'horse',\n",
        "    8: 'ship',\n",
        "    9: 'truck'\n",
        "}\n",
        "\n",
        "# for each class in the cifar dataset, load one image and display it in a 2 x 5 subplot\n",
        "fig, axs = plt.subplots(2, 5, figsize = (10, 4))\n",
        "\n",
        "for i in range(10):\n",
        "  ax = axs[i // 5, i % 5]\n",
        "  idx = next(idx for idx, label in enumerate(cifar_trainset.targets) if label == i)\n",
        "  img, label = cifar_trainset[idx]\n",
        "  ax.imshow(cifar_imshow(img))\n",
        "  ax.axis('off')\n",
        "  ax.set_title(label_map[label])"
      ],
      "metadata": {
        "id": "CMRBln1CTB-e",
        "outputId": "c0c57190-3d41-4998-a58e-3ec54b3a7888",
        "colab": {
          "base_uri": "https://localhost:8080/",
          "height": 360
        }
      },
      "execution_count": null,
      "outputs": [
        {
          "output_type": "display_data",
          "data": {
            "text/plain": [
              "<Figure size 1000x400 with 10 Axes>"
            ],
            "image/png": "[encoded data removed]"
          },
          "metadata": {}
        }
      ]
    },
    {
      "cell_type": "code",
      "source": [
        "# print out dimensions of a sample batch from the cifar10 dataset\n",
        "for batch_id, (data, label) in enumerate(train_loader):\n",
        "  print('batch_id:', batch_id)\n",
        "  print(data.shape)\n",
        "  print(label.shape)\n",
        "  break"
      ],
      "metadata": {
        "id": "Fxy6bICOV1y2",
        "outputId": "c55c9216-e675-4f88-fe9d-6c529c8a76fc",
        "colab": {
          "base_uri": "https://localhost:8080/"
        }
      },
      "execution_count": null,
      "outputs": [
        {
          "output_type": "stream",
          "name": "stdout",
          "text": [
            "batch_id: 0\n",
            "torch.Size([4, 3, 32, 32])\n",
            "torch.Size([4])\n"
          ]
        }
      ]
    },
    {
      "cell_type": "markdown",
      "source": [
        "# 1-a. Define Convolutional Neural Network\n",
        "\n",
        "---\n",
        "\n",
        "\n",
        "\n"
      ],
      "metadata": {
        "id": "2P6g6VB_TJn-"
      }
    },
    {
      "cell_type": "code",
      "source": [
        "device = torch.device(\"cuda:0\" if torch.cuda.is_available() else \"cpu\")\n",
        "print(device)"
      ],
      "metadata": {
        "id": "0WE5a7WATg1y",
        "outputId": "12032cfc-4135-4ddc-d2c2-2ed63ed9d043",
        "colab": {
          "base_uri": "https://localhost:8080/"
        }
      },
      "execution_count": null,
      "outputs": [
        {
          "output_type": "stream",
          "name": "stdout",
          "text": [
            "cuda:0\n"
          ]
        }
      ]
    },
    {
      "cell_type": "markdown",
      "source": [
        "## CNN Model\n",
        "\n",
        "Reading before implementation:\n",
        "1. Official documentation: https://pytorch.org/docs/stable/generated/torch.nn.Conv2d.html, make sure that you understand what are x,y,z in nn.Conv2d(x,y,z) representing individually.\n",
        "2. Additional Animation on Convolution: https://towardsdatascience.com/conv2d-to-finally-understand-what-happens-in-the-forward-pass-1bbaafb0b148.\n",
        "\n",
        "This is a very standard CNN pytorch model, the layers are already defined for you, in constrat with the `nn.Sequential()` method we taught in tutorial, we will be using another way to define our model:"
      ],
      "metadata": {
        "id": "iVoQbrKpyL-n"
      }
    },
    {
      "cell_type": "code",
      "source": [
        "import torch.nn as nn\n",
        "import torch.nn.functional as F\n",
        "import torch.optim as optim\n",
        "from torch.utils.data import Dataset, DataLoader, random_split\n",
        "\n",
        "class Net(nn.Module):\n",
        "    def __init__(self):\n",
        "        super().__init__()\n",
        "        # Read through official documentation: https://pytorch.org/docs/stable/generated/torch.nn.Conv2d.html\n",
        "        # and make sure you understand the concept of 2D convolution and Conv2d layer's definition\n",
        "        # Here is also some cool animation: https://towardsdatascience.com/conv2d-to-finally-understand-what-happens-in-the-forward-pass-1bbaafb0b148\n",
        "        self.conv1 = nn.Conv2d(3, 6, 5)\n",
        "        self.pool = nn.MaxPool2d(2, 2)\n",
        "        self.conv2 = nn.Conv2d(6, 16, 5)\n",
        "\n",
        "        # TODO: replace the xxx and yyy with proper numbers\n",
        "        output_dim_after_conv = 400\n",
        "        output_dim_after_fc = 10\n",
        "        #\n",
        "\n",
        "        self.fc1 = nn.Linear(output_dim_after_conv, 120)\n",
        "        self.fc2 = nn.Linear(120, 84)\n",
        "        self.fc3 = nn.Linear(84, output_dim_after_fc)\n",
        "\n",
        "    def forward(self, x):\n",
        "      # TODO: build your forward function\n",
        "      # 1. First pass the x through the first conv layer followed by relu then pooling\n",
        "      x = self.pool(F.relu(self.conv1(x)))\n",
        "      # 2. Then pass the output of step 1 through the second conv layer followed by relu then pooling\n",
        "      x = self.pool(F.relu(self.conv2(x)))\n",
        "      # 3. Flatten the tensor\n",
        "      x = torch.flatten(x, 1)\n",
        "      # 4. Finally pass the output of step 3 into `fc1`, `fc2`, and `fc3` (remember the relu!)\n",
        "      x = F.relu(self.fc1(x))\n",
        "      x = F.relu(self.fc2(x))\n",
        "      x = (self.fc3(x))\n",
        "\n",
        "\n",
        "\n",
        "        # ENDS HERE\n",
        "      return x\n",
        "\n",
        "my_cnn = Net().to(device)  # operate on GPU"
      ],
      "metadata": {
        "id": "1RVEogCATTnp"
      },
      "execution_count": null,
      "outputs": []
    },
    {
      "cell_type": "markdown",
      "source": [
        "After finishing the TODO in `forward()` try to run the next code block.\n",
        "```\n",
        "Net(\n",
        "  (conv1): Conv2d(3, 6, kernel_size=(5, 5), stride=(1, 1))\n",
        "  (pool): MaxPool2d(kernel_size=2, stride=2, padding=0, dilation=1, ceil_mode=False)\n",
        "  (conv2): Conv2d(6, 16, kernel_size=(5, 5), stride=(1, 1))\n",
        "  (fc1): Linear(in_features=output_dim_after_conv, out_features=120, bias=True)\n",
        "  (fc2): Linear(in_features=120, out_features=84, bias=True)\n",
        "  (fc3): Linear(in_features=84, out_features=output_dim_after_fc, bias=True)\n",
        ")\n",
        "```\n",
        "You should get the exact same output as above with `print(my_cnn)`, with the values you've defined for output_dim_after_conv and output_dim_after_fc."
      ],
      "metadata": {
        "id": "ePtm2pJ00NES"
      }
    },
    {
      "cell_type": "code",
      "source": [
        "print(my_cnn)"
      ],
      "metadata": {
        "id": "Qen4rnbMrEH0",
        "outputId": "4f66c35c-1f4f-49ee-a8e2-c25eaca45b4f",
        "colab": {
          "base_uri": "https://localhost:8080/"
        }
      },
      "execution_count": null,
      "outputs": [
        {
          "output_type": "stream",
          "name": "stdout",
          "text": [
            "Net(\n",
            "  (conv1): Conv2d(3, 6, kernel_size=(5, 5), stride=(1, 1))\n",
            "  (pool): MaxPool2d(kernel_size=2, stride=2, padding=0, dilation=1, ceil_mode=False)\n",
            "  (conv2): Conv2d(6, 16, kernel_size=(5, 5), stride=(1, 1))\n",
            "  (fc1): Linear(in_features=400, out_features=120, bias=True)\n",
            "  (fc2): Linear(in_features=120, out_features=84, bias=True)\n",
            "  (fc3): Linear(in_features=84, out_features=10, bias=True)\n",
            ")\n"
          ]
        }
      ]
    },
    {
      "cell_type": "markdown",
      "source": [
        "## Training Loop\n",
        "\n",
        "Define your training loop, it should looks very similiar (almost the same) to what you did for MLP in hw2:"
      ],
      "metadata": {
        "id": "m9qH5KCPznij"
      }
    },
    {
      "cell_type": "code",
      "source": [
        "def trainer(train_loader, valid_loader, model, config, device):\n",
        "\n",
        "    # Define loss function (CrossEntropyLoss) and optimizer (SGD)\n",
        "    criterion = nn.CrossEntropyLoss(reduction='mean')\n",
        "    optimizer = torch.optim.SGD(model.parameters(), lr=config['learning_rate'], momentum=0.7)\n",
        "\n",
        "    # Create directory for saving models if it doesn't exist\n",
        "    if not os.path.isdir('./models'):\n",
        "        os.mkdir('./models')\n",
        "\n",
        "    # Extract configuration parameters\n",
        "    n_epochs, best_loss, step, early_stop_count = config['n_epochs'], math.inf, 0, 0\n",
        "\n",
        "    # Initialize lists to store training and validation metrics\n",
        "    train_loss_epoch_history = []\n",
        "    train_acc_history = []\n",
        "    valid_loss_history = []\n",
        "    valid_acc_history = []\n",
        "    train_loss_batch_history = []\n",
        "    train_accuracy = []  # List to store training accuracy for each batch\n",
        "\n",
        "    # Loop over epochs\n",
        "    for epoch in range(n_epochs):\n",
        "        model.train()  # Set the model to train mode\n",
        "        loss_record = []  # List to store losses for each batch\n",
        "\n",
        "        # tqdm is used to create a progress bar for training\n",
        "        train_pbar = tqdm(train_loader, position=0, leave=True)\n",
        "\n",
        "        # Loop over batches in the training data loader\n",
        "        for x, y in train_pbar:\n",
        "            optimizer.zero_grad()  # Reset gradients\n",
        "            x, y = x.to(device), y.to(device)  # Move data to device (GPU)\n",
        "            pred = model(x)  # Forward pass\n",
        "            loss = criterion(pred, y)  # Compute loss\n",
        "            loss.backward()  # Backpropagation\n",
        "            optimizer.step()  # Update model parameters\n",
        "            step += 1  # Increment step counter\n",
        "            _, predicted = torch.max(pred.data, 1)  # Get predicted labels\n",
        "            train_accuracy.append((predicted == y).sum().item() / predicted.size(0))  # Compute accuracy\n",
        "\n",
        "            loss_record.append(loss.detach().item())  # Record loss for this batch\n",
        "\n",
        "            # Update progress bar with current epoch number and loss\n",
        "            train_pbar.set_description(f'Epoch [{epoch+1}/{n_epochs}]')\n",
        "            train_pbar.set_postfix({'loss': loss.detach().item()})\n",
        "\n",
        "            train_loss_batch_history.append(loss.detach().item())  # Store loss for visualization\n",
        "\n",
        "        # Calculate mean training loss for this epoch\n",
        "        mean_train_loss = sum(loss_record) / len(loss_record)\n",
        "        train_loss_epoch_history.append(mean_train_loss)  # Store epoch loss\n",
        "\n",
        "        # Compute overall training accuracy for this epoch\n",
        "        overall_train_accuracy = np.mean(train_accuracy)\n",
        "        train_acc_history.append(overall_train_accuracy)  # Store training accuracy\n",
        "\n",
        "        model.eval()  # Set the model to evaluation mode\n",
        "        loss_record = []  # Reset loss record for validation\n",
        "\n",
        "        val_accuracy = []  # List to store validation accuracy\n",
        "\n",
        "        # Loop over batches in the validation data loader\n",
        "        for x, y in valid_loader:\n",
        "            x, y = x.to(device), y.to(device)  # Move data to device (GPU)\n",
        "            with torch.no_grad():  # Disable gradient calculation\n",
        "                pred = model(x)  # Forward pass\n",
        "                loss = criterion(pred, y)  # Compute loss\n",
        "\n",
        "                _, predicted = torch.max(pred.data, 1)  # Get predicted labels\n",
        "                val_accuracy.append((predicted == y).sum().item() / predicted.size(0))  # Compute accuracy\n",
        "\n",
        "            loss_record.append(loss.item())  # Record loss for this batch\n",
        "\n",
        "        # Print training accuracy for this epoch\n",
        "        print(f' training accuracy: {overall_train_accuracy}')\n",
        "\n",
        "        # Calculate mean validation loss for this epoch\n",
        "        mean_valid_loss = sum(loss_record) / len(loss_record)\n",
        "        valid_loss_history.append(mean_valid_loss)  # Store epoch loss\n",
        "\n",
        "        # Compute overall validation accuracy for this epoch\n",
        "        overall_val_accuracy = np.mean(val_accuracy)\n",
        "        valid_acc_history.append(overall_val_accuracy)  # Store validation accuracy\n",
        "\n",
        "        print(f' validation accuracy: {overall_val_accuracy}')\n",
        "\n",
        "    # Return all computed metrics\n",
        "    return train_loss_epoch_history, train_acc_history, valid_loss_history, valid_acc_history"
      ],
      "metadata": {
        "id": "8lH6Gd3qTn3X"
      },
      "execution_count": null,
      "outputs": []
    },
    {
      "cell_type": "code",
      "source": [
        "config = { # do not modified\n",
        "    'seed': 5201314,      # Your seed number, you can pick your lucky number. :)\n",
        "    'valid_ratio': 0.2,   # validation_size = train_size * valid_ratio\n",
        "    'n_epochs': 250,      # Number of epochs.\n",
        "    'batch_size': 256,\n",
        "    'learning_rate': 0.01,\n",
        "    'early_stop': 25,    # If model has not improved for this many consecutive epochs, stop training.\n",
        "    'save_path': './models/model.ckpt'  # Your model will be saved here.\n",
        "}"
      ],
      "metadata": {
        "id": "2h46qscKjQJK"
      },
      "execution_count": null,
      "outputs": []
    },
    {
      "cell_type": "code",
      "source": [
        "cifar_train_data, cifar_valid_data = random_split(cifar_trainset, [1-config['valid_ratio'], config['valid_ratio']])\n",
        "\n",
        "train_loader = torch.utils.data.DataLoader(cifar_train_data, batch_size=config['batch_size'], shuffle=True)\n",
        "valid_loader = torch.utils.data.DataLoader(cifar_valid_data, batch_size=config['batch_size'], shuffle=True)\n",
        "test_loader = torch.utils.data.DataLoader(cifar_testset, batch_size=config['batch_size'], shuffle=False)"
      ],
      "metadata": {
        "id": "oRi42R2LHMh3"
      },
      "execution_count": null,
      "outputs": []
    },
    {
      "cell_type": "code",
      "source": [
        "train_loss_epoch_history, train_acc_history, valid_loss_history, valid_acc_history = trainer(train_loader, valid_loader, my_cnn, config, device)"
      ],
      "metadata": {
        "id": "vqYuC6bkjqE4",
        "outputId": "6f828c27-51f7-41ea-d49c-0aa8079bdae0",
        "colab": {
          "base_uri": "https://localhost:8080/"
        }
      },
      "execution_count": null,
      "outputs": [
        {
          "output_type": "stream",
          "name": "stderr",
          "text": [
            "Epoch [1/250]: 100%|██████████| 157/157 [00:07<00:00, 21.01it/s, loss=1.03]\n"
          ]
        },
        {
          "output_type": "stream",
          "name": "stdout",
          "text": [
            " training accuracy: 0.6097482085987261\n",
            " validation accuracy: 0.591015625\n"
          ]
        },
        {
          "output_type": "stream",
          "name": "stderr",
          "text": [
            "Epoch [2/250]: 100%|██████████| 157/157 [00:09<00:00, 16.37it/s, loss=1.03]\n"
          ]
        },
        {
          "output_type": "stream",
          "name": "stdout",
          "text": [
            " training accuracy: 0.613094645700637\n",
            " validation accuracy: 0.6080078125\n"
          ]
        },
        {
          "output_type": "stream",
          "name": "stderr",
          "text": [
            "Epoch [3/250]: 100%|██████████| 157/157 [00:07<00:00, 21.50it/s, loss=0.971]\n"
          ]
        },
        {
          "output_type": "stream",
          "name": "stdout",
          "text": [
            " training accuracy: 0.6147823779193206\n",
            " validation accuracy: 0.57958984375\n"
          ]
        },
        {
          "output_type": "stream",
          "name": "stderr",
          "text": [
            "Epoch [4/250]: 100%|██████████| 157/157 [00:07<00:00, 19.64it/s, loss=1.13]\n"
          ]
        },
        {
          "output_type": "stream",
          "name": "stdout",
          "text": [
            " training accuracy: 0.6174674064490446\n",
            " validation accuracy: 0.60185546875\n"
          ]
        },
        {
          "output_type": "stream",
          "name": "stderr",
          "text": [
            "Epoch [5/250]: 100%|██████████| 157/157 [00:08<00:00, 17.64it/s, loss=0.949]\n"
          ]
        },
        {
          "output_type": "stream",
          "name": "stdout",
          "text": [
            " training accuracy: 0.620188097133758\n",
            " validation accuracy: 0.5986328125\n"
          ]
        },
        {
          "output_type": "stream",
          "name": "stderr",
          "text": [
            "Epoch [6/250]: 100%|██████████| 157/157 [00:06<00:00, 22.46it/s, loss=1.15]\n"
          ]
        },
        {
          "output_type": "stream",
          "name": "stdout",
          "text": [
            " training accuracy: 0.6225119426751592\n",
            " validation accuracy: 0.582421875\n"
          ]
        },
        {
          "output_type": "stream",
          "name": "stderr",
          "text": [
            "Epoch [7/250]: 100%|██████████| 157/157 [00:07<00:00, 19.67it/s, loss=1.1]\n"
          ]
        },
        {
          "output_type": "stream",
          "name": "stdout",
          "text": [
            " training accuracy: 0.6250035543676069\n",
            " validation accuracy: 0.592578125\n"
          ]
        },
        {
          "output_type": "stream",
          "name": "stderr",
          "text": [
            "Epoch [8/250]: 100%|██████████| 157/157 [00:08<00:00, 19.02it/s, loss=0.861]\n"
          ]
        },
        {
          "output_type": "stream",
          "name": "stdout",
          "text": [
            " training accuracy: 0.6270277667197452\n",
            " validation accuracy: 0.60634765625\n"
          ]
        },
        {
          "output_type": "stream",
          "name": "stderr",
          "text": [
            "Epoch [9/250]: 100%|██████████| 157/157 [00:06<00:00, 22.49it/s, loss=0.672]\n"
          ]
        },
        {
          "output_type": "stream",
          "name": "stdout",
          "text": [
            " training accuracy: 0.6292766940905874\n",
            " validation accuracy: 0.59638671875\n"
          ]
        },
        {
          "output_type": "stream",
          "name": "stderr",
          "text": [
            "Epoch [10/250]: 100%|██████████| 157/157 [00:08<00:00, 17.99it/s, loss=0.984]\n"
          ]
        },
        {
          "output_type": "stream",
          "name": "stdout",
          "text": [
            " training accuracy: 0.6314042595541401\n",
            " validation accuracy: 0.59736328125\n"
          ]
        },
        {
          "output_type": "stream",
          "name": "stderr",
          "text": [
            "Epoch [11/250]: 100%|██████████| 157/157 [00:07<00:00, 19.63it/s, loss=1.03]\n"
          ]
        },
        {
          "output_type": "stream",
          "name": "stdout",
          "text": [
            " training accuracy: 0.6336742725825131\n",
            " validation accuracy: 0.61591796875\n"
          ]
        },
        {
          "output_type": "stream",
          "name": "stderr",
          "text": [
            "Epoch [12/250]: 100%|██████████| 157/157 [00:07<00:00, 22.11it/s, loss=0.771]\n"
          ]
        },
        {
          "output_type": "stream",
          "name": "stdout",
          "text": [
            " training accuracy: 0.6357940220276008\n",
            " validation accuracy: 0.608984375\n"
          ]
        },
        {
          "output_type": "stream",
          "name": "stderr",
          "text": [
            "Epoch [13/250]: 100%|██████████| 157/157 [00:09<00:00, 17.34it/s, loss=1.05]\n"
          ]
        },
        {
          "output_type": "stream",
          "name": "stdout",
          "text": [
            " training accuracy: 0.6378804813816756\n",
            " validation accuracy: 0.60478515625\n"
          ]
        },
        {
          "output_type": "stream",
          "name": "stderr",
          "text": [
            "Epoch [14/250]: 100%|██████████| 157/157 [00:07<00:00, 19.70it/s, loss=0.945]\n"
          ]
        },
        {
          "output_type": "stream",
          "name": "stdout",
          "text": [
            " training accuracy: 0.640018980323021\n",
            " validation accuracy: 0.6048828125\n"
          ]
        },
        {
          "output_type": "stream",
          "name": "stderr",
          "text": [
            "Epoch [15/250]: 100%|██████████| 157/157 [00:07<00:00, 21.30it/s, loss=1.13]\n"
          ]
        },
        {
          "output_type": "stream",
          "name": "stdout",
          "text": [
            " training accuracy: 0.6419801618895966\n",
            " validation accuracy: 0.60185546875\n"
          ]
        },
        {
          "output_type": "stream",
          "name": "stderr",
          "text": [
            "Epoch [16/250]: 100%|██████████| 157/157 [00:06<00:00, 22.45it/s, loss=0.99]\n"
          ]
        },
        {
          "output_type": "stream",
          "name": "stdout",
          "text": [
            " training accuracy: 0.6439123457404459\n",
            " validation accuracy: 0.60517578125\n"
          ]
        },
        {
          "output_type": "stream",
          "name": "stderr",
          "text": [
            "Epoch [17/250]: 100%|██████████| 157/157 [00:07<00:00, 19.72it/s, loss=1.14]\n"
          ]
        },
        {
          "output_type": "stream",
          "name": "stdout",
          "text": [
            " training accuracy: 0.6457913778568752\n",
            " validation accuracy: 0.58193359375\n"
          ]
        },
        {
          "output_type": "stream",
          "name": "stderr",
          "text": [
            "Epoch [18/250]: 100%|██████████| 157/157 [00:07<00:00, 21.03it/s, loss=0.995]\n"
          ]
        },
        {
          "output_type": "stream",
          "name": "stdout",
          "text": [
            " training accuracy: 0.6477726357926398\n",
            " validation accuracy: 0.6146484375\n"
          ]
        },
        {
          "output_type": "stream",
          "name": "stderr",
          "text": [
            "Epoch [19/250]: 100%|██████████| 157/157 [00:07<00:00, 22.43it/s, loss=0.696]\n"
          ]
        },
        {
          "output_type": "stream",
          "name": "stdout",
          "text": [
            " training accuracy: 0.6499355724103252\n",
            " validation accuracy: 0.61220703125\n"
          ]
        },
        {
          "output_type": "stream",
          "name": "stderr",
          "text": [
            "Epoch [20/250]: 100%|██████████| 157/157 [00:08<00:00, 19.57it/s, loss=1.02]\n"
          ]
        },
        {
          "output_type": "stream",
          "name": "stdout",
          "text": [
            " training accuracy: 0.6518249900477707\n",
            " validation accuracy: 0.60732421875\n"
          ]
        },
        {
          "output_type": "stream",
          "name": "stderr",
          "text": [
            "Epoch [21/250]: 100%|██████████| 157/157 [00:07<00:00, 20.76it/s, loss=0.989]\n"
          ]
        },
        {
          "output_type": "stream",
          "name": "stdout",
          "text": [
            " training accuracy: 0.6537098119502578\n",
            " validation accuracy: 0.587890625\n"
          ]
        },
        {
          "output_type": "stream",
          "name": "stderr",
          "text": [
            "Epoch [22/250]: 100%|██████████| 157/157 [00:07<00:00, 22.36it/s, loss=0.863]\n"
          ]
        },
        {
          "output_type": "stream",
          "name": "stdout",
          "text": [
            " training accuracy: 0.6555273324406485\n",
            " validation accuracy: 0.60185546875\n"
          ]
        },
        {
          "output_type": "stream",
          "name": "stderr",
          "text": [
            "Epoch [23/250]: 100%|██████████| 157/157 [00:08<00:00, 19.31it/s, loss=0.861]\n"
          ]
        },
        {
          "output_type": "stream",
          "name": "stdout",
          "text": [
            " training accuracy: 0.6574529216283578\n",
            " validation accuracy: 0.620703125\n"
          ]
        },
        {
          "output_type": "stream",
          "name": "stderr",
          "text": [
            "Epoch [24/250]: 100%|██████████| 157/157 [00:07<00:00, 19.77it/s, loss=0.833]\n"
          ]
        },
        {
          "output_type": "stream",
          "name": "stdout",
          "text": [
            " training accuracy: 0.6593154939623143\n",
            " validation accuracy: 0.611328125\n"
          ]
        },
        {
          "output_type": "stream",
          "name": "stderr",
          "text": [
            "Epoch [25/250]: 100%|██████████| 157/157 [00:06<00:00, 22.49it/s, loss=0.746]\n"
          ]
        },
        {
          "output_type": "stream",
          "name": "stdout",
          "text": [
            " training accuracy: 0.6612151671974522\n",
            " validation accuracy: 0.6234375\n"
          ]
        },
        {
          "output_type": "stream",
          "name": "stderr",
          "text": [
            "Epoch [26/250]: 100%|██████████| 157/157 [00:07<00:00, 20.14it/s, loss=0.678]\n"
          ]
        },
        {
          "output_type": "stream",
          "name": "stdout",
          "text": [
            " training accuracy: 0.6629620131063204\n",
            " validation accuracy: 0.61552734375\n"
          ]
        },
        {
          "output_type": "stream",
          "name": "stderr",
          "text": [
            "Epoch [27/250]: 100%|██████████| 157/157 [00:08<00:00, 19.49it/s, loss=0.713]\n"
          ]
        },
        {
          "output_type": "stream",
          "name": "stdout",
          "text": [
            " training accuracy: 0.6647084734017457\n",
            " validation accuracy: 0.6115234375\n"
          ]
        },
        {
          "output_type": "stream",
          "name": "stderr",
          "text": [
            "Epoch [28/250]: 100%|██████████| 157/157 [00:07<00:00, 22.07it/s, loss=0.794]\n"
          ]
        },
        {
          "output_type": "stream",
          "name": "stdout",
          "text": [
            " training accuracy: 0.66646791827798\n",
            " validation accuracy: 0.59453125\n"
          ]
        },
        {
          "output_type": "stream",
          "name": "stderr",
          "text": [
            "Epoch [29/250]: 100%|██████████| 157/157 [00:07<00:00, 20.21it/s, loss=0.559]\n"
          ]
        },
        {
          "output_type": "stream",
          "name": "stdout",
          "text": [
            " training accuracy: 0.6682295670437074\n",
            " validation accuracy: 0.62529296875\n"
          ]
        },
        {
          "output_type": "stream",
          "name": "stderr",
          "text": [
            "Epoch [30/250]: 100%|██████████| 157/157 [00:08<00:00, 17.54it/s, loss=0.568]\n"
          ]
        },
        {
          "output_type": "stream",
          "name": "stdout",
          "text": [
            " training accuracy: 0.6700587181528662\n",
            " validation accuracy: 0.62060546875\n"
          ]
        },
        {
          "output_type": "stream",
          "name": "stderr",
          "text": [
            "Epoch [31/250]: 100%|██████████| 157/157 [00:07<00:00, 21.66it/s, loss=0.761]\n"
          ]
        },
        {
          "output_type": "stream",
          "name": "stdout",
          "text": [
            " training accuracy: 0.6717209009656873\n",
            " validation accuracy: 0.62373046875\n"
          ]
        },
        {
          "output_type": "stream",
          "name": "stderr",
          "text": [
            "Epoch [32/250]: 100%|██████████| 157/157 [00:07<00:00, 21.50it/s, loss=0.944]\n"
          ]
        },
        {
          "output_type": "stream",
          "name": "stdout",
          "text": [
            " training accuracy: 0.6733717219844745\n",
            " validation accuracy: 0.592578125\n"
          ]
        },
        {
          "output_type": "stream",
          "name": "stderr",
          "text": [
            "Epoch [33/250]: 100%|██████████| 157/157 [00:09<00:00, 16.66it/s, loss=0.844]\n"
          ]
        },
        {
          "output_type": "stream",
          "name": "stdout",
          "text": [
            " training accuracy: 0.6749903493534066\n",
            " validation accuracy: 0.6197265625\n"
          ]
        },
        {
          "output_type": "stream",
          "name": "stderr",
          "text": [
            "Epoch [34/250]: 100%|██████████| 157/157 [00:09<00:00, 16.99it/s, loss=0.869]\n"
          ]
        },
        {
          "output_type": "stream",
          "name": "stdout",
          "text": [
            " training accuracy: 0.6766440204664669\n",
            " validation accuracy: 0.61064453125\n"
          ]
        },
        {
          "output_type": "stream",
          "name": "stderr",
          "text": [
            "Epoch [35/250]: 100%|██████████| 157/157 [00:07<00:00, 19.63it/s, loss=0.889]\n"
          ]
        },
        {
          "output_type": "stream",
          "name": "stdout",
          "text": [
            " training accuracy: 0.6784057950409463\n",
            " validation accuracy: 0.61044921875\n"
          ]
        },
        {
          "output_type": "stream",
          "name": "stderr",
          "text": [
            "Epoch [36/250]: 100%|██████████| 157/157 [00:07<00:00, 20.22it/s, loss=0.874]\n"
          ]
        },
        {
          "output_type": "stream",
          "name": "stdout",
          "text": [
            " training accuracy: 0.6799680975760792\n",
            " validation accuracy: 0.6205078125\n"
          ]
        },
        {
          "output_type": "stream",
          "name": "stderr",
          "text": [
            "Epoch [37/250]: 100%|██████████| 157/157 [00:08<00:00, 17.74it/s, loss=0.884]\n"
          ]
        },
        {
          "output_type": "stream",
          "name": "stdout",
          "text": [
            " training accuracy: 0.6815790960148046\n",
            " validation accuracy: 0.598046875\n"
          ]
        },
        {
          "output_type": "stream",
          "name": "stderr",
          "text": [
            "Epoch [38/250]: 100%|██████████| 157/157 [00:08<00:00, 19.46it/s, loss=0.845]\n"
          ]
        },
        {
          "output_type": "stream",
          "name": "stdout",
          "text": [
            " training accuracy: 0.6831760182701978\n",
            " validation accuracy: 0.6056640625\n"
          ]
        },
        {
          "output_type": "stream",
          "name": "stderr",
          "text": [
            "Epoch [39/250]: 100%|██████████| 157/157 [00:07<00:00, 22.17it/s, loss=0.697]\n"
          ]
        },
        {
          "output_type": "stream",
          "name": "stdout",
          "text": [
            " training accuracy: 0.6848077943818389\n",
            " validation accuracy: 0.5484375\n"
          ]
        },
        {
          "output_type": "stream",
          "name": "stderr",
          "text": [
            "Epoch [40/250]: 100%|██████████| 157/157 [00:07<00:00, 20.00it/s, loss=0.947]\n"
          ]
        },
        {
          "output_type": "stream",
          "name": "stdout",
          "text": [
            " training accuracy: 0.6863474074442675\n",
            " validation accuracy: 0.60966796875\n"
          ]
        },
        {
          "output_type": "stream",
          "name": "stderr",
          "text": [
            "Epoch [41/250]: 100%|██████████| 157/157 [00:08<00:00, 19.60it/s, loss=0.631]\n"
          ]
        },
        {
          "output_type": "stream",
          "name": "stdout",
          "text": [
            " training accuracy: 0.687875635971726\n",
            " validation accuracy: 0.6056640625\n"
          ]
        },
        {
          "output_type": "stream",
          "name": "stderr",
          "text": [
            "Epoch [42/250]: 100%|██████████| 157/157 [00:07<00:00, 22.17it/s, loss=0.833]\n"
          ]
        },
        {
          "output_type": "stream",
          "name": "stdout",
          "text": [
            " training accuracy: 0.6894554945784046\n",
            " validation accuracy: 0.60419921875\n"
          ]
        },
        {
          "output_type": "stream",
          "name": "stderr",
          "text": [
            "Epoch [43/250]: 100%|██████████| 157/157 [00:07<00:00, 20.24it/s, loss=0.755]\n"
          ]
        },
        {
          "output_type": "stream",
          "name": "stdout",
          "text": [
            " training accuracy: 0.6910006387942527\n",
            " validation accuracy: 0.60498046875\n"
          ]
        },
        {
          "output_type": "stream",
          "name": "stderr",
          "text": [
            "Epoch [44/250]: 100%|██████████| 157/157 [00:08<00:00, 19.41it/s, loss=0.987]\n"
          ]
        },
        {
          "output_type": "stream",
          "name": "stdout",
          "text": [
            " training accuracy: 0.6926118268674001\n",
            " validation accuracy: 0.5837890625\n"
          ]
        },
        {
          "output_type": "stream",
          "name": "stderr",
          "text": [
            "Epoch [45/250]: 100%|██████████| 157/157 [00:07<00:00, 22.06it/s, loss=0.622]\n"
          ]
        },
        {
          "output_type": "stream",
          "name": "stdout",
          "text": [
            " training accuracy: 0.6941221027954706\n",
            " validation accuracy: 0.6037109375\n"
          ]
        },
        {
          "output_type": "stream",
          "name": "stderr",
          "text": [
            "Epoch [46/250]: 100%|██████████| 157/157 [00:07<00:00, 20.97it/s, loss=0.714]\n"
          ]
        },
        {
          "output_type": "stream",
          "name": "stdout",
          "text": [
            " training accuracy: 0.6956554192052063\n",
            " validation accuracy: 0.6076171875\n"
          ]
        },
        {
          "output_type": "stream",
          "name": "stderr",
          "text": [
            "Epoch [47/250]: 100%|██████████| 157/157 [00:08<00:00, 19.23it/s, loss=0.801]\n"
          ]
        },
        {
          "output_type": "stream",
          "name": "stdout",
          "text": [
            " training accuracy: 0.6972124229231603\n",
            " validation accuracy: 0.608984375\n"
          ]
        },
        {
          "output_type": "stream",
          "name": "stderr",
          "text": [
            "Epoch [48/250]: 100%|██████████| 157/157 [00:07<00:00, 21.45it/s, loss=0.7]\n"
          ]
        },
        {
          "output_type": "stream",
          "name": "stdout",
          "text": [
            " training accuracy: 0.6987703813362527\n",
            " validation accuracy: 0.6220703125\n"
          ]
        },
        {
          "output_type": "stream",
          "name": "stderr",
          "text": [
            "Epoch [49/250]: 100%|██████████| 157/157 [00:07<00:00, 21.61it/s, loss=0.738]\n"
          ]
        },
        {
          "output_type": "stream",
          "name": "stdout",
          "text": [
            " training accuracy: 0.7002693195112439\n",
            " validation accuracy: 0.61318359375\n"
          ]
        },
        {
          "output_type": "stream",
          "name": "stderr",
          "text": [
            "Epoch [50/250]: 100%|██████████| 157/157 [00:08<00:00, 19.20it/s, loss=0.672]\n"
          ]
        },
        {
          "output_type": "stream",
          "name": "stdout",
          "text": [
            " training accuracy: 0.7018073248407644\n",
            " validation accuracy: 0.61826171875\n"
          ]
        },
        {
          "output_type": "stream",
          "name": "stderr",
          "text": [
            "Epoch [51/250]: 100%|██████████| 157/157 [00:07<00:00, 20.60it/s, loss=0.715]\n"
          ]
        },
        {
          "output_type": "stream",
          "name": "stdout",
          "text": [
            " training accuracy: 0.7032425729049582\n",
            " validation accuracy: 0.62080078125\n"
          ]
        },
        {
          "output_type": "stream",
          "name": "stderr",
          "text": [
            "Epoch [52/250]: 100%|██████████| 157/157 [00:07<00:00, 22.18it/s, loss=0.599]\n"
          ]
        },
        {
          "output_type": "stream",
          "name": "stdout",
          "text": [
            " training accuracy: 0.7046604184529642\n",
            " validation accuracy: 0.59765625\n"
          ]
        },
        {
          "output_type": "stream",
          "name": "stderr",
          "text": [
            "Epoch [53/250]: 100%|██████████| 157/157 [00:07<00:00, 19.86it/s, loss=0.653]\n"
          ]
        },
        {
          "output_type": "stream",
          "name": "stdout",
          "text": [
            " training accuracy: 0.7061242826883788\n",
            " validation accuracy: 0.59970703125\n"
          ]
        },
        {
          "output_type": "stream",
          "name": "stderr",
          "text": [
            "Epoch [54/250]: 100%|██████████| 157/157 [00:07<00:00, 20.12it/s, loss=0.491]\n"
          ]
        },
        {
          "output_type": "stream",
          "name": "stdout",
          "text": [
            " training accuracy: 0.7076477353149327\n",
            " validation accuracy: 0.617578125\n"
          ]
        },
        {
          "output_type": "stream",
          "name": "stderr",
          "text": [
            "Epoch [55/250]: 100%|██████████| 157/157 [00:07<00:00, 21.94it/s, loss=0.634]\n"
          ]
        },
        {
          "output_type": "stream",
          "name": "stdout",
          "text": [
            " training accuracy: 0.7091528843370006\n",
            " validation accuracy: 0.615234375\n"
          ]
        },
        {
          "output_type": "stream",
          "name": "stderr",
          "text": [
            "Epoch [56/250]: 100%|██████████| 157/157 [00:08<00:00, 19.30it/s, loss=0.627]\n"
          ]
        },
        {
          "output_type": "stream",
          "name": "stdout",
          "text": [
            " training accuracy: 0.7106020565570974\n",
            " validation accuracy: 0.604296875\n"
          ]
        },
        {
          "output_type": "stream",
          "name": "stderr",
          "text": [
            "Epoch [57/250]: 100%|██████████| 157/157 [00:08<00:00, 19.33it/s, loss=0.645]\n"
          ]
        },
        {
          "output_type": "stream",
          "name": "stdout",
          "text": [
            " training accuracy: 0.7120278802100793\n",
            " validation accuracy: 0.6041015625\n"
          ]
        },
        {
          "output_type": "stream",
          "name": "stderr",
          "text": [
            "Epoch [58/250]: 100%|██████████| 157/157 [00:07<00:00, 22.09it/s, loss=0.709]\n"
          ]
        },
        {
          "output_type": "stream",
          "name": "stdout",
          "text": [
            " training accuracy: 0.7134165488414232\n",
            " validation accuracy: 0.60224609375\n"
          ]
        },
        {
          "output_type": "stream",
          "name": "stderr",
          "text": [
            "Epoch [59/250]: 100%|██████████| 157/157 [00:08<00:00, 19.51it/s, loss=0.689]\n"
          ]
        },
        {
          "output_type": "stream",
          "name": "stdout",
          "text": [
            " training accuracy: 0.714809170220231\n",
            " validation accuracy: 0.61240234375\n"
          ]
        },
        {
          "output_type": "stream",
          "name": "stderr",
          "text": [
            "Epoch [60/250]: 100%|██████████| 157/157 [00:08<00:00, 19.45it/s, loss=0.592]\n"
          ]
        },
        {
          "output_type": "stream",
          "name": "stdout",
          "text": [
            " training accuracy: 0.7162312566348196\n",
            " validation accuracy: 0.6123046875\n"
          ]
        },
        {
          "output_type": "stream",
          "name": "stderr",
          "text": [
            "Epoch [61/250]: 100%|██████████| 157/157 [00:07<00:00, 22.04it/s, loss=0.647]\n"
          ]
        },
        {
          "output_type": "stream",
          "name": "stdout",
          "text": [
            " training accuracy: 0.7176462814555706\n",
            " validation accuracy: 0.61005859375\n"
          ]
        },
        {
          "output_type": "stream",
          "name": "stderr",
          "text": [
            "Epoch [62/250]: 100%|██████████| 157/157 [00:08<00:00, 19.34it/s, loss=0.702]\n"
          ]
        },
        {
          "output_type": "stream",
          "name": "stdout",
          "text": [
            " training accuracy: 0.7190309096979659\n",
            " validation accuracy: 0.598828125\n"
          ]
        },
        {
          "output_type": "stream",
          "name": "stderr",
          "text": [
            "Epoch [63/250]: 100%|██████████| 157/157 [00:08<00:00, 19.25it/s, loss=0.395]\n"
          ]
        },
        {
          "output_type": "stream",
          "name": "stdout",
          "text": [
            " training accuracy: 0.7204276615104641\n",
            " validation accuracy: 0.5822265625\n"
          ]
        },
        {
          "output_type": "stream",
          "name": "stderr",
          "text": [
            "Epoch [64/250]: 100%|██████████| 157/157 [00:07<00:00, 22.19it/s, loss=0.474]\n"
          ]
        },
        {
          "output_type": "stream",
          "name": "stdout",
          "text": [
            " training accuracy: 0.7218324697701035\n",
            " validation accuracy: 0.608984375\n"
          ]
        },
        {
          "output_type": "stream",
          "name": "stderr",
          "text": [
            "Epoch [65/250]: 100%|██████████| 157/157 [00:07<00:00, 20.06it/s, loss=0.463]\n"
          ]
        },
        {
          "output_type": "stream",
          "name": "stdout",
          "text": [
            " training accuracy: 0.7232158715090642\n",
            " validation accuracy: 0.61513671875\n"
          ]
        },
        {
          "output_type": "stream",
          "name": "stderr",
          "text": [
            "Epoch [66/250]: 100%|██████████| 157/157 [00:08<00:00, 19.46it/s, loss=0.658]\n"
          ]
        },
        {
          "output_type": "stream",
          "name": "stdout",
          "text": [
            " training accuracy: 0.7246086210432349\n",
            " validation accuracy: 0.59306640625\n"
          ]
        },
        {
          "output_type": "stream",
          "name": "stderr",
          "text": [
            "Epoch [67/250]: 100%|██████████| 157/157 [00:07<00:00, 21.86it/s, loss=0.438]\n"
          ]
        },
        {
          "output_type": "stream",
          "name": "stdout",
          "text": [
            " training accuracy: 0.7259441991871851\n",
            " validation accuracy: 0.6111328125\n"
          ]
        },
        {
          "output_type": "stream",
          "name": "stderr",
          "text": [
            "Epoch [68/250]: 100%|██████████| 157/157 [00:07<00:00, 20.84it/s, loss=0.613]\n"
          ]
        },
        {
          "output_type": "stream",
          "name": "stdout",
          "text": [
            " training accuracy: 0.7273202598117272\n",
            " validation accuracy: 0.604296875\n"
          ]
        },
        {
          "output_type": "stream",
          "name": "stderr",
          "text": [
            "Epoch [69/250]: 100%|██████████| 157/157 [00:08<00:00, 19.50it/s, loss=0.503]\n"
          ]
        },
        {
          "output_type": "stream",
          "name": "stdout",
          "text": [
            " training accuracy: 0.728686363426567\n",
            " validation accuracy: 0.60654296875\n"
          ]
        },
        {
          "output_type": "stream",
          "name": "stderr",
          "text": [
            "Epoch [70/250]: 100%|██████████| 157/157 [00:07<00:00, 20.86it/s, loss=0.419]\n"
          ]
        },
        {
          "output_type": "stream",
          "name": "stdout",
          "text": [
            " training accuracy: 0.7300159235668789\n",
            " validation accuracy: 0.59521484375\n"
          ]
        },
        {
          "output_type": "stream",
          "name": "stderr",
          "text": [
            "Epoch [71/250]: 100%|██████████| 157/157 [00:07<00:00, 21.91it/s, loss=0.462]\n"
          ]
        },
        {
          "output_type": "stream",
          "name": "stdout",
          "text": [
            " training accuracy: 0.7313437752310039\n",
            " validation accuracy: 0.6029296875\n"
          ]
        },
        {
          "output_type": "stream",
          "name": "stderr",
          "text": [
            "Epoch [72/250]: 100%|██████████| 157/157 [00:08<00:00, 19.52it/s, loss=0.509]\n"
          ]
        },
        {
          "output_type": "stream",
          "name": "stdout",
          "text": [
            " training accuracy: 0.7326347421266808\n",
            " validation accuracy: 0.59736328125\n"
          ]
        },
        {
          "output_type": "stream",
          "name": "stderr",
          "text": [
            "Epoch [73/250]: 100%|██████████| 157/157 [00:07<00:00, 20.43it/s, loss=0.453]\n"
          ]
        },
        {
          "output_type": "stream",
          "name": "stdout",
          "text": [
            " training accuracy: 0.7339922481676991\n",
            " validation accuracy: 0.6009765625\n"
          ]
        },
        {
          "output_type": "stream",
          "name": "stderr",
          "text": [
            "Epoch [74/250]: 100%|██████████| 157/157 [00:07<00:00, 22.15it/s, loss=0.566]\n"
          ]
        },
        {
          "output_type": "stream",
          "name": "stdout",
          "text": [
            " training accuracy: 0.7353339107419521\n",
            " validation accuracy: 0.5931640625\n"
          ]
        },
        {
          "output_type": "stream",
          "name": "stderr",
          "text": [
            "Epoch [75/250]: 100%|██████████| 157/157 [00:08<00:00, 19.30it/s, loss=0.613]\n"
          ]
        },
        {
          "output_type": "stream",
          "name": "stdout",
          "text": [
            " training accuracy: 0.7366480891719746\n",
            " validation accuracy: 0.59150390625\n"
          ]
        },
        {
          "output_type": "stream",
          "name": "stderr",
          "text": [
            "Epoch [76/250]: 100%|██████████| 157/157 [00:08<00:00, 19.35it/s, loss=0.343]\n"
          ]
        },
        {
          "output_type": "stream",
          "name": "stdout",
          "text": [
            " training accuracy: 0.7379535466602414\n",
            " validation accuracy: 0.603125\n"
          ]
        },
        {
          "output_type": "stream",
          "name": "stderr",
          "text": [
            "Epoch [77/250]: 100%|██████████| 157/157 [00:07<00:00, 21.98it/s, loss=0.414]\n"
          ]
        },
        {
          "output_type": "stream",
          "name": "stdout",
          "text": [
            " training accuracy: 0.7392351130159649\n",
            " validation accuracy: 0.61298828125\n"
          ]
        },
        {
          "output_type": "stream",
          "name": "stderr",
          "text": [
            "Epoch [78/250]: 100%|██████████| 157/157 [00:08<00:00, 19.17it/s, loss=0.564]\n"
          ]
        },
        {
          "output_type": "stream",
          "name": "stdout",
          "text": [
            " training accuracy: 0.7405396404948554\n",
            " validation accuracy: 0.5951171875\n"
          ]
        },
        {
          "output_type": "stream",
          "name": "stderr",
          "text": [
            "Epoch [79/250]: 100%|██████████| 157/157 [00:08<00:00, 19.36it/s, loss=0.459]\n"
          ]
        },
        {
          "output_type": "stream",
          "name": "stdout",
          "text": [
            " training accuracy: 0.7418048430823188\n",
            " validation accuracy: 0.59990234375\n"
          ]
        },
        {
          "output_type": "stream",
          "name": "stderr",
          "text": [
            "Epoch [80/250]: 100%|██████████| 157/157 [00:07<00:00, 21.88it/s, loss=0.503]\n"
          ]
        },
        {
          "output_type": "stream",
          "name": "stdout",
          "text": [
            " training accuracy: 0.7430598750995223\n",
            " validation accuracy: 0.59873046875\n"
          ]
        },
        {
          "output_type": "stream",
          "name": "stderr",
          "text": [
            "Epoch [81/250]: 100%|██████████| 157/157 [00:08<00:00, 19.59it/s, loss=0.542]\n"
          ]
        },
        {
          "output_type": "stream",
          "name": "stdout",
          "text": [
            " training accuracy: 0.7442842258394275\n",
            " validation accuracy: 0.50283203125\n"
          ]
        },
        {
          "output_type": "stream",
          "name": "stderr",
          "text": [
            "Epoch [82/250]: 100%|██████████| 157/157 [00:08<00:00, 19.20it/s, loss=0.317]\n"
          ]
        },
        {
          "output_type": "stream",
          "name": "stdout",
          "text": [
            " training accuracy: 0.7454896375446637\n",
            " validation accuracy: 0.6021484375\n"
          ]
        },
        {
          "output_type": "stream",
          "name": "stderr",
          "text": [
            "Epoch [83/250]: 100%|██████████| 157/157 [00:07<00:00, 21.90it/s, loss=0.427]\n"
          ]
        },
        {
          "output_type": "stream",
          "name": "stdout",
          "text": [
            " training accuracy: 0.7467817128386156\n",
            " validation accuracy: 0.60400390625\n"
          ]
        },
        {
          "output_type": "stream",
          "name": "stderr",
          "text": [
            "Epoch [84/250]: 100%|██████████| 157/157 [00:07<00:00, 20.57it/s, loss=0.31]\n"
          ]
        },
        {
          "output_type": "stream",
          "name": "stdout",
          "text": [
            " training accuracy: 0.7480335461214741\n",
            " validation accuracy: 0.59609375\n"
          ]
        },
        {
          "output_type": "stream",
          "name": "stderr",
          "text": [
            "Epoch [85/250]: 100%|██████████| 157/157 [00:08<00:00, 19.21it/s, loss=0.573]\n"
          ]
        },
        {
          "output_type": "stream",
          "name": "stdout",
          "text": [
            " training accuracy: 0.7492688038591233\n",
            " validation accuracy: 0.598046875\n"
          ]
        },
        {
          "output_type": "stream",
          "name": "stderr",
          "text": [
            "Epoch [86/250]: 100%|██████████| 157/157 [00:07<00:00, 21.45it/s, loss=0.61]\n"
          ]
        },
        {
          "output_type": "stream",
          "name": "stdout",
          "text": [
            " training accuracy: 0.7505135234594875\n",
            " validation accuracy: 0.56357421875\n"
          ]
        },
        {
          "output_type": "stream",
          "name": "stderr",
          "text": [
            "Epoch [87/250]: 100%|██████████| 157/157 [00:07<00:00, 21.40it/s, loss=0.558]\n"
          ]
        },
        {
          "output_type": "stream",
          "name": "stdout",
          "text": [
            " training accuracy: 0.7517199053737462\n",
            " validation accuracy: 0.59091796875\n"
          ]
        },
        {
          "output_type": "stream",
          "name": "stderr",
          "text": [
            "Epoch [88/250]: 100%|██████████| 157/157 [00:08<00:00, 19.25it/s, loss=0.362]\n"
          ]
        },
        {
          "output_type": "stream",
          "name": "stdout",
          "text": [
            " training accuracy: 0.7529180954147365\n",
            " validation accuracy: 0.5837890625\n"
          ]
        },
        {
          "output_type": "stream",
          "name": "stderr",
          "text": [
            "Epoch [89/250]: 100%|██████████| 157/157 [00:07<00:00, 20.91it/s, loss=0.441]\n"
          ]
        },
        {
          "output_type": "stream",
          "name": "stdout",
          "text": [
            " training accuracy: 0.7541284978172189\n",
            " validation accuracy: 0.59423828125\n"
          ]
        },
        {
          "output_type": "stream",
          "name": "stderr",
          "text": [
            "Epoch [90/250]: 100%|██████████| 157/157 [00:07<00:00, 21.86it/s, loss=0.554]\n"
          ]
        },
        {
          "output_type": "stream",
          "name": "stdout",
          "text": [
            " training accuracy: 0.7553750331740977\n",
            " validation accuracy: 0.60546875\n"
          ]
        },
        {
          "output_type": "stream",
          "name": "stderr",
          "text": [
            "Epoch [91/250]: 100%|██████████| 157/157 [00:08<00:00, 19.24it/s, loss=0.315]\n"
          ]
        },
        {
          "output_type": "stream",
          "name": "stdout",
          "text": [
            " training accuracy: 0.7565747598341149\n",
            " validation accuracy: 0.588671875\n"
          ]
        },
        {
          "output_type": "stream",
          "name": "stderr",
          "text": [
            "Epoch [92/250]: 100%|██████████| 157/157 [00:07<00:00, 19.85it/s, loss=0.433]\n"
          ]
        },
        {
          "output_type": "stream",
          "name": "stdout",
          "text": [
            " training accuracy: 0.757773556494046\n",
            " validation accuracy: 0.5740234375\n"
          ]
        },
        {
          "output_type": "stream",
          "name": "stderr",
          "text": [
            "Epoch [93/250]: 100%|██████████| 157/157 [00:07<00:00, 21.98it/s, loss=0.416]\n"
          ]
        },
        {
          "output_type": "stream",
          "name": "stdout",
          "text": [
            " training accuracy: 0.7589543310389699\n",
            " validation accuracy: 0.59873046875\n"
          ]
        },
        {
          "output_type": "stream",
          "name": "stderr",
          "text": [
            "Epoch [94/250]: 100%|██████████| 157/157 [00:08<00:00, 19.27it/s, loss=0.446]\n"
          ]
        },
        {
          "output_type": "stream",
          "name": "stdout",
          "text": [
            " training accuracy: 0.760177477893346\n",
            " validation accuracy: 0.57822265625\n"
          ]
        },
        {
          "output_type": "stream",
          "name": "stderr",
          "text": [
            "Epoch [95/250]: 100%|██████████| 157/157 [00:08<00:00, 19.08it/s, loss=0.401]\n"
          ]
        },
        {
          "output_type": "stream",
          "name": "stdout",
          "text": [
            " training accuracy: 0.7613565412336574\n",
            " validation accuracy: 0.59208984375\n"
          ]
        },
        {
          "output_type": "stream",
          "name": "stderr",
          "text": [
            "Epoch [96/250]: 100%|██████████| 157/157 [00:07<00:00, 21.75it/s, loss=0.382]\n"
          ]
        },
        {
          "output_type": "stream",
          "name": "stdout",
          "text": [
            " training accuracy: 0.7625341071191614\n",
            " validation accuracy: 0.59306640625\n"
          ]
        },
        {
          "output_type": "stream",
          "name": "stderr",
          "text": [
            "Epoch [97/250]: 100%|██████████| 157/157 [00:08<00:00, 19.46it/s, loss=0.315]\n"
          ]
        },
        {
          "output_type": "stream",
          "name": "stdout",
          "text": [
            " training accuracy: 0.7636776462669906\n",
            " validation accuracy: 0.5857421875\n"
          ]
        },
        {
          "output_type": "stream",
          "name": "stderr",
          "text": [
            "Epoch [98/250]: 100%|██████████| 157/157 [00:08<00:00, 19.26it/s, loss=0.698]\n"
          ]
        },
        {
          "output_type": "stream",
          "name": "stdout",
          "text": [
            " training accuracy: 0.7648577643637072\n",
            " validation accuracy: 0.5314453125\n"
          ]
        },
        {
          "output_type": "stream",
          "name": "stderr",
          "text": [
            "Epoch [99/250]: 100%|██████████| 157/157 [00:07<00:00, 21.94it/s, loss=0.165]\n"
          ]
        },
        {
          "output_type": "stream",
          "name": "stdout",
          "text": [
            " training accuracy: 0.7659808675931288\n",
            " validation accuracy: 0.58212890625\n"
          ]
        },
        {
          "output_type": "stream",
          "name": "stderr",
          "text": [
            "Epoch [100/250]: 100%|██████████| 157/157 [00:07<00:00, 19.96it/s, loss=0.404]\n"
          ]
        },
        {
          "output_type": "stream",
          "name": "stdout",
          "text": [
            " training accuracy: 0.7671145999203821\n",
            " validation accuracy: 0.591796875\n"
          ]
        },
        {
          "output_type": "stream",
          "name": "stderr",
          "text": [
            "Epoch [101/250]: 100%|██████████| 157/157 [00:08<00:00, 19.09it/s, loss=0.373]\n"
          ]
        },
        {
          "output_type": "stream",
          "name": "stdout",
          "text": [
            " training accuracy: 0.768307667749259\n",
            " validation accuracy: 0.57001953125\n"
          ]
        },
        {
          "output_type": "stream",
          "name": "stderr",
          "text": [
            "Epoch [102/250]: 100%|██████████| 157/157 [00:07<00:00, 22.02it/s, loss=0.416]\n"
          ]
        },
        {
          "output_type": "stream",
          "name": "stdout",
          "text": [
            " training accuracy: 0.7694544129355564\n",
            " validation accuracy: 0.5890625\n"
          ]
        },
        {
          "output_type": "stream",
          "name": "stderr",
          "text": [
            "Epoch [103/250]: 100%|██████████| 157/157 [00:07<00:00, 20.17it/s, loss=0.293]\n"
          ]
        },
        {
          "output_type": "stream",
          "name": "stdout",
          "text": [
            " training accuracy: 0.7705675379537443\n",
            " validation accuracy: 0.57705078125\n"
          ]
        },
        {
          "output_type": "stream",
          "name": "stderr",
          "text": [
            "Epoch [104/250]: 100%|██████████| 157/157 [00:08<00:00, 19.21it/s, loss=0.412]\n"
          ]
        },
        {
          "output_type": "stream",
          "name": "stdout",
          "text": [
            " training accuracy: 0.7716812664594561\n",
            " validation accuracy: 0.56376953125\n"
          ]
        },
        {
          "output_type": "stream",
          "name": "stderr",
          "text": [
            "Epoch [105/250]: 100%|██████████| 157/157 [00:07<00:00, 20.94it/s, loss=0.345]\n"
          ]
        },
        {
          "output_type": "stream",
          "name": "stdout",
          "text": [
            " training accuracy: 0.7728017421140431\n",
            " validation accuracy: 0.58876953125\n"
          ]
        },
        {
          "output_type": "stream",
          "name": "stderr",
          "text": [
            "Epoch [106/250]: 100%|██████████| 157/157 [00:07<00:00, 21.82it/s, loss=0.332]\n"
          ]
        },
        {
          "output_type": "stream",
          "name": "stdout",
          "text": [
            " training accuracy: 0.7739383975784161\n",
            " validation accuracy: 0.57900390625\n"
          ]
        },
        {
          "output_type": "stream",
          "name": "stderr",
          "text": [
            "Epoch [107/250]: 100%|██████████| 157/157 [00:08<00:00, 19.25it/s, loss=0.431]\n"
          ]
        },
        {
          "output_type": "stream",
          "name": "stdout",
          "text": [
            " training accuracy: 0.7750872912822192\n",
            " validation accuracy: 0.58125\n"
          ]
        },
        {
          "output_type": "stream",
          "name": "stderr",
          "text": [
            "Epoch [108/250]: 100%|██████████| 157/157 [00:07<00:00, 19.84it/s, loss=0.494]\n"
          ]
        },
        {
          "output_type": "stream",
          "name": "stdout",
          "text": [
            " training accuracy: 0.7761872640953055\n",
            " validation accuracy: 0.57431640625\n"
          ]
        },
        {
          "output_type": "stream",
          "name": "stderr",
          "text": [
            "Epoch [109/250]: 100%|██████████| 157/157 [00:07<00:00, 21.70it/s, loss=0.263]\n"
          ]
        },
        {
          "output_type": "stream",
          "name": "stdout",
          "text": [
            " training accuracy: 0.7772519886197627\n",
            " validation accuracy: 0.575\n"
          ]
        },
        {
          "output_type": "stream",
          "name": "stderr",
          "text": [
            "Epoch [110/250]: 100%|██████████| 157/157 [00:08<00:00, 19.08it/s, loss=0.297]\n"
          ]
        },
        {
          "output_type": "stream",
          "name": "stdout",
          "text": [
            " training accuracy: 0.7783292468876665\n",
            " validation accuracy: 0.581640625\n"
          ]
        },
        {
          "output_type": "stream",
          "name": "stderr",
          "text": [
            "Epoch [111/250]: 100%|██████████| 157/157 [00:08<00:00, 19.04it/s, loss=0.224]\n"
          ]
        },
        {
          "output_type": "stream",
          "name": "stdout",
          "text": [
            " training accuracy: 0.7793794740201986\n",
            " validation accuracy: 0.60380859375\n"
          ]
        },
        {
          "output_type": "stream",
          "name": "stderr",
          "text": [
            "Epoch [112/250]: 100%|██████████| 157/157 [00:07<00:00, 21.64it/s, loss=0.255]\n"
          ]
        },
        {
          "output_type": "stream",
          "name": "stdout",
          "text": [
            " training accuracy: 0.7804282746388762\n",
            " validation accuracy: 0.586328125\n"
          ]
        },
        {
          "output_type": "stream",
          "name": "stderr",
          "text": [
            "Epoch [113/250]: 100%|██████████| 157/157 [00:08<00:00, 19.54it/s, loss=0.388]\n"
          ]
        },
        {
          "output_type": "stream",
          "name": "stdout",
          "text": [
            " training accuracy: 0.7815765300011274\n",
            " validation accuracy: 0.59033203125\n"
          ]
        },
        {
          "output_type": "stream",
          "name": "stderr",
          "text": [
            "Epoch [114/250]: 100%|██████████| 157/157 [00:08<00:00, 19.27it/s, loss=0.442]\n"
          ]
        },
        {
          "output_type": "stream",
          "name": "stdout",
          "text": [
            " training accuracy: 0.7826387288384177\n",
            " validation accuracy: 0.58515625\n"
          ]
        },
        {
          "output_type": "stream",
          "name": "stderr",
          "text": [
            "Epoch [115/250]: 100%|██████████| 157/157 [00:07<00:00, 21.73it/s, loss=0.411]\n"
          ]
        },
        {
          "output_type": "stream",
          "name": "stdout",
          "text": [
            " training accuracy: 0.7836735841872058\n",
            " validation accuracy: 0.576953125\n"
          ]
        },
        {
          "output_type": "stream",
          "name": "stderr",
          "text": [
            "Epoch [116/250]: 100%|██████████| 157/157 [00:07<00:00, 19.98it/s, loss=0.204]\n"
          ]
        },
        {
          "output_type": "stream",
          "name": "stdout",
          "text": [
            " training accuracy: 0.7846541342933231\n",
            " validation accuracy: 0.58173828125\n"
          ]
        },
        {
          "output_type": "stream",
          "name": "stderr",
          "text": [
            "Epoch [117/250]: 100%|██████████| 157/157 [00:08<00:00, 19.19it/s, loss=0.418]\n"
          ]
        },
        {
          "output_type": "stream",
          "name": "stdout",
          "text": [
            " training accuracy: 0.7856430160868855\n",
            " validation accuracy: 0.57431640625\n"
          ]
        },
        {
          "output_type": "stream",
          "name": "stderr",
          "text": [
            "Epoch [118/250]: 100%|██████████| 157/157 [00:07<00:00, 21.29it/s, loss=0.379]\n"
          ]
        },
        {
          "output_type": "stream",
          "name": "stdout",
          "text": [
            " training accuracy: 0.7866490843949044\n",
            " validation accuracy: 0.58828125\n"
          ]
        },
        {
          "output_type": "stream",
          "name": "stderr",
          "text": [
            "Epoch [119/250]: 100%|██████████| 157/157 [00:07<00:00, 20.89it/s, loss=0.419]\n"
          ]
        },
        {
          "output_type": "stream",
          "name": "stdout",
          "text": [
            " training accuracy: 0.7876409620376813\n",
            " validation accuracy: 0.53798828125\n"
          ]
        },
        {
          "output_type": "stream",
          "name": "stderr",
          "text": [
            "Epoch [120/250]: 100%|██████████| 157/157 [00:08<00:00, 19.26it/s, loss=0.111]\n"
          ]
        },
        {
          "output_type": "stream",
          "name": "stdout",
          "text": [
            " training accuracy: 0.7886020020567941\n",
            " validation accuracy: 0.5857421875\n"
          ]
        },
        {
          "output_type": "stream",
          "name": "stderr",
          "text": [
            "Epoch [121/250]: 100%|██████████| 157/157 [00:07<00:00, 20.46it/s, loss=0.276]\n"
          ]
        },
        {
          "output_type": "stream",
          "name": "stdout",
          "text": [
            " training accuracy: 0.7895609339632573\n",
            " validation accuracy: 0.5712890625\n"
          ]
        },
        {
          "output_type": "stream",
          "name": "stderr",
          "text": [
            "Epoch [122/250]: 100%|██████████| 157/157 [00:07<00:00, 21.70it/s, loss=0.396]\n"
          ]
        },
        {
          "output_type": "stream",
          "name": "stdout",
          "text": [
            " training accuracy: 0.7905447295604051\n",
            " validation accuracy: 0.576953125\n"
          ]
        },
        {
          "output_type": "stream",
          "name": "stderr",
          "text": [
            "Epoch [123/250]: 100%|██████████| 157/157 [00:08<00:00, 19.16it/s, loss=0.208]\n"
          ]
        },
        {
          "output_type": "stream",
          "name": "stdout",
          "text": [
            " training accuracy: 0.7915242607840091\n",
            " validation accuracy: 0.59619140625\n"
          ]
        },
        {
          "output_type": "stream",
          "name": "stderr",
          "text": [
            "Epoch [124/250]: 100%|██████████| 157/157 [00:07<00:00, 19.79it/s, loss=0.215]\n"
          ]
        },
        {
          "output_type": "stream",
          "name": "stdout",
          "text": [
            " training accuracy: 0.7925413659595233\n",
            " validation accuracy: 0.59287109375\n"
          ]
        },
        {
          "output_type": "stream",
          "name": "stderr",
          "text": [
            "Epoch [125/250]: 100%|██████████| 157/157 [00:07<00:00, 21.79it/s, loss=0.185]\n"
          ]
        },
        {
          "output_type": "stream",
          "name": "stdout",
          "text": [
            " training accuracy: 0.7935551353503185\n",
            " validation accuracy: 0.57529296875\n"
          ]
        },
        {
          "output_type": "stream",
          "name": "stderr",
          "text": [
            "Epoch [126/250]: 100%|██████████| 157/157 [00:08<00:00, 19.01it/s, loss=0.368]\n"
          ]
        },
        {
          "output_type": "stream",
          "name": "stdout",
          "text": [
            " training accuracy: 0.7945387931579213\n",
            " validation accuracy: 0.5732421875\n"
          ]
        },
        {
          "output_type": "stream",
          "name": "stderr",
          "text": [
            "Epoch [127/250]: 100%|██████████| 157/157 [00:08<00:00, 19.18it/s, loss=0.257]\n"
          ]
        },
        {
          "output_type": "stream",
          "name": "stdout",
          "text": [
            " training accuracy: 0.7954509300240734\n",
            " validation accuracy: 0.57607421875\n"
          ]
        },
        {
          "output_type": "stream",
          "name": "stderr",
          "text": [
            "Epoch [128/250]: 100%|██████████| 157/157 [00:07<00:00, 21.76it/s, loss=0.199]\n"
          ]
        },
        {
          "output_type": "stream",
          "name": "stdout",
          "text": [
            " training accuracy: 0.7964213182971736\n",
            " validation accuracy: 0.58447265625\n"
          ]
        },
        {
          "output_type": "stream",
          "name": "stderr",
          "text": [
            "Epoch [129/250]: 100%|██████████| 157/157 [00:08<00:00, 19.24it/s, loss=0.34]\n"
          ]
        },
        {
          "output_type": "stream",
          "name": "stdout",
          "text": [
            " training accuracy: 0.7973533241988842\n",
            " validation accuracy: 0.56416015625\n"
          ]
        },
        {
          "output_type": "stream",
          "name": "stderr",
          "text": [
            "Epoch [130/250]: 100%|██████████| 157/157 [00:08<00:00, 18.95it/s, loss=0.238]\n"
          ]
        },
        {
          "output_type": "stream",
          "name": "stdout",
          "text": [
            " training accuracy: 0.7983326188143067\n",
            " validation accuracy: 0.57939453125\n"
          ]
        },
        {
          "output_type": "stream",
          "name": "stderr",
          "text": [
            "Epoch [131/250]: 100%|██████████| 157/157 [00:07<00:00, 21.60it/s, loss=0.183]\n"
          ]
        },
        {
          "output_type": "stream",
          "name": "stdout",
          "text": [
            " training accuracy: 0.7993201335877863\n",
            " validation accuracy: 0.584375\n"
          ]
        },
        {
          "output_type": "stream",
          "name": "stderr",
          "text": [
            "Epoch [132/250]: 100%|██████████| 157/157 [00:07<00:00, 20.14it/s, loss=0.28]\n"
          ]
        },
        {
          "output_type": "stream",
          "name": "stdout",
          "text": [
            " training accuracy: 0.8002646011267129\n",
            " validation accuracy: 0.5810546875\n"
          ]
        },
        {
          "output_type": "stream",
          "name": "stderr",
          "text": [
            "Epoch [133/250]: 100%|██████████| 157/157 [00:08<00:00, 19.10it/s, loss=0.198]\n"
          ]
        },
        {
          "output_type": "stream",
          "name": "stdout",
          "text": [
            " training accuracy: 0.8012105801925196\n",
            " validation accuracy: 0.58740234375\n"
          ]
        },
        {
          "output_type": "stream",
          "name": "stderr",
          "text": [
            "Epoch [134/250]: 100%|██████████| 157/157 [00:07<00:00, 20.87it/s, loss=0.133]\n"
          ]
        },
        {
          "output_type": "stream",
          "name": "stdout",
          "text": [
            " training accuracy: 0.8021972145641221\n",
            " validation accuracy: 0.57724609375\n"
          ]
        },
        {
          "output_type": "stream",
          "name": "stderr",
          "text": [
            "Epoch [135/250]: 100%|██████████| 157/157 [00:07<00:00, 21.10it/s, loss=0.19]\n"
          ]
        },
        {
          "output_type": "stream",
          "name": "stdout",
          "text": [
            " training accuracy: 0.8031327406227884\n",
            " validation accuracy: 0.58193359375\n"
          ]
        },
        {
          "output_type": "stream",
          "name": "stderr",
          "text": [
            "Epoch [136/250]: 100%|██████████| 157/157 [00:08<00:00, 19.08it/s, loss=0.21]\n"
          ]
        },
        {
          "output_type": "stream",
          "name": "stdout",
          "text": [
            " training accuracy: 0.8039441928742038\n",
            " validation accuracy: 0.58447265625\n"
          ]
        },
        {
          "output_type": "stream",
          "name": "stderr",
          "text": [
            "Epoch [137/250]: 100%|██████████| 157/157 [00:07<00:00, 20.23it/s, loss=0.234]\n"
          ]
        },
        {
          "output_type": "stream",
          "name": "stdout",
          "text": [
            " training accuracy: 0.8048700180738295\n",
            " validation accuracy: 0.57626953125\n"
          ]
        },
        {
          "output_type": "stream",
          "name": "stderr",
          "text": [
            "Epoch [138/250]: 100%|██████████| 157/157 [00:07<00:00, 21.70it/s, loss=0.09]\n"
          ]
        },
        {
          "output_type": "stream",
          "name": "stdout",
          "text": [
            " training accuracy: 0.8057616917058986\n",
            " validation accuracy: 0.58203125\n"
          ]
        },
        {
          "output_type": "stream",
          "name": "stderr",
          "text": [
            "Epoch [139/250]: 100%|██████████| 157/157 [00:08<00:00, 19.09it/s, loss=0.238]\n"
          ]
        },
        {
          "output_type": "stream",
          "name": "stdout",
          "text": [
            " training accuracy: 0.8066725759519773\n",
            " validation accuracy: 0.56044921875\n"
          ]
        },
        {
          "output_type": "stream",
          "name": "stderr",
          "text": [
            "Epoch [140/250]: 100%|██████████| 157/157 [00:08<00:00, 19.28it/s, loss=0.154]\n"
          ]
        },
        {
          "output_type": "stream",
          "name": "stdout",
          "text": [
            " training accuracy: 0.8075251293789809\n",
            " validation accuracy: 0.57705078125\n"
          ]
        },
        {
          "output_type": "stream",
          "name": "stderr",
          "text": [
            "Epoch [141/250]: 100%|██████████| 157/157 [00:07<00:00, 21.23it/s, loss=0.149]\n"
          ]
        },
        {
          "output_type": "stream",
          "name": "stdout",
          "text": [
            " training accuracy: 0.808421879940823\n",
            " validation accuracy: 0.57490234375\n"
          ]
        },
        {
          "output_type": "stream",
          "name": "stderr",
          "text": [
            "Epoch [142/250]: 100%|██████████| 157/157 [00:08<00:00, 18.99it/s, loss=0.0928]\n"
          ]
        },
        {
          "output_type": "stream",
          "name": "stdout",
          "text": [
            " training accuracy: 0.8093166883466404\n",
            " validation accuracy: 0.57509765625\n"
          ]
        },
        {
          "output_type": "stream",
          "name": "stderr",
          "text": [
            "Epoch [143/250]: 100%|██████████| 157/157 [00:08<00:00, 19.03it/s, loss=0.138]\n"
          ]
        },
        {
          "output_type": "stream",
          "name": "stdout",
          "text": [
            " training accuracy: 0.8102569206271436\n",
            " validation accuracy: 0.58759765625\n"
          ]
        },
        {
          "output_type": "stream",
          "name": "stderr",
          "text": [
            "Epoch [144/250]: 100%|██████████| 157/157 [00:07<00:00, 21.48it/s, loss=0.116]\n"
          ]
        },
        {
          "output_type": "stream",
          "name": "stdout",
          "text": [
            " training accuracy: 0.8112070740998761\n",
            " validation accuracy: 0.59541015625\n"
          ]
        },
        {
          "output_type": "stream",
          "name": "stderr",
          "text": [
            "Epoch [145/250]: 100%|██████████| 157/157 [00:07<00:00, 19.77it/s, loss=0.157]\n"
          ]
        },
        {
          "output_type": "stream",
          "name": "stdout",
          "text": [
            " training accuracy: 0.8120830359103888\n",
            " validation accuracy: 0.5791015625\n"
          ]
        },
        {
          "output_type": "stream",
          "name": "stderr",
          "text": [
            "Epoch [146/250]: 100%|██████████| 157/157 [00:08<00:00, 18.92it/s, loss=0.233]\n"
          ]
        },
        {
          "output_type": "stream",
          "name": "stdout",
          "text": [
            " training accuracy: 0.8129575639669313\n",
            " validation accuracy: 0.58603515625\n"
          ]
        },
        {
          "output_type": "stream",
          "name": "stderr",
          "text": [
            "Epoch [147/250]: 100%|██████████| 157/157 [00:07<00:00, 20.79it/s, loss=0.293]\n"
          ]
        },
        {
          "output_type": "stream",
          "name": "stdout",
          "text": [
            " training accuracy: 0.813791589486113\n",
            " validation accuracy: 0.5416015625\n"
          ]
        },
        {
          "output_type": "stream",
          "name": "stderr",
          "text": [
            "Epoch [148/250]: 100%|██████████| 157/157 [00:07<00:00, 20.64it/s, loss=0.409]\n"
          ]
        },
        {
          "output_type": "stream",
          "name": "stdout",
          "text": [
            " training accuracy: 0.814584924793424\n",
            " validation accuracy: 0.57578125\n"
          ]
        },
        {
          "output_type": "stream",
          "name": "stderr",
          "text": [
            "Epoch [149/250]: 100%|██████████| 157/157 [00:08<00:00, 19.08it/s, loss=0.345]\n"
          ]
        },
        {
          "output_type": "stream",
          "name": "stdout",
          "text": [
            " training accuracy: 0.8153343815457615\n",
            " validation accuracy: 0.564453125\n"
          ]
        },
        {
          "output_type": "stream",
          "name": "stderr",
          "text": [
            "Epoch [150/250]: 100%|██████████| 157/157 [00:07<00:00, 20.11it/s, loss=0.304]\n"
          ]
        },
        {
          "output_type": "stream",
          "name": "stdout",
          "text": [
            " training accuracy: 0.8160882762738854\n",
            " validation accuracy: 0.57138671875\n"
          ]
        },
        {
          "output_type": "stream",
          "name": "stderr",
          "text": [
            "Epoch [151/250]: 100%|██████████| 157/157 [00:07<00:00, 21.54it/s, loss=0.11]\n"
          ]
        },
        {
          "output_type": "stream",
          "name": "stdout",
          "text": [
            " training accuracy: 0.8168499810182647\n",
            " validation accuracy: 0.56572265625\n"
          ]
        },
        {
          "output_type": "stream",
          "name": "stderr",
          "text": [
            "Epoch [152/250]: 100%|██████████| 157/157 [00:08<00:00, 18.82it/s, loss=0.249]\n"
          ]
        },
        {
          "output_type": "stream",
          "name": "stdout",
          "text": [
            " training accuracy: 0.8176352193680858\n",
            " validation accuracy: 0.57744140625\n"
          ]
        },
        {
          "output_type": "stream",
          "name": "stderr",
          "text": [
            "Epoch [153/250]: 100%|██████████| 157/157 [00:08<00:00, 18.88it/s, loss=0.281]\n"
          ]
        },
        {
          "output_type": "stream",
          "name": "stdout",
          "text": [
            " training accuracy: 0.8183856378273178\n",
            " validation accuracy: 0.57451171875\n"
          ]
        },
        {
          "output_type": "stream",
          "name": "stderr",
          "text": [
            "Epoch [154/250]: 100%|██████████| 157/157 [00:07<00:00, 21.41it/s, loss=0.126]\n"
          ]
        },
        {
          "output_type": "stream",
          "name": "stdout",
          "text": [
            " training accuracy: 0.8191865732794276\n",
            " validation accuracy: 0.58388671875\n"
          ]
        },
        {
          "output_type": "stream",
          "name": "stderr",
          "text": [
            "Epoch [155/250]: 100%|██████████| 157/157 [00:08<00:00, 19.16it/s, loss=0.14]\n"
          ]
        },
        {
          "output_type": "stream",
          "name": "stdout",
          "text": [
            " training accuracy: 0.8200492474830491\n",
            " validation accuracy: 0.57080078125\n"
          ]
        },
        {
          "output_type": "stream",
          "name": "stderr",
          "text": [
            "Epoch [156/250]: 100%|██████████| 157/157 [00:08<00:00, 18.65it/s, loss=0.347]\n"
          ]
        },
        {
          "output_type": "stream",
          "name": "stdout",
          "text": [
            " training accuracy: 0.8208043697942186\n",
            " validation accuracy: 0.55400390625\n"
          ]
        },
        {
          "output_type": "stream",
          "name": "stderr",
          "text": [
            "Epoch [157/250]: 100%|██████████| 157/157 [00:07<00:00, 21.14it/s, loss=0.236]\n"
          ]
        },
        {
          "output_type": "stream",
          "name": "stdout",
          "text": [
            " training accuracy: 0.8214874335672847\n",
            " validation accuracy: 0.56875\n"
          ]
        },
        {
          "output_type": "stream",
          "name": "stderr",
          "text": [
            "Epoch [158/250]: 100%|██████████| 157/157 [00:07<00:00, 20.07it/s, loss=0.157]\n"
          ]
        },
        {
          "output_type": "stream",
          "name": "stdout",
          "text": [
            " training accuracy: 0.8223004263081513\n",
            " validation accuracy: 0.58642578125\n"
          ]
        },
        {
          "output_type": "stream",
          "name": "stderr",
          "text": [
            "Epoch [159/250]: 100%|██████████| 157/157 [00:08<00:00, 18.98it/s, loss=0.139]\n"
          ]
        },
        {
          "output_type": "stream",
          "name": "stdout",
          "text": [
            " training accuracy: 0.8229803546749189\n",
            " validation accuracy: 0.5783203125\n"
          ]
        },
        {
          "output_type": "stream",
          "name": "stderr",
          "text": [
            "Epoch [160/250]: 100%|██████████| 157/157 [00:07<00:00, 20.68it/s, loss=0.188]\n"
          ]
        },
        {
          "output_type": "stream",
          "name": "stdout",
          "text": [
            " training accuracy: 0.8237788303642516\n",
            " validation accuracy: 0.5873046875\n"
          ]
        },
        {
          "output_type": "stream",
          "name": "stderr",
          "text": [
            "Epoch [161/250]: 100%|██████████| 157/157 [00:07<00:00, 21.13it/s, loss=0.201]\n"
          ]
        },
        {
          "output_type": "stream",
          "name": "stdout",
          "text": [
            " training accuracy: 0.8245630600447047\n",
            " validation accuracy: 0.564453125\n"
          ]
        },
        {
          "output_type": "stream",
          "name": "stderr",
          "text": [
            "Epoch [162/250]: 100%|██████████| 157/157 [00:08<00:00, 18.77it/s, loss=0.175]\n"
          ]
        },
        {
          "output_type": "stream",
          "name": "stdout",
          "text": [
            " training accuracy: 0.8252199626975701\n",
            " validation accuracy: 0.5912109375\n"
          ]
        },
        {
          "output_type": "stream",
          "name": "stderr",
          "text": [
            "Epoch [163/250]: 100%|██████████| 157/157 [00:08<00:00, 19.04it/s, loss=0.0921]\n"
          ]
        },
        {
          "output_type": "stream",
          "name": "stdout",
          "text": [
            " training accuracy: 0.8260118303309757\n",
            " validation accuracy: 0.58212890625\n"
          ]
        },
        {
          "output_type": "stream",
          "name": "stderr",
          "text": [
            "Epoch [164/250]: 100%|██████████| 157/157 [00:07<00:00, 21.42it/s, loss=0.0571]\n"
          ]
        },
        {
          "output_type": "stream",
          "name": "stdout",
          "text": [
            " training accuracy: 0.8268544219453938\n",
            " validation accuracy: 0.58427734375\n"
          ]
        },
        {
          "output_type": "stream",
          "name": "stderr",
          "text": [
            "Epoch [165/250]: 100%|██████████| 157/157 [00:08<00:00, 18.71it/s, loss=0.147]\n"
          ]
        },
        {
          "output_type": "stream",
          "name": "stdout",
          "text": [
            " training accuracy: 0.8277315853599692\n",
            " validation accuracy: 0.57978515625\n"
          ]
        },
        {
          "output_type": "stream",
          "name": "stderr",
          "text": [
            "Epoch [166/250]: 100%|██████████| 157/157 [00:08<00:00, 18.87it/s, loss=0.184]\n"
          ]
        },
        {
          "output_type": "stream",
          "name": "stdout",
          "text": [
            " training accuracy: 0.8284637355153096\n",
            " validation accuracy: 0.5755859375\n"
          ]
        },
        {
          "output_type": "stream",
          "name": "stderr",
          "text": [
            "Epoch [167/250]: 100%|██████████| 157/157 [00:07<00:00, 20.61it/s, loss=0.0954]\n"
          ]
        },
        {
          "output_type": "stream",
          "name": "stdout",
          "text": [
            " training accuracy: 0.829158661180823\n",
            " validation accuracy: 0.57763671875\n"
          ]
        },
        {
          "output_type": "stream",
          "name": "stderr",
          "text": [
            "Epoch [168/250]: 100%|██████████| 157/157 [00:08<00:00, 19.29it/s, loss=0.0768]\n"
          ]
        },
        {
          "output_type": "stream",
          "name": "stdout",
          "text": [
            " training accuracy: 0.8299488348782984\n",
            " validation accuracy: 0.57744140625\n"
          ]
        },
        {
          "output_type": "stream",
          "name": "stderr",
          "text": [
            "Epoch [169/250]: 100%|██████████| 157/157 [00:08<00:00, 18.74it/s, loss=0.18]\n"
          ]
        },
        {
          "output_type": "stream",
          "name": "stdout",
          "text": [
            " training accuracy: 0.8307021268326236\n",
            " validation accuracy: 0.57783203125\n"
          ]
        },
        {
          "output_type": "stream",
          "name": "stderr",
          "text": [
            "Epoch [170/250]: 100%|██████████| 157/157 [00:07<00:00, 20.75it/s, loss=0.119]\n"
          ]
        },
        {
          "output_type": "stream",
          "name": "stdout",
          "text": [
            " training accuracy: 0.8313708903147247\n",
            " validation accuracy: 0.58134765625\n"
          ]
        },
        {
          "output_type": "stream",
          "name": "stderr",
          "text": [
            "Epoch [171/250]: 100%|██████████| 157/157 [00:07<00:00, 20.79it/s, loss=0.147]\n"
          ]
        },
        {
          "output_type": "stream",
          "name": "stdout",
          "text": [
            " training accuracy: 0.8320884316683428\n",
            " validation accuracy: 0.58662109375\n"
          ]
        },
        {
          "output_type": "stream",
          "name": "stderr",
          "text": [
            "Epoch [172/250]: 100%|██████████| 157/157 [00:08<00:00, 18.83it/s, loss=0.192]\n"
          ]
        },
        {
          "output_type": "stream",
          "name": "stdout",
          "text": [
            " training accuracy: 0.8328372648496519\n",
            " validation accuracy: 0.58291015625\n"
          ]
        },
        {
          "output_type": "stream",
          "name": "stderr",
          "text": [
            "Epoch [173/250]: 100%|██████████| 157/157 [00:07<00:00, 19.95it/s, loss=0.125]\n"
          ]
        },
        {
          "output_type": "stream",
          "name": "stdout",
          "text": [
            " training accuracy: 0.8335860701005118\n",
            " validation accuracy: 0.57666015625\n"
          ]
        },
        {
          "output_type": "stream",
          "name": "stderr",
          "text": [
            "Epoch [174/250]: 100%|██████████| 157/157 [00:07<00:00, 20.16it/s, loss=0.11]\n"
          ]
        },
        {
          "output_type": "stream",
          "name": "stdout",
          "text": [
            " training accuracy: 0.8342933802804012\n",
            " validation accuracy: 0.58369140625\n"
          ]
        },
        {
          "output_type": "stream",
          "name": "stderr",
          "text": [
            "Epoch [175/250]: 100%|██████████| 157/157 [00:08<00:00, 18.56it/s, loss=0.143]\n"
          ]
        },
        {
          "output_type": "stream",
          "name": "stdout",
          "text": [
            " training accuracy: 0.8350362545495905\n",
            " validation accuracy: 0.57744140625\n"
          ]
        },
        {
          "output_type": "stream",
          "name": "stderr",
          "text": [
            "Epoch [176/250]: 100%|██████████| 157/157 [00:08<00:00, 18.50it/s, loss=0.0762]\n"
          ]
        },
        {
          "output_type": "stream",
          "name": "stdout",
          "text": [
            " training accuracy: 0.8357559849088014\n",
            " validation accuracy: 0.58115234375\n"
          ]
        },
        {
          "output_type": "stream",
          "name": "stderr",
          "text": [
            "Epoch [177/250]: 100%|██████████| 157/157 [00:07<00:00, 20.88it/s, loss=0.102]\n"
          ]
        },
        {
          "output_type": "stream",
          "name": "stdout",
          "text": [
            " training accuracy: 0.8365069418205046\n",
            " validation accuracy: 0.56025390625\n"
          ]
        },
        {
          "output_type": "stream",
          "name": "stderr",
          "text": [
            "Epoch [178/250]: 100%|██████████| 157/157 [00:08<00:00, 19.16it/s, loss=0.129]\n"
          ]
        },
        {
          "output_type": "stream",
          "name": "stdout",
          "text": [
            " training accuracy: 0.8371421111250268\n",
            " validation accuracy: 0.57275390625\n"
          ]
        },
        {
          "output_type": "stream",
          "name": "stderr",
          "text": [
            "Epoch [179/250]: 100%|██████████| 157/157 [00:08<00:00, 18.77it/s, loss=0.0539]\n"
          ]
        },
        {
          "output_type": "stream",
          "name": "stdout",
          "text": [
            " training accuracy: 0.8377700445681956\n",
            " validation accuracy: 0.58349609375\n"
          ]
        },
        {
          "output_type": "stream",
          "name": "stderr",
          "text": [
            "Epoch [180/250]: 100%|██████████| 157/157 [00:07<00:00, 20.08it/s, loss=0.207]\n"
          ]
        },
        {
          "output_type": "stream",
          "name": "stdout",
          "text": [
            " training accuracy: 0.8383849190552017\n",
            " validation accuracy: 0.5833984375\n"
          ]
        },
        {
          "output_type": "stream",
          "name": "stderr",
          "text": [
            "Epoch [181/250]: 100%|██████████| 157/157 [00:07<00:00, 21.18it/s, loss=0.209]\n"
          ]
        },
        {
          "output_type": "stream",
          "name": "stdout",
          "text": [
            " training accuracy: 0.8388250211141218\n",
            " validation accuracy: 0.5611328125\n"
          ]
        },
        {
          "output_type": "stream",
          "name": "stderr",
          "text": [
            "Epoch [182/250]: 100%|██████████| 157/157 [00:08<00:00, 18.70it/s, loss=0.187]\n"
          ]
        },
        {
          "output_type": "stream",
          "name": "stdout",
          "text": [
            " training accuracy: 0.8393614496570309\n",
            " validation accuracy: 0.5732421875\n"
          ]
        },
        {
          "output_type": "stream",
          "name": "stderr",
          "text": [
            "Epoch [183/250]: 100%|██████████| 157/157 [00:08<00:00, 19.00it/s, loss=0.155]\n"
          ]
        },
        {
          "output_type": "stream",
          "name": "stdout",
          "text": [
            " training accuracy: 0.8399266852441614\n",
            " validation accuracy: 0.58046875\n"
          ]
        },
        {
          "output_type": "stream",
          "name": "stderr",
          "text": [
            "Epoch [184/250]: 100%|██████████| 157/157 [00:07<00:00, 21.00it/s, loss=0.0404]\n"
          ]
        },
        {
          "output_type": "stream",
          "name": "stdout",
          "text": [
            " training accuracy: 0.8405427047995707\n",
            " validation accuracy: 0.57890625\n"
          ]
        },
        {
          "output_type": "stream",
          "name": "stderr",
          "text": [
            "Epoch [185/250]: 100%|██████████| 157/157 [00:08<00:00, 18.68it/s, loss=0.0998]\n"
          ]
        },
        {
          "output_type": "stream",
          "name": "stdout",
          "text": [
            " training accuracy: 0.8412774089774487\n",
            " validation accuracy: 0.568359375\n"
          ]
        },
        {
          "output_type": "stream",
          "name": "stderr",
          "text": [
            "Epoch [186/250]: 100%|██████████| 157/157 [00:08<00:00, 18.56it/s, loss=0.0983]\n"
          ]
        },
        {
          "output_type": "stream",
          "name": "stdout",
          "text": [
            " training accuracy: 0.8420325716132456\n",
            " validation accuracy: 0.58603515625\n"
          ]
        },
        {
          "output_type": "stream",
          "name": "stderr",
          "text": [
            "Epoch [187/250]: 100%|██████████| 157/157 [00:07<00:00, 21.30it/s, loss=0.0783]\n"
          ]
        },
        {
          "output_type": "stream",
          "name": "stdout",
          "text": [
            " training accuracy: 0.8427027540532716\n",
            " validation accuracy: 0.5794921875\n"
          ]
        },
        {
          "output_type": "stream",
          "name": "stderr",
          "text": [
            "Epoch [188/250]: 100%|██████████| 157/157 [00:08<00:00, 19.43it/s, loss=0.00806]\n"
          ]
        },
        {
          "output_type": "stream",
          "name": "stdout",
          "text": [
            " training accuracy: 0.8434118624220761\n",
            " validation accuracy: 0.58046875\n"
          ]
        },
        {
          "output_type": "stream",
          "name": "stderr",
          "text": [
            "Epoch [189/250]: 100%|██████████| 157/157 [00:08<00:00, 18.68it/s, loss=0.0395]\n"
          ]
        },
        {
          "output_type": "stream",
          "name": "stdout",
          "text": [
            " training accuracy: 0.8442000882536312\n",
            " validation accuracy: 0.5869140625\n"
          ]
        },
        {
          "output_type": "stream",
          "name": "stderr",
          "text": [
            "Epoch [190/250]: 100%|██████████| 157/157 [00:07<00:00, 20.59it/s, loss=0.0167]\n"
          ]
        },
        {
          "output_type": "stream",
          "name": "stdout",
          "text": [
            " training accuracy: 0.8450107903117666\n",
            " validation accuracy: 0.586328125\n"
          ]
        },
        {
          "output_type": "stream",
          "name": "stderr",
          "text": [
            "Epoch [191/250]: 100%|██████████| 157/157 [00:07<00:00, 20.72it/s, loss=0.0122]\n"
          ]
        },
        {
          "output_type": "stream",
          "name": "stdout",
          "text": [
            " training accuracy: 0.8458182139343715\n",
            " validation accuracy: 0.5921875\n"
          ]
        },
        {
          "output_type": "stream",
          "name": "stderr",
          "text": [
            "Epoch [192/250]: 100%|██████████| 157/157 [00:08<00:00, 18.63it/s, loss=0.00751]\n"
          ]
        },
        {
          "output_type": "stream",
          "name": "stdout",
          "text": [
            " training accuracy: 0.8466195594479831\n",
            " validation accuracy: 0.59453125\n"
          ]
        },
        {
          "output_type": "stream",
          "name": "stderr",
          "text": [
            "Epoch [193/250]: 100%|██████████| 157/157 [00:08<00:00, 19.01it/s, loss=0.0076]\n"
          ]
        },
        {
          "output_type": "stream",
          "name": "stdout",
          "text": [
            " training accuracy: 0.8474133743523317\n",
            " validation accuracy: 0.5857421875\n"
          ]
        },
        {
          "output_type": "stream",
          "name": "stderr",
          "text": [
            "Epoch [194/250]: 100%|██████████| 157/157 [00:07<00:00, 20.89it/s, loss=0.00855]\n"
          ]
        },
        {
          "output_type": "stream",
          "name": "stdout",
          "text": [
            " training accuracy: 0.8481990055978725\n",
            " validation accuracy: 0.59326171875\n"
          ]
        },
        {
          "output_type": "stream",
          "name": "stderr",
          "text": [
            "Epoch [195/250]: 100%|██████████| 157/157 [00:08<00:00, 17.79it/s, loss=0.00505]\n"
          ]
        },
        {
          "output_type": "stream",
          "name": "stdout",
          "text": [
            " training accuracy: 0.8489769618650989\n",
            " validation accuracy: 0.59755859375\n"
          ]
        },
        {
          "output_type": "stream",
          "name": "stderr",
          "text": [
            "Epoch [196/250]: 100%|██████████| 157/157 [00:08<00:00, 18.08it/s, loss=0.00555]\n"
          ]
        },
        {
          "output_type": "stream",
          "name": "stdout",
          "text": [
            " training accuracy: 0.8497473606281685\n",
            " validation accuracy: 0.588671875\n"
          ]
        },
        {
          "output_type": "stream",
          "name": "stderr",
          "text": [
            "Epoch [197/250]: 100%|██████████| 157/157 [00:07<00:00, 21.02it/s, loss=0.00446]\n"
          ]
        },
        {
          "output_type": "stream",
          "name": "stdout",
          "text": [
            " training accuracy: 0.8505099380839989\n",
            " validation accuracy: 0.59091796875\n"
          ]
        },
        {
          "output_type": "stream",
          "name": "stderr",
          "text": [
            "Epoch [198/250]: 100%|██████████| 157/157 [00:07<00:00, 19.81it/s, loss=0.00294]\n"
          ]
        },
        {
          "output_type": "stream",
          "name": "stdout",
          "text": [
            " training accuracy: 0.8512649383967059\n",
            " validation accuracy: 0.58974609375\n"
          ]
        },
        {
          "output_type": "stream",
          "name": "stderr",
          "text": [
            "Epoch [199/250]: 100%|██████████| 157/157 [00:08<00:00, 18.32it/s, loss=0.00435]\n"
          ]
        },
        {
          "output_type": "stream",
          "name": "stdout",
          "text": [
            " training accuracy: 0.8520123507665717\n",
            " validation accuracy: 0.58515625\n"
          ]
        },
        {
          "output_type": "stream",
          "name": "stderr",
          "text": [
            "Epoch [200/250]: 100%|██████████| 157/157 [00:08<00:00, 19.46it/s, loss=0.0105]\n"
          ]
        },
        {
          "output_type": "stream",
          "name": "stdout",
          "text": [
            " training accuracy: 0.8527522890127388\n",
            " validation accuracy: 0.588671875\n"
          ]
        },
        {
          "output_type": "stream",
          "name": "stderr",
          "text": [
            "Epoch [201/250]: 100%|██████████| 157/157 [00:07<00:00, 20.91it/s, loss=0.00314]\n"
          ]
        },
        {
          "output_type": "stream",
          "name": "stdout",
          "text": [
            " training accuracy: 0.8534848646892924\n",
            " validation accuracy: 0.588671875\n"
          ]
        },
        {
          "output_type": "stream",
          "name": "stderr",
          "text": [
            "Epoch [202/250]: 100%|██████████| 157/157 [00:08<00:00, 18.48it/s, loss=0.00552]\n"
          ]
        },
        {
          "output_type": "stream",
          "name": "stdout",
          "text": [
            " training accuracy: 0.8542101871413256\n",
            " validation accuracy: 0.58974609375\n"
          ]
        },
        {
          "output_type": "stream",
          "name": "stderr",
          "text": [
            "Epoch [203/250]: 100%|██████████| 157/157 [00:08<00:00, 18.67it/s, loss=0.00553]\n"
          ]
        },
        {
          "output_type": "stream",
          "name": "stdout",
          "text": [
            " training accuracy: 0.8549283635593486\n",
            " validation accuracy: 0.5908203125\n"
          ]
        },
        {
          "output_type": "stream",
          "name": "stderr",
          "text": [
            "Epoch [204/250]: 100%|██████████| 157/157 [00:07<00:00, 21.20it/s, loss=0.00371]\n"
          ]
        },
        {
          "output_type": "stream",
          "name": "stdout",
          "text": [
            " training accuracy: 0.8556394990320969\n",
            " validation accuracy: 0.5943359375\n"
          ]
        },
        {
          "output_type": "stream",
          "name": "stderr",
          "text": [
            "Epoch [205/250]: 100%|██████████| 157/157 [00:08<00:00, 18.92it/s, loss=0.00676]\n"
          ]
        },
        {
          "output_type": "stream",
          "name": "stdout",
          "text": [
            " training accuracy: 0.856343696597794\n",
            " validation accuracy: 0.59267578125\n"
          ]
        },
        {
          "output_type": "stream",
          "name": "stderr",
          "text": [
            "Epoch [206/250]: 100%|██████████| 157/157 [00:08<00:00, 18.60it/s, loss=0.00291]\n"
          ]
        },
        {
          "output_type": "stream",
          "name": "stdout",
          "text": [
            " training accuracy: 0.8570410572939212\n",
            " validation accuracy: 0.59248046875\n"
          ]
        },
        {
          "output_type": "stream",
          "name": "stderr",
          "text": [
            "Epoch [207/250]: 100%|██████████| 157/157 [00:07<00:00, 20.81it/s, loss=0.00498]\n"
          ]
        },
        {
          "output_type": "stream",
          "name": "stdout",
          "text": [
            " training accuracy: 0.8577316802055448\n",
            " validation accuracy: 0.59560546875\n"
          ]
        },
        {
          "output_type": "stream",
          "name": "stderr",
          "text": [
            "Epoch [208/250]: 100%|██████████| 157/157 [00:07<00:00, 19.99it/s, loss=0.00429]\n"
          ]
        },
        {
          "output_type": "stream",
          "name": "stdout",
          "text": [
            " training accuracy: 0.8584156625122489\n",
            " validation accuracy: 0.589453125\n"
          ]
        },
        {
          "output_type": "stream",
          "name": "stderr",
          "text": [
            "Epoch [209/250]: 100%|██████████| 157/157 [00:08<00:00, 18.56it/s, loss=0.00421]\n"
          ]
        },
        {
          "output_type": "stream",
          "name": "stdout",
          "text": [
            " training accuracy: 0.8590930995337214\n",
            " validation accuracy: 0.59228515625\n"
          ]
        },
        {
          "output_type": "stream",
          "name": "stderr",
          "text": [
            "Epoch [210/250]: 100%|██████████| 157/157 [00:08<00:00, 19.32it/s, loss=0.00456]\n"
          ]
        },
        {
          "output_type": "stream",
          "name": "stdout",
          "text": [
            " training accuracy: 0.859764084774037\n",
            " validation accuracy: 0.5951171875\n"
          ]
        },
        {
          "output_type": "stream",
          "name": "stderr",
          "text": [
            "Epoch [211/250]: 100%|██████████| 157/157 [00:07<00:00, 20.93it/s, loss=0.00302]\n"
          ]
        },
        {
          "output_type": "stream",
          "name": "stdout",
          "text": [
            " training accuracy: 0.8604287099646813\n",
            " validation accuracy: 0.59072265625\n"
          ]
        },
        {
          "output_type": "stream",
          "name": "stderr",
          "text": [
            "Epoch [212/250]: 100%|██████████| 157/157 [00:08<00:00, 18.43it/s, loss=0.00332]\n"
          ]
        },
        {
          "output_type": "stream",
          "name": "stdout",
          "text": [
            " training accuracy: 0.8610870651063575\n",
            " validation accuracy: 0.59345703125\n"
          ]
        },
        {
          "output_type": "stream",
          "name": "stderr",
          "text": [
            "Epoch [213/250]: 100%|██████████| 157/157 [00:08<00:00, 18.61it/s, loss=0.00187]\n"
          ]
        },
        {
          "output_type": "stream",
          "name": "stdout",
          "text": [
            " training accuracy: 0.861739238509614\n",
            " validation accuracy: 0.58701171875\n"
          ]
        },
        {
          "output_type": "stream",
          "name": "stderr",
          "text": [
            "Epoch [214/250]: 100%|██████████| 157/157 [00:07<00:00, 21.03it/s, loss=0.00604]\n"
          ]
        },
        {
          "output_type": "stream",
          "name": "stdout",
          "text": [
            " training accuracy: 0.8623853168343354\n",
            " validation accuracy: 0.5880859375\n"
          ]
        },
        {
          "output_type": "stream",
          "name": "stderr",
          "text": [
            "Epoch [215/250]: 100%|██████████| 157/157 [00:08<00:00, 19.01it/s, loss=0.00196]\n"
          ]
        },
        {
          "output_type": "stream",
          "name": "stdout",
          "text": [
            " training accuracy: 0.8630253851281292\n",
            " validation accuracy: 0.5896484375\n"
          ]
        },
        {
          "output_type": "stream",
          "name": "stderr",
          "text": [
            "Epoch [216/250]: 100%|██████████| 157/157 [00:08<00:00, 18.62it/s, loss=0.00207]\n"
          ]
        },
        {
          "output_type": "stream",
          "name": "stdout",
          "text": [
            " training accuracy: 0.8636595268636471\n",
            " validation accuracy: 0.590234375\n"
          ]
        },
        {
          "output_type": "stream",
          "name": "stderr",
          "text": [
            "Epoch [217/250]: 100%|██████████| 157/157 [00:07<00:00, 20.43it/s, loss=0.0055]\n"
          ]
        },
        {
          "output_type": "stream",
          "name": "stdout",
          "text": [
            " training accuracy: 0.8642878239748745\n",
            " validation accuracy: 0.588671875\n"
          ]
        },
        {
          "output_type": "stream",
          "name": "stderr",
          "text": [
            "Epoch [218/250]: 100%|██████████| 157/157 [00:07<00:00, 20.33it/s, loss=0.00182]\n"
          ]
        },
        {
          "output_type": "stream",
          "name": "stdout",
          "text": [
            " training accuracy: 0.864910356892421\n",
            " validation accuracy: 0.5900390625\n"
          ]
        },
        {
          "output_type": "stream",
          "name": "stderr",
          "text": [
            "Epoch [219/250]: 100%|██████████| 157/157 [00:08<00:00, 18.60it/s, loss=0.000869]\n"
          ]
        },
        {
          "output_type": "stream",
          "name": "stdout",
          "text": [
            " training accuracy: 0.8655272045778437\n",
            " validation accuracy: 0.5923828125\n"
          ]
        },
        {
          "output_type": "stream",
          "name": "stderr",
          "text": [
            "Epoch [220/250]: 100%|██████████| 157/157 [00:08<00:00, 19.33it/s, loss=0.00433]\n"
          ]
        },
        {
          "output_type": "stream",
          "name": "stdout",
          "text": [
            " training accuracy: 0.8661384445570354\n",
            " validation accuracy: 0.596484375\n"
          ]
        },
        {
          "output_type": "stream",
          "name": "stderr",
          "text": [
            "Epoch [221/250]: 100%|██████████| 157/157 [00:07<00:00, 21.07it/s, loss=0.00167]\n"
          ]
        },
        {
          "output_type": "stream",
          "name": "stdout",
          "text": [
            " training accuracy: 0.8667441529527048\n",
            " validation accuracy: 0.5849609375\n"
          ]
        },
        {
          "output_type": "stream",
          "name": "stderr",
          "text": [
            "Epoch [222/250]: 100%|██████████| 157/157 [00:08<00:00, 18.48it/s, loss=0.000987]\n"
          ]
        },
        {
          "output_type": "stream",
          "name": "stdout",
          "text": [
            " training accuracy: 0.8673444045159809\n",
            " validation accuracy: 0.59345703125\n"
          ]
        },
        {
          "output_type": "stream",
          "name": "stderr",
          "text": [
            "Epoch [223/250]: 100%|██████████| 157/157 [00:08<00:00, 18.52it/s, loss=0.00226]\n"
          ]
        },
        {
          "output_type": "stream",
          "name": "stdout",
          "text": [
            " training accuracy: 0.8679392726571649\n",
            " validation accuracy: 0.592578125\n"
          ]
        },
        {
          "output_type": "stream",
          "name": "stderr",
          "text": [
            "Epoch [224/250]: 100%|██████████| 157/157 [00:07<00:00, 20.79it/s, loss=0.0031]\n"
          ]
        },
        {
          "output_type": "stream",
          "name": "stdout",
          "text": [
            " training accuracy: 0.8685288294756597\n",
            " validation accuracy: 0.5935546875\n"
          ]
        },
        {
          "output_type": "stream",
          "name": "stderr",
          "text": [
            "Epoch [225/250]: 100%|██████████| 157/157 [00:08<00:00, 19.48it/s, loss=0.00211]\n"
          ]
        },
        {
          "output_type": "stream",
          "name": "stdout",
          "text": [
            " training accuracy: 0.8691131457891011\n",
            " validation accuracy: 0.58740234375\n"
          ]
        },
        {
          "output_type": "stream",
          "name": "stderr",
          "text": [
            "Epoch [226/250]: 100%|██████████| 157/157 [00:08<00:00, 18.52it/s, loss=0.00199]\n"
          ]
        },
        {
          "output_type": "stream",
          "name": "stdout",
          "text": [
            " training accuracy: 0.8696922911617158\n",
            " validation accuracy: 0.59208984375\n"
          ]
        },
        {
          "output_type": "stream",
          "name": "stderr",
          "text": [
            "Epoch [227/250]: 100%|██████████| 157/157 [00:07<00:00, 20.20it/s, loss=0.00259]\n"
          ]
        },
        {
          "output_type": "stream",
          "name": "stdout",
          "text": [
            " training accuracy: 0.8702663339319285\n",
            " validation accuracy: 0.59150390625\n"
          ]
        },
        {
          "output_type": "stream",
          "name": "stderr",
          "text": [
            "Epoch [228/250]: 100%|██████████| 157/157 [00:07<00:00, 20.67it/s, loss=0.00191]\n"
          ]
        },
        {
          "output_type": "stream",
          "name": "stdout",
          "text": [
            " training accuracy: 0.8708353412392446\n",
            " validation accuracy: 0.58857421875\n"
          ]
        },
        {
          "output_type": "stream",
          "name": "stderr",
          "text": [
            "Epoch [229/250]: 100%|██████████| 157/157 [00:08<00:00, 18.40it/s, loss=0.00226]\n"
          ]
        },
        {
          "output_type": "stream",
          "name": "stdout",
          "text": [
            " training accuracy: 0.871399379050427\n",
            " validation accuracy: 0.59521484375\n"
          ]
        },
        {
          "output_type": "stream",
          "name": "stderr",
          "text": [
            "Epoch [230/250]: 100%|██████████| 157/157 [00:08<00:00, 19.21it/s, loss=0.0014]\n"
          ]
        },
        {
          "output_type": "stream",
          "name": "stdout",
          "text": [
            " training accuracy: 0.8719585121849903\n",
            " validation accuracy: 0.594921875\n"
          ]
        },
        {
          "output_type": "stream",
          "name": "stderr",
          "text": [
            "Epoch [231/250]: 100%|██████████| 157/157 [00:07<00:00, 20.82it/s, loss=0.00131]\n"
          ]
        },
        {
          "output_type": "stream",
          "name": "stdout",
          "text": [
            " training accuracy: 0.8725128043400336\n",
            " validation accuracy: 0.58974609375\n"
          ]
        },
        {
          "output_type": "stream",
          "name": "stderr",
          "text": [
            "Epoch [232/250]: 100%|██████████| 157/157 [00:08<00:00, 18.52it/s, loss=0.0012]\n"
          ]
        },
        {
          "output_type": "stream",
          "name": "stdout",
          "text": [
            " training accuracy: 0.87306231811443\n",
            " validation accuracy: 0.5845703125\n"
          ]
        },
        {
          "output_type": "stream",
          "name": "stderr",
          "text": [
            "Epoch [233/250]: 100%|██████████| 157/157 [00:08<00:00, 18.49it/s, loss=0.00243]\n"
          ]
        },
        {
          "output_type": "stream",
          "name": "stdout",
          "text": [
            " training accuracy: 0.8736071150323939\n",
            " validation accuracy: 0.59248046875\n"
          ]
        },
        {
          "output_type": "stream",
          "name": "stderr",
          "text": [
            "Epoch [234/250]: 100%|██████████| 157/157 [00:07<00:00, 20.80it/s, loss=0.00154]\n"
          ]
        },
        {
          "output_type": "stream",
          "name": "stdout",
          "text": [
            " training accuracy: 0.8741472555664435\n",
            " validation accuracy: 0.59033203125\n"
          ]
        },
        {
          "output_type": "stream",
          "name": "stderr",
          "text": [
            "Epoch [235/250]: 100%|██████████| 157/157 [00:08<00:00, 19.51it/s, loss=0.00229]\n"
          ]
        },
        {
          "output_type": "stream",
          "name": "stdout",
          "text": [
            " training accuracy: 0.8746827991597778\n",
            " validation accuracy: 0.5900390625\n"
          ]
        },
        {
          "output_type": "stream",
          "name": "stderr",
          "text": [
            "Epoch [236/250]: 100%|██████████| 157/157 [00:08<00:00, 18.45it/s, loss=0.0023]\n"
          ]
        },
        {
          "output_type": "stream",
          "name": "stdout",
          "text": [
            " training accuracy: 0.8752138042480838\n",
            " validation accuracy: 0.584375\n"
          ]
        },
        {
          "output_type": "stream",
          "name": "stderr",
          "text": [
            "Epoch [237/250]: 100%|██████████| 157/157 [00:07<00:00, 19.69it/s, loss=0.0014]\n"
          ]
        },
        {
          "output_type": "stream",
          "name": "stdout",
          "text": [
            " training accuracy: 0.8757403282807923\n",
            " validation accuracy: 0.58779296875\n"
          ]
        },
        {
          "output_type": "stream",
          "name": "stderr",
          "text": [
            "Epoch [238/250]: 100%|██████████| 157/157 [00:07<00:00, 20.91it/s, loss=0.00234]\n"
          ]
        },
        {
          "output_type": "stream",
          "name": "stdout",
          "text": [
            " training accuracy: 0.8762624277417973\n",
            " validation accuracy: 0.59189453125\n"
          ]
        },
        {
          "output_type": "stream",
          "name": "stderr",
          "text": [
            "Epoch [239/250]: 100%|██████████| 157/157 [00:08<00:00, 18.30it/s, loss=0.00103]\n"
          ]
        },
        {
          "output_type": "stream",
          "name": "stdout",
          "text": [
            " training accuracy: 0.8767801581696559\n",
            " validation accuracy: 0.58935546875\n"
          ]
        },
        {
          "output_type": "stream",
          "name": "stderr",
          "text": [
            "Epoch [240/250]: 100%|██████████| 157/157 [00:08<00:00, 18.49it/s, loss=0.0025]\n"
          ]
        },
        {
          "output_type": "stream",
          "name": "stdout",
          "text": [
            " training accuracy: 0.8772935741772824\n",
            " validation accuracy: 0.59462890625\n"
          ]
        },
        {
          "output_type": "stream",
          "name": "stderr",
          "text": [
            "Epoch [241/250]: 100%|██████████| 157/157 [00:07<00:00, 21.03it/s, loss=0.00136]\n"
          ]
        },
        {
          "output_type": "stream",
          "name": "stdout",
          "text": [
            " training accuracy: 0.8778027294711526\n",
            " validation accuracy: 0.591796875\n"
          ]
        },
        {
          "output_type": "stream",
          "name": "stderr",
          "text": [
            "Epoch [242/250]: 100%|██████████| 157/157 [00:08<00:00, 18.50it/s, loss=0.000929]\n"
          ]
        },
        {
          "output_type": "stream",
          "name": "stdout",
          "text": [
            " training accuracy: 0.8783076768700321\n",
            " validation accuracy: 0.5916015625\n"
          ]
        },
        {
          "output_type": "stream",
          "name": "stderr",
          "text": [
            "Epoch [243/250]: 100%|██████████| 157/157 [00:08<00:00, 18.32it/s, loss=0.00144]\n"
          ]
        },
        {
          "output_type": "stream",
          "name": "stdout",
          "text": [
            " training accuracy: 0.8788084683232419\n",
            " validation accuracy: 0.58984375\n"
          ]
        },
        {
          "output_type": "stream",
          "name": "stderr",
          "text": [
            "Epoch [244/250]: 100%|██████████| 157/157 [00:07<00:00, 20.63it/s, loss=0.00194]\n"
          ]
        },
        {
          "output_type": "stream",
          "name": "stdout",
          "text": [
            " training accuracy: 0.8793051549284745\n",
            " validation accuracy: 0.58505859375\n"
          ]
        },
        {
          "output_type": "stream",
          "name": "stderr",
          "text": [
            "Epoch [245/250]: 100%|██████████| 157/157 [00:07<00:00, 19.68it/s, loss=0.00192]\n"
          ]
        },
        {
          "output_type": "stream",
          "name": "stdout",
          "text": [
            " training accuracy: 0.8797977869491745\n",
            " validation accuracy: 0.58583984375\n"
          ]
        },
        {
          "output_type": "stream",
          "name": "stderr",
          "text": [
            "Epoch [246/250]: 100%|██████████| 157/157 [00:08<00:00, 18.41it/s, loss=0.00104]\n"
          ]
        },
        {
          "output_type": "stream",
          "name": "stdout",
          "text": [
            " training accuracy: 0.880286413831495\n",
            " validation accuracy: 0.58623046875\n"
          ]
        },
        {
          "output_type": "stream",
          "name": "stderr",
          "text": [
            "Epoch [247/250]: 100%|██████████| 157/157 [00:08<00:00, 19.49it/s, loss=0.00125]\n"
          ]
        },
        {
          "output_type": "stream",
          "name": "stdout",
          "text": [
            " training accuracy: 0.8807710842208412\n",
            " validation accuracy: 0.58876953125\n"
          ]
        },
        {
          "output_type": "stream",
          "name": "stderr",
          "text": [
            "Epoch [248/250]: 100%|██████████| 157/157 [00:07<00:00, 20.98it/s, loss=0.00117]\n"
          ]
        },
        {
          "output_type": "stream",
          "name": "stdout",
          "text": [
            " training accuracy: 0.8812518459780152\n",
            " validation accuracy: 0.5919921875\n"
          ]
        },
        {
          "output_type": "stream",
          "name": "stderr",
          "text": [
            "Epoch [249/250]: 100%|██████████| 157/157 [00:08<00:00, 18.26it/s, loss=0.00136]\n"
          ]
        },
        {
          "output_type": "stream",
          "name": "stdout",
          "text": [
            " training accuracy: 0.881728746194971\n",
            " validation accuracy: 0.58671875\n"
          ]
        },
        {
          "output_type": "stream",
          "name": "stderr",
          "text": [
            "Epoch [250/250]: 100%|██████████| 157/157 [00:08<00:00, 18.34it/s, loss=0.00134]\n"
          ]
        },
        {
          "output_type": "stream",
          "name": "stdout",
          "text": [
            " training accuracy: 0.8822018312101911\n",
            " validation accuracy: 0.5896484375\n"
          ]
        }
      ]
    },
    {
      "cell_type": "markdown",
      "source": [
        "## Evaluation on CIFAR-10 Testing\n",
        "\n",
        "Getting overall accuracy"
      ],
      "metadata": {
        "id": "ySsnpxUcz5-w"
      }
    },
    {
      "cell_type": "code",
      "source": [
        "correct = 0\n",
        "total = 0\n",
        "# since we're not training, we don't need to calculate the gradients for our outputs\n",
        "with torch.no_grad():\n",
        "    for data in test_loader:\n",
        "        images, labels = data\n",
        "        images, labels = images.to(device), labels.to(device)\n",
        "        # calculate outputs by running images through the network\n",
        "        outputs = my_cnn(images)\n",
        "        # the class with the highest energy is what we choose as prediction\n",
        "        _, predicted = torch.max(outputs.data, 1)\n",
        "        total += labels.size(0)\n",
        "        correct += (predicted == labels).sum().item()\n",
        "\n",
        "print(f'Accuracy of the network on the 10000 test images: {100 * correct // total} %')"
      ],
      "metadata": {
        "id": "sh4BW78pp4s2",
        "outputId": "74b56344-b941-4b3f-e5a9-9f6d7ff0d82e",
        "colab": {
          "base_uri": "https://localhost:8080/"
        }
      },
      "execution_count": null,
      "outputs": [
        {
          "output_type": "stream",
          "name": "stdout",
          "text": [
            "Accuracy of the network on the 10000 test images: 58 %\n"
          ]
        }
      ]
    },
    {
      "cell_type": "markdown",
      "source": [
        "Getting class-wise accuracies"
      ],
      "metadata": {
        "id": "ONPMjGOR0Cz4"
      }
    },
    {
      "cell_type": "code",
      "source": [
        "# prepare to count predictions for each class\n",
        "correct_pred = {classname: 0 for classname in classes}\n",
        "total_pred = {classname: 0 for classname in classes}\n",
        "\n",
        "# Report percentage accuracy to 1 decimal place, e.g. 80.1%\n",
        "# Iterate through test set batches\n",
        "for images, labels in test_loader:\n",
        "    # Move images and labels to GPU\n",
        "    images, labels = images.to(device), labels.to(device)\n",
        "\n",
        "    # Forward pass through the model\n",
        "    outputs = my_cnn(images)\n",
        "    _, predicted = torch.max(outputs, 1)\n",
        "    c = (predicted == labels).squeeze()\n",
        "\n",
        "    # Update count of correct and total predictions for each class\n",
        "    for i in range(len(labels)):\n",
        "        label = labels[i]\n",
        "        correct_pred[classes[label]] += c[i].item()\n",
        "        total_pred[classes[label]] += 1\n",
        "\n",
        "# Calculate and print accuracy separately for each class\n",
        "for classname, correct_count in correct_pred.items():\n",
        "    accuracy = 100 * correct_count / total_pred[classname] if total_pred[classname] != 0 else 0\n",
        "    print(f\"Accuracy for class {classname}: {accuracy:.1f}%\")"
      ],
      "metadata": {
        "id": "NQUt01gptmHB",
        "outputId": "c2668b98-4766-4894-bc50-4e278b0517cd",
        "colab": {
          "base_uri": "https://localhost:8080/"
        }
      },
      "execution_count": null,
      "outputs": [
        {
          "output_type": "stream",
          "name": "stdout",
          "text": [
            "Accuracy for class plane: 63.7%\n",
            "Accuracy for class car: 70.5%\n",
            "Accuracy for class bird: 47.8%\n",
            "Accuracy for class cat: 36.7%\n",
            "Accuracy for class deer: 50.0%\n",
            "Accuracy for class dog: 46.9%\n",
            "Accuracy for class frog: 67.8%\n",
            "Accuracy for class horse: 64.7%\n",
            "Accuracy for class ship: 72.3%\n",
            "Accuracy for class truck: 62.9%\n"
          ]
        }
      ]
    },
    {
      "cell_type": "markdown",
      "source": [
        "# 1-b. Learning Curves\n",
        "\n",
        "Plot two plots of the CNN model:\n",
        "1. the learning curve (error versus epoch)\n",
        "2. the accuracy curve (validation accuracy versus epoch)\n",
        "\n",
        "Plot training metrics in blue and validation metrics in orange for both plots. Use the code template provided."
      ],
      "metadata": {
        "id": "SN2A-k_mykSz"
      }
    },
    {
      "cell_type": "code",
      "source": [
        "# TODO 1-b\n",
        "\n",
        "# extract training loss vector\n",
        "train_loss = train_loss_epoch_history\n",
        "print(train_loss_epoch_history)\n",
        "# extract validation loss vector\n",
        "valid_loss = valid_loss_history\n",
        "\n",
        "# extract training acc vector\n",
        "train_acc = train_acc_history\n",
        "\n",
        "# extract validation acc vector\n",
        "valid_acc = valid_acc_history\n",
        "\n",
        "# create 1x2 subplots for loss on left, accuracy on right\n",
        "fig, axs = plt.subplots(1, 2, figsize=(10, 5))\n",
        "# plot train in blue, val in orange\n",
        "axs[0].plot(train_loss, label='train', color='blue')\n",
        "axs[0].plot(valid_loss, label='validation', color='orange')\n",
        "axs[0].set_title('Loss over epochs')\n",
        "axs[0].set_xlabel('Epoch')\n",
        "axs[0].set_ylabel('Loss')\n",
        "axs[0].legend()\n",
        "\n",
        "# plot train in blue, val in orange\n",
        "axs[1].plot(train_acc, label='train', color='blue')\n",
        "axs[1].plot(valid_acc, label='validation', color='orange')\n",
        "axs[1].set_title('Accuracy over epochs')\n",
        "axs[1].set_xlabel('Epoch')\n",
        "axs[1].set_ylabel('Accuracy')\n",
        "axs[1].legend()\n",
        "\n",
        "plt.show()\n",
        "\n",
        "# ENDS HERE"
      ],
      "metadata": {
        "id": "Zv9A2tTN2RgC",
        "outputId": "3d44228f-104c-4d93-da2b-2ea53092d78c",
        "colab": {
          "base_uri": "https://localhost:8080/",
          "height": 525
        }
      },
      "execution_count": null,
      "outputs": [
        {
          "output_type": "stream",
          "name": "stdout",
          "text": [
            "[1.1098117794200872, 1.090383340219024, 1.0804354992641765, 1.0621672063876109, 1.04713877864704, 1.039443751808944, 1.021533694996196, 1.0181730970455583, 1.0025929717501258, 0.9892295044698532, 0.9774542462294269, 0.9722817729992471, 0.9617399022837353, 0.943324615621263, 0.9401234004907547, 0.9308570930912237, 0.9186940029927879, 0.9073706284450118, 0.8949120891321997, 0.8876987019921564, 0.8790324406259379, 0.8707499652151849, 0.8545288284113453, 0.8473118088047975, 0.8415846687972925, 0.8317519141610261, 0.823625282497163, 0.816822813954323, 0.8086237444239817, 0.788861299775968, 0.7864634041573592, 0.7745874516523568, 0.7722149312875832, 0.7658509274197233, 0.7471326794593957, 0.7468001527391421, 0.7348002726864663, 0.7303198591159408, 0.7202414110967308, 0.7184376614108966, 0.7062226085905816, 0.6965990487936955, 0.6877165698701408, 0.6774821750297668, 0.6761038193277492, 0.6668244467419424, 0.6568828927483529, 0.6467993733989206, 0.6453353058380685, 0.6303693428161038, 0.6324210294113037, 0.6261363044665877, 0.615392167097444, 0.6041064089650561, 0.5943986562786588, 0.5905708459911833, 0.5888096454796518, 0.5831089930929196, 0.5765654985692091, 0.5655563095952295, 0.5581407264159743, 0.553280563680989, 0.5427057872152632, 0.5340692076333768, 0.528520539877521, 0.5233863966100535, 0.5194902539632882, 0.5080654976094604, 0.5044403095154246, 0.5018472658221129, 0.48863764932960463, 0.49404940616552995, 0.47400897855211976, 0.47145742139998514, 0.46834131733627077, 0.4630612896126547, 0.45880051099570696, 0.44559785704703847, 0.4434967806005174, 0.43795945898742433, 0.43696700482611445, 0.4380445873281758, 0.41551624532717807, 0.4102659760766728, 0.4124522304079335, 0.40006202060705537, 0.40574422763411405, 0.39484153716427506, 0.3904140096181517, 0.37307906074888386, 0.37991337734422864, 0.3704674167997518, 0.37092258463239974, 0.35329235454273833, 0.35621896519023144, 0.35360832778131884, 0.3521082789465121, 0.33926143606377257, 0.34814183138738014, 0.33352579375740826, 0.31795843116417055, 0.3223443042700458, 0.3201849042040527, 0.3141796916343604, 0.30633696647965986, 0.2986191988560804, 0.28621459984855285, 0.2941011768427624, 0.2988247480362084, 0.2943786227019729, 0.2915721119019636, 0.28592517212697655, 0.2545326990876228, 0.2739428583603756, 0.2695001964546313, 0.27891100373617406, 0.2709502175355413, 0.2642051749358511, 0.2610775406952876, 0.2701468893392071, 0.2615115381540007, 0.24823287376172984, 0.24559458682111873, 0.2301862880492666, 0.22237974054114834, 0.22738587609521901, 0.24348238257655672, 0.2222693952120793, 0.22960709310640956, 0.2085611885235568, 0.19955693337188404, 0.21022851243140592, 0.2040055313972151, 0.18652589956096782, 0.2011244394312239, 0.23486303096743905, 0.19325652747017563, 0.20090458394995162, 0.1838369529433311, 0.2024022961023507, 0.18284466910134456, 0.1780938388910263, 0.15776724254439592, 0.14889832078271611, 0.17170608110108954, 0.16220681492690067, 0.1768679236815234, 0.18868584095672436, 0.20313901862331257, 0.19641201283521714, 0.18601717472456064, 0.17631064825187062, 0.18460681313162397, 0.16182840359248932, 0.12985957698647382, 0.1717510044954385, 0.19876347747957632, 0.13531340585108015, 0.18788647756075402, 0.1356058508917025, 0.13883693563710353, 0.19026640617543725, 0.1286388948607217, 0.10236984676426383, 0.08757181548673636, 0.138221532462319, 0.15256351607430513, 0.1092756853266886, 0.11775855117352904, 0.1510583929670085, 0.12630055662078463, 0.1101242139650758, 0.10886758319131888, 0.12388522979939819, 0.10065002803494975, 0.10857096288329476, 0.088130012913874, 0.14159719707669727, 0.13915495671758984, 0.1479631447156144, 0.23219594625151083, 0.17621855494702698, 0.1625199523653574, 0.12810544033718715, 0.07139231539835596, 0.058253234098101875, 0.0939400174127073, 0.07312773995599739, 0.032830271769053995, 0.01835499254239213, 0.013052124209749471, 0.010654136209280058, 0.0087635741438598, 0.008018066374003697, 0.00713267653978839, 0.0066201231133928345, 0.0061752476601914805, 0.0057075955566896755, 0.005418045929733925, 0.0051310486886887606, 0.004850650541365716, 0.004611912217572521, 0.0044294295856242725, 0.004258518084990465, 0.004084422742461513, 0.003914208918109916, 0.003754664835324333, 0.003642291072340813, 0.003502090385919259, 0.0033829025998355668, 0.003278208018583097, 0.0031722040949270698, 0.003061163309623434, 0.0030012702966808894, 0.002905564206937079, 0.0028185637595108267, 0.0027567136989740336, 0.0026706430510837274, 0.0025993119317231474, 0.0025397012355755184, 0.0024717766798997096, 0.0024065415324512752, 0.002348813203098193, 0.0023201371544592413, 0.0022597033434078855, 0.0022039872299061173, 0.002163606460034183, 0.0021075161506131194, 0.002075943384752579, 0.0020281152130893557, 0.0019824264732717423, 0.0019409783769570956, 0.0019163791813952907, 0.001874687464516254, 0.0018412513164566106, 0.0018107371299474198, 0.0017770492867714945, 0.0017441923086454344, 0.0017110698653984174, 0.00168420586165539, 0.0016587807679738684, 0.0016242539151245432, 0.0016011310300855024, 0.0015727354237323355, 0.001560597364630574, 0.0015261736379604146, 0.001501051214846907, 0.001474655480984195, 0.0014588499369817508, 0.00143434150681303]\n"
          ]
        },
        {
          "output_type": "display_data",
          "data": {
            "text/plain": [
              "<Figure size 1000x500 with 2 Axes>"
            ],
            "image/png": "[encoded data removed]"
          },
          "metadata": {}
        }
      ]
    },
    {
      "cell_type": "markdown",
      "source": [
        "# 1-c. Try Different CNN Parameters\n",
        "Try different CNN parameters/configurations/model architectures to see if you can reach 80\\% accuracy on the CIFAR-10 testing set. Please briefly explain what you change and include the screenshot of model info (using `print(model)`) in the pdf."
      ],
      "metadata": {
        "id": "VW133LFey9TS"
      }
    },
    {
      "cell_type": "code",
      "source": [
        "class your_cnn(nn.Module):\n",
        "    def __init__(self):\n",
        "        super().__init__()\n",
        "        # Read through official documentation: https://pytorch.org/docs/stable/generated/torch.nn.Conv2d.html\n",
        "        self.conv1 = nn.Conv2d(3, 64, 3)\n",
        "        self.pool = nn.MaxPool2d(2, 2)\n",
        "        self.conv2 = nn.Conv2d(64, 128, 3)\n",
        "        self.conv3 = nn.Conv2d(128, 256, 3)\n",
        "        self.conv4 = nn.Conv2d(256,512, 3)\n",
        "        self.fc1 = nn.Linear(2048, 1024)\n",
        "        self.fc2 = nn.Linear(1024, 10)\n",
        "\n",
        "    def forward(self, x):\n",
        "      # TODO: build your forward function\n",
        "      # 1. First pass the x through the first conv layer followed by relu then pooling\n",
        "      x = self.pool(F.relu(self.conv1(x)))\n",
        "      # 2. Then pass the output of step 1 through the second conv layer followed by relu then pooling\n",
        "      x = self.pool(F.relu(self.conv2(x)))\n",
        "      x = (F.relu(self.conv3(x)))\n",
        "      x = (F.relu(self.conv4(x)))\n",
        "      # 3. Flatten the tensor\n",
        "      x = torch.flatten(x, 1)\n",
        "      # 4. Finally pass the output of step 3 into `fc1`, `fc2`, and `fc3` (remember the relu!)\n",
        "      x = F.relu(self.fc1(x))\n",
        "      x = (self.fc2(x))\n",
        "      return x\n",
        "your_config = { # do not modified\n",
        "    'seed': 5201314,      # Your seed number, you can pick your lucky number. :)\n",
        "    'valid_ratio': 0.2,   # validation_size = train_size * valid_ratio\n",
        "    'n_epochs': 120,      # Number of epochs.\n",
        "    'batch_size': 256,\n",
        "    'learning_rate': 0.01,\n",
        "    'early_stop': 25,    # If model has not improved for this many consecutive epochs, stop training.\n",
        "    'save_path': './models/model.ckpt'  # Your model will be saved here.\n",
        "}\n",
        "model = your_cnn().to(device)\n"
      ],
      "metadata": {
        "id": "yccNTl7iy8m2"
      },
      "execution_count": null,
      "outputs": []
    },
    {
      "cell_type": "code",
      "source": [
        "train_loss_epoch_history, train_acc_history, valid_loss_history, valid_acc_history = trainer(train_loader, valid_loader, model, your_config, device)"
      ],
      "metadata": {
        "id": "wK6Yp6g-y8oK",
        "outputId": "e7160e06-7f7f-4907-a03b-e5b5780eb623",
        "colab": {
          "base_uri": "https://localhost:8080/"
        }
      },
      "execution_count": null,
      "outputs": [
        {
          "output_type": "stream",
          "name": "stderr",
          "text": [
            "Epoch [1/120]: 100%|██████████| 157/157 [00:10<00:00, 14.57it/s, loss=2.3]\n"
          ]
        },
        {
          "output_type": "stream",
          "name": "stdout",
          "text": [
            " training accuracy: 0.11303244426751592\n",
            " validation accuracy: 0.1263671875\n"
          ]
        },
        {
          "output_type": "stream",
          "name": "stderr",
          "text": [
            "Epoch [2/120]: 100%|██████████| 157/157 [00:11<00:00, 13.65it/s, loss=2.3]\n"
          ]
        },
        {
          "output_type": "stream",
          "name": "stdout",
          "text": [
            " training accuracy: 0.13333499203821655\n",
            " validation accuracy: 0.140625\n"
          ]
        },
        {
          "output_type": "stream",
          "name": "stderr",
          "text": [
            "Epoch [3/120]: 100%|██████████| 157/157 [00:10<00:00, 14.52it/s, loss=2.28]\n"
          ]
        },
        {
          "output_type": "stream",
          "name": "stdout",
          "text": [
            " training accuracy: 0.143494559447983\n",
            " validation accuracy: 0.16708984375\n"
          ]
        },
        {
          "output_type": "stream",
          "name": "stderr",
          "text": [
            "Epoch [4/120]: 100%|██████████| 157/157 [00:10<00:00, 14.49it/s, loss=2.06]\n"
          ]
        },
        {
          "output_type": "stream",
          "name": "stdout",
          "text": [
            " training accuracy: 0.15476338574840764\n",
            " validation accuracy: 0.22333984375\n"
          ]
        },
        {
          "output_type": "stream",
          "name": "stderr",
          "text": [
            "Epoch [5/120]: 100%|██████████| 157/157 [00:10<00:00, 14.64it/s, loss=1.98]\n"
          ]
        },
        {
          "output_type": "stream",
          "name": "stdout",
          "text": [
            " training accuracy: 0.16952129777070063\n",
            " validation accuracy: 0.22412109375\n"
          ]
        },
        {
          "output_type": "stream",
          "name": "stderr",
          "text": [
            "Epoch [6/120]: 100%|██████████| 157/157 [00:10<00:00, 14.99it/s, loss=1.83]\n"
          ]
        },
        {
          "output_type": "stream",
          "name": "stdout",
          "text": [
            " training accuracy: 0.18361033704883228\n",
            " validation accuracy: 0.26728515625\n"
          ]
        },
        {
          "output_type": "stream",
          "name": "stderr",
          "text": [
            "Epoch [7/120]: 100%|██████████| 157/157 [00:10<00:00, 15.25it/s, loss=1.74]\n"
          ]
        },
        {
          "output_type": "stream",
          "name": "stdout",
          "text": [
            " training accuracy: 0.19899837920837124\n",
            " validation accuracy: 0.31552734375\n"
          ]
        },
        {
          "output_type": "stream",
          "name": "stderr",
          "text": [
            "Epoch [8/120]: 100%|██████████| 157/157 [00:10<00:00, 15.51it/s, loss=1.8]\n"
          ]
        },
        {
          "output_type": "stream",
          "name": "stdout",
          "text": [
            " training accuracy: 0.21443322054140126\n",
            " validation accuracy: 0.33125\n"
          ]
        },
        {
          "output_type": "stream",
          "name": "stderr",
          "text": [
            "Epoch [9/120]: 100%|██████████| 157/157 [00:10<00:00, 15.45it/s, loss=1.74]\n"
          ]
        },
        {
          "output_type": "stream",
          "name": "stdout",
          "text": [
            " training accuracy: 0.229633868542109\n",
            " validation accuracy: 0.35419921875\n"
          ]
        },
        {
          "output_type": "stream",
          "name": "stderr",
          "text": [
            "Epoch [10/120]: 100%|██████████| 157/157 [00:10<00:00, 15.06it/s, loss=1.62]\n"
          ]
        },
        {
          "output_type": "stream",
          "name": "stdout",
          "text": [
            " training accuracy: 0.2441655055732484\n",
            " validation accuracy: 0.3927734375\n"
          ]
        },
        {
          "output_type": "stream",
          "name": "stderr",
          "text": [
            "Epoch [11/120]: 100%|██████████| 157/157 [00:10<00:00, 14.82it/s, loss=1.51]\n"
          ]
        },
        {
          "output_type": "stream",
          "name": "stdout",
          "text": [
            " training accuracy: 0.25830106398378694\n",
            " validation accuracy: 0.410546875\n"
          ]
        },
        {
          "output_type": "stream",
          "name": "stderr",
          "text": [
            "Epoch [12/120]: 100%|██████████| 157/157 [00:10<00:00, 14.62it/s, loss=1.62]\n"
          ]
        },
        {
          "output_type": "stream",
          "name": "stdout",
          "text": [
            " training accuracy: 0.27202552746815284\n",
            " validation accuracy: 0.42763671875\n"
          ]
        },
        {
          "output_type": "stream",
          "name": "stderr",
          "text": [
            "Epoch [13/120]: 100%|██████████| 157/157 [00:10<00:00, 14.52it/s, loss=1.51]\n"
          ]
        },
        {
          "output_type": "stream",
          "name": "stdout",
          "text": [
            " training accuracy: 0.2853859168299853\n",
            " validation accuracy: 0.4021484375\n"
          ]
        },
        {
          "output_type": "stream",
          "name": "stderr",
          "text": [
            "Epoch [14/120]: 100%|██████████| 157/157 [00:10<00:00, 14.51it/s, loss=1.45]\n"
          ]
        },
        {
          "output_type": "stream",
          "name": "stdout",
          "text": [
            " training accuracy: 0.2977866952911738\n",
            " validation accuracy: 0.47265625\n"
          ]
        },
        {
          "output_type": "stream",
          "name": "stderr",
          "text": [
            "Epoch [15/120]: 100%|██████████| 157/157 [00:10<00:00, 14.49it/s, loss=1.48]\n"
          ]
        },
        {
          "output_type": "stream",
          "name": "stdout",
          "text": [
            " training accuracy: 0.3096967887473461\n",
            " validation accuracy: 0.47822265625\n"
          ]
        },
        {
          "output_type": "stream",
          "name": "stderr",
          "text": [
            "Epoch [16/120]: 100%|██████████| 157/157 [00:10<00:00, 14.58it/s, loss=1.42]\n"
          ]
        },
        {
          "output_type": "stream",
          "name": "stdout",
          "text": [
            " training accuracy: 0.32135281896894907\n",
            " validation accuracy: 0.48203125\n"
          ]
        },
        {
          "output_type": "stream",
          "name": "stderr",
          "text": [
            "Epoch [17/120]: 100%|██████████| 157/157 [00:10<00:00, 14.60it/s, loss=1.28]\n"
          ]
        },
        {
          "output_type": "stream",
          "name": "stdout",
          "text": [
            " training accuracy: 0.33250983514424876\n",
            " validation accuracy: 0.48994140625\n"
          ]
        },
        {
          "output_type": "stream",
          "name": "stderr",
          "text": [
            "Epoch [18/120]: 100%|██████████| 157/157 [00:10<00:00, 14.42it/s, loss=1.54]\n"
          ]
        },
        {
          "output_type": "stream",
          "name": "stdout",
          "text": [
            " training accuracy: 0.343121074398443\n",
            " validation accuracy: 0.52568359375\n"
          ]
        },
        {
          "output_type": "stream",
          "name": "stderr",
          "text": [
            "Epoch [19/120]: 100%|██████████| 157/157 [00:10<00:00, 14.57it/s, loss=1.13]\n"
          ]
        },
        {
          "output_type": "stream",
          "name": "stdout",
          "text": [
            " training accuracy: 0.35333687772376804\n",
            " validation accuracy: 0.5318359375\n"
          ]
        },
        {
          "output_type": "stream",
          "name": "stderr",
          "text": [
            "Epoch [20/120]: 100%|██████████| 157/157 [00:10<00:00, 14.49it/s, loss=1.37]\n"
          ]
        },
        {
          "output_type": "stream",
          "name": "stdout",
          "text": [
            " training accuracy: 0.36309588972929935\n",
            " validation accuracy: 0.53076171875\n"
          ]
        },
        {
          "output_type": "stream",
          "name": "stderr",
          "text": [
            "Epoch [21/120]: 100%|██████████| 157/157 [00:10<00:00, 15.59it/s, loss=1.44]\n"
          ]
        },
        {
          "output_type": "stream",
          "name": "stdout",
          "text": [
            " training accuracy: 0.37222048453139217\n",
            " validation accuracy: 0.5400390625\n"
          ]
        },
        {
          "output_type": "stream",
          "name": "stderr",
          "text": [
            "Epoch [22/120]: 100%|██████████| 157/157 [00:10<00:00, 15.62it/s, loss=1.21]\n"
          ]
        },
        {
          "output_type": "stream",
          "name": "stdout",
          "text": [
            " training accuracy: 0.3813388915026057\n",
            " validation accuracy: 0.547265625\n"
          ]
        },
        {
          "output_type": "stream",
          "name": "stderr",
          "text": [
            "Epoch [23/120]: 100%|██████████| 157/157 [00:10<00:00, 15.45it/s, loss=1.4]\n"
          ]
        },
        {
          "output_type": "stream",
          "name": "stdout",
          "text": [
            " training accuracy: 0.3901306338271947\n",
            " validation accuracy: 0.50908203125\n"
          ]
        },
        {
          "output_type": "stream",
          "name": "stderr",
          "text": [
            "Epoch [24/120]: 100%|██████████| 157/157 [00:10<00:00, 14.91it/s, loss=0.886]\n"
          ]
        },
        {
          "output_type": "stream",
          "name": "stdout",
          "text": [
            " training accuracy: 0.3986852690419321\n",
            " validation accuracy: 0.5830078125\n"
          ]
        },
        {
          "output_type": "stream",
          "name": "stderr",
          "text": [
            "Epoch [25/120]: 100%|██████████| 157/157 [00:10<00:00, 14.49it/s, loss=0.898]\n"
          ]
        },
        {
          "output_type": "stream",
          "name": "stdout",
          "text": [
            " training accuracy: 0.4069924363057325\n",
            " validation accuracy: 0.5828125\n"
          ]
        },
        {
          "output_type": "stream",
          "name": "stderr",
          "text": [
            "Epoch [26/120]: 100%|██████████| 157/157 [00:10<00:00, 14.50it/s, loss=1]\n"
          ]
        },
        {
          "output_type": "stream",
          "name": "stdout",
          "text": [
            " training accuracy: 0.41498690899069085\n",
            " validation accuracy: 0.58935546875\n"
          ]
        },
        {
          "output_type": "stream",
          "name": "stderr",
          "text": [
            "Epoch [27/120]: 100%|██████████| 157/157 [00:11<00:00, 14.26it/s, loss=0.959]\n"
          ]
        },
        {
          "output_type": "stream",
          "name": "stdout",
          "text": [
            " training accuracy: 0.422892338995046\n",
            " validation accuracy: 0.59609375\n"
          ]
        },
        {
          "output_type": "stream",
          "name": "stderr",
          "text": [
            "Epoch [28/120]: 100%|██████████| 157/157 [00:10<00:00, 14.38it/s, loss=0.963]\n"
          ]
        },
        {
          "output_type": "stream",
          "name": "stdout",
          "text": [
            " training accuracy: 0.4303370606801638\n",
            " validation accuracy: 0.60712890625\n"
          ]
        },
        {
          "output_type": "stream",
          "name": "stderr",
          "text": [
            "Epoch [29/120]: 100%|██████████| 157/157 [00:10<00:00, 14.51it/s, loss=0.931]\n"
          ]
        },
        {
          "output_type": "stream",
          "name": "stdout",
          "text": [
            " training accuracy: 0.43769046507797055\n",
            " validation accuracy: 0.5861328125\n"
          ]
        },
        {
          "output_type": "stream",
          "name": "stderr",
          "text": [
            "Epoch [30/120]: 100%|██████████| 157/157 [00:11<00:00, 14.27it/s, loss=1.13]\n"
          ]
        },
        {
          "output_type": "stream",
          "name": "stdout",
          "text": [
            " training accuracy: 0.4448248407643312\n",
            " validation accuracy: 0.6015625\n"
          ]
        },
        {
          "output_type": "stream",
          "name": "stderr",
          "text": [
            "Epoch [31/120]: 100%|██████████| 157/157 [00:10<00:00, 14.43it/s, loss=0.806]\n"
          ]
        },
        {
          "output_type": "stream",
          "name": "stdout",
          "text": [
            " training accuracy: 0.45179589582905283\n",
            " validation accuracy: 0.61552734375\n"
          ]
        },
        {
          "output_type": "stream",
          "name": "stderr",
          "text": [
            "Epoch [32/120]: 100%|██████████| 157/157 [00:10<00:00, 14.29it/s, loss=1.2]\n"
          ]
        },
        {
          "output_type": "stream",
          "name": "stdout",
          "text": [
            " training accuracy: 0.4585800656847134\n",
            " validation accuracy: 0.6306640625\n"
          ]
        },
        {
          "output_type": "stream",
          "name": "stderr",
          "text": [
            "Epoch [33/120]: 100%|██████████| 157/157 [00:11<00:00, 14.14it/s, loss=0.727]\n"
          ]
        },
        {
          "output_type": "stream",
          "name": "stdout",
          "text": [
            " training accuracy: 0.46521846651225635\n",
            " validation accuracy: 0.6353515625\n"
          ]
        },
        {
          "output_type": "stream",
          "name": "stderr",
          "text": [
            "Epoch [34/120]: 100%|██████████| 157/157 [00:11<00:00, 14.12it/s, loss=0.9]\n"
          ]
        },
        {
          "output_type": "stream",
          "name": "stdout",
          "text": [
            " training accuracy: 0.4717590857999251\n",
            " validation accuracy: 0.65986328125\n"
          ]
        },
        {
          "output_type": "stream",
          "name": "stderr",
          "text": [
            "Epoch [35/120]: 100%|██████████| 157/157 [00:11<00:00, 14.13it/s, loss=0.759]\n"
          ]
        },
        {
          "output_type": "stream",
          "name": "stdout",
          "text": [
            " training accuracy: 0.4781783155141037\n",
            " validation accuracy: 0.65673828125\n"
          ]
        },
        {
          "output_type": "stream",
          "name": "stderr",
          "text": [
            "Epoch [36/120]: 100%|██████████| 157/157 [00:11<00:00, 13.93it/s, loss=0.811]\n"
          ]
        },
        {
          "output_type": "stream",
          "name": "stdout",
          "text": [
            " training accuracy: 0.48444273044939845\n",
            " validation accuracy: 0.6341796875\n"
          ]
        },
        {
          "output_type": "stream",
          "name": "stderr",
          "text": [
            "Epoch [37/120]: 100%|██████████| 157/157 [00:10<00:00, 14.46it/s, loss=0.829]\n"
          ]
        },
        {
          "output_type": "stream",
          "name": "stdout",
          "text": [
            " training accuracy: 0.4906011953434326\n",
            " validation accuracy: 0.65576171875\n"
          ]
        },
        {
          "output_type": "stream",
          "name": "stderr",
          "text": [
            "Epoch [38/120]: 100%|██████████| 157/157 [00:10<00:00, 14.60it/s, loss=0.821]\n"
          ]
        },
        {
          "output_type": "stream",
          "name": "stdout",
          "text": [
            " training accuracy: 0.4965880877053302\n",
            " validation accuracy: 0.63720703125\n"
          ]
        },
        {
          "output_type": "stream",
          "name": "stderr",
          "text": [
            "Epoch [39/120]: 100%|██████████| 157/157 [00:10<00:00, 14.63it/s, loss=0.881]\n"
          ]
        },
        {
          "output_type": "stream",
          "name": "stdout",
          "text": [
            " training accuracy: 0.5025167656785889\n",
            " validation accuracy: 0.68681640625\n"
          ]
        },
        {
          "output_type": "stream",
          "name": "stderr",
          "text": [
            "Epoch [40/120]: 100%|██████████| 157/157 [00:10<00:00, 14.79it/s, loss=0.796]\n"
          ]
        },
        {
          "output_type": "stream",
          "name": "stdout",
          "text": [
            " training accuracy: 0.5082597283041401\n",
            " validation accuracy: 0.67470703125\n"
          ]
        },
        {
          "output_type": "stream",
          "name": "stderr",
          "text": [
            "Epoch [41/120]: 100%|██████████| 157/157 [00:10<00:00, 14.95it/s, loss=0.597]\n"
          ]
        },
        {
          "output_type": "stream",
          "name": "stdout",
          "text": [
            " training accuracy: 0.5139634631816064\n",
            " validation accuracy: 0.678125\n"
          ]
        },
        {
          "output_type": "stream",
          "name": "stderr",
          "text": [
            "Epoch [42/120]: 100%|██████████| 157/157 [00:10<00:00, 14.74it/s, loss=0.588]\n"
          ]
        },
        {
          "output_type": "stream",
          "name": "stdout",
          "text": [
            " training accuracy: 0.5195744948058841\n",
            " validation accuracy: 0.6958984375\n"
          ]
        },
        {
          "output_type": "stream",
          "name": "stderr",
          "text": [
            "Epoch [43/120]: 100%|██████████| 157/157 [00:10<00:00, 14.65it/s, loss=0.522]\n"
          ]
        },
        {
          "output_type": "stream",
          "name": "stdout",
          "text": [
            " training accuracy: 0.5250015044067545\n",
            " validation accuracy: 0.6966796875\n"
          ]
        },
        {
          "output_type": "stream",
          "name": "stderr",
          "text": [
            "Epoch [44/120]: 100%|██████████| 157/157 [00:10<00:00, 14.48it/s, loss=0.669]\n"
          ]
        },
        {
          "output_type": "stream",
          "name": "stdout",
          "text": [
            " training accuracy: 0.530421024536769\n",
            " validation accuracy: 0.69453125\n"
          ]
        },
        {
          "output_type": "stream",
          "name": "stderr",
          "text": [
            "Epoch [45/120]: 100%|██████████| 157/157 [00:10<00:00, 14.57it/s, loss=0.395]\n"
          ]
        },
        {
          "output_type": "stream",
          "name": "stdout",
          "text": [
            " training accuracy: 0.5357384554140128\n",
            " validation accuracy: 0.69443359375\n"
          ]
        },
        {
          "output_type": "stream",
          "name": "stderr",
          "text": [
            "Epoch [46/120]: 100%|██████████| 157/157 [00:10<00:00, 14.47it/s, loss=0.676]\n"
          ]
        },
        {
          "output_type": "stream",
          "name": "stdout",
          "text": [
            " training accuracy: 0.5409674864995846\n",
            " validation accuracy: 0.70830078125\n"
          ]
        },
        {
          "output_type": "stream",
          "name": "stderr",
          "text": [
            "Epoch [47/120]: 100%|██████████| 157/157 [00:11<00:00, 14.21it/s, loss=0.679]\n"
          ]
        },
        {
          "output_type": "stream",
          "name": "stdout",
          "text": [
            " training accuracy: 0.5461333471676378\n",
            " validation accuracy: 0.71484375\n"
          ]
        },
        {
          "output_type": "stream",
          "name": "stderr",
          "text": [
            "Epoch [48/120]: 100%|██████████| 157/157 [00:11<00:00, 14.04it/s, loss=0.423]\n"
          ]
        },
        {
          "output_type": "stream",
          "name": "stdout",
          "text": [
            " training accuracy: 0.5513073704551487\n",
            " validation accuracy: 0.69677734375\n"
          ]
        },
        {
          "output_type": "stream",
          "name": "stderr",
          "text": [
            "Epoch [49/120]: 100%|██████████| 157/157 [00:11<00:00, 13.97it/s, loss=0.786]\n"
          ]
        },
        {
          "output_type": "stream",
          "name": "stdout",
          "text": [
            " training accuracy: 0.5563453586052255\n",
            " validation accuracy: 0.6908203125\n"
          ]
        },
        {
          "output_type": "stream",
          "name": "stderr",
          "text": [
            "Epoch [50/120]: 100%|██████████| 157/157 [00:11<00:00, 14.09it/s, loss=0.481]\n"
          ]
        },
        {
          "output_type": "stream",
          "name": "stdout",
          "text": [
            " training accuracy: 0.5612783638535032\n",
            " validation accuracy: 0.70859375\n"
          ]
        },
        {
          "output_type": "stream",
          "name": "stderr",
          "text": [
            "Epoch [51/120]: 100%|██████████| 157/157 [00:11<00:00, 14.27it/s, loss=0.4]\n"
          ]
        },
        {
          "output_type": "stream",
          "name": "stdout",
          "text": [
            " training accuracy: 0.5661959847633321\n",
            " validation accuracy: 0.70078125\n"
          ]
        },
        {
          "output_type": "stream",
          "name": "stderr",
          "text": [
            "Epoch [52/120]: 100%|██████████| 157/157 [00:10<00:00, 14.31it/s, loss=0.5]\n"
          ]
        },
        {
          "output_type": "stream",
          "name": "stdout",
          "text": [
            " training accuracy: 0.571030208843704\n",
            " validation accuracy: 0.72158203125\n"
          ]
        },
        {
          "output_type": "stream",
          "name": "stderr",
          "text": [
            "Epoch [53/120]: 100%|██████████| 157/157 [00:11<00:00, 14.07it/s, loss=0.791]\n"
          ]
        },
        {
          "output_type": "stream",
          "name": "stdout",
          "text": [
            " training accuracy: 0.5758815234046388\n",
            " validation accuracy: 0.71318359375\n"
          ]
        },
        {
          "output_type": "stream",
          "name": "stderr",
          "text": [
            "Epoch [54/120]: 100%|██████████| 157/157 [00:11<00:00, 14.20it/s, loss=0.446]\n"
          ]
        },
        {
          "output_type": "stream",
          "name": "stdout",
          "text": [
            " training accuracy: 0.5806522211901392\n",
            " validation accuracy: 0.73173828125\n"
          ]
        },
        {
          "output_type": "stream",
          "name": "stderr",
          "text": [
            "Epoch [55/120]: 100%|██████████| 157/157 [00:10<00:00, 14.37it/s, loss=0.59]\n"
          ]
        },
        {
          "output_type": "stream",
          "name": "stdout",
          "text": [
            " training accuracy: 0.5853448899826288\n",
            " validation accuracy: 0.7072265625\n"
          ]
        },
        {
          "output_type": "stream",
          "name": "stderr",
          "text": [
            "Epoch [56/120]: 100%|██████████| 157/157 [00:11<00:00, 14.26it/s, loss=0.478]\n"
          ]
        },
        {
          "output_type": "stream",
          "name": "stdout",
          "text": [
            " training accuracy: 0.5900530133928571\n",
            " validation accuracy: 0.713671875\n"
          ]
        },
        {
          "output_type": "stream",
          "name": "stderr",
          "text": [
            "Epoch [57/120]: 100%|██████████| 157/157 [00:11<00:00, 14.15it/s, loss=0.367]\n"
          ]
        },
        {
          "output_type": "stream",
          "name": "stdout",
          "text": [
            " training accuracy: 0.5947063743155659\n",
            " validation accuracy: 0.73349609375\n"
          ]
        },
        {
          "output_type": "stream",
          "name": "stderr",
          "text": [
            "Epoch [58/120]: 100%|██████████| 157/157 [00:11<00:00, 14.09it/s, loss=0.48]\n"
          ]
        },
        {
          "output_type": "stream",
          "name": "stdout",
          "text": [
            " training accuracy: 0.5993897395947727\n",
            " validation accuracy: 0.66767578125\n"
          ]
        },
        {
          "output_type": "stream",
          "name": "stderr",
          "text": [
            "Epoch [59/120]: 100%|██████████| 157/157 [00:11<00:00, 13.88it/s, loss=0.434]\n"
          ]
        },
        {
          "output_type": "stream",
          "name": "stdout",
          "text": [
            " training accuracy: 0.6039666381032063\n",
            " validation accuracy: 0.72236328125\n"
          ]
        },
        {
          "output_type": "stream",
          "name": "stderr",
          "text": [
            "Epoch [60/120]: 100%|██████████| 157/157 [00:10<00:00, 14.29it/s, loss=0.243]\n"
          ]
        },
        {
          "output_type": "stream",
          "name": "stdout",
          "text": [
            " training accuracy: 0.608580895037155\n",
            " validation accuracy: 0.7220703125\n"
          ]
        },
        {
          "output_type": "stream",
          "name": "stderr",
          "text": [
            "Epoch [61/120]: 100%|██████████| 157/157 [00:10<00:00, 14.42it/s, loss=0.423]\n"
          ]
        },
        {
          "output_type": "stream",
          "name": "stdout",
          "text": [
            " training accuracy: 0.6131274798997598\n",
            " validation accuracy: 0.72421875\n"
          ]
        },
        {
          "output_type": "stream",
          "name": "stderr",
          "text": [
            "Epoch [62/120]: 100%|██████████| 157/157 [00:10<00:00, 14.88it/s, loss=0.327]\n"
          ]
        },
        {
          "output_type": "stream",
          "name": "stdout",
          "text": [
            " training accuracy: 0.6177043738442572\n",
            " validation accuracy: 0.72109375\n"
          ]
        },
        {
          "output_type": "stream",
          "name": "stderr",
          "text": [
            "Epoch [63/120]: 100%|██████████| 157/157 [00:10<00:00, 15.40it/s, loss=0.381]\n"
          ]
        },
        {
          "output_type": "stream",
          "name": "stdout",
          "text": [
            " training accuracy: 0.6222244338287332\n",
            " validation accuracy: 0.70029296875\n"
          ]
        },
        {
          "output_type": "stream",
          "name": "stderr",
          "text": [
            "Epoch [64/120]: 100%|██████████| 157/157 [00:10<00:00, 15.45it/s, loss=0.205]\n"
          ]
        },
        {
          "output_type": "stream",
          "name": "stdout",
          "text": [
            " training accuracy: 0.626708595616043\n",
            " validation accuracy: 0.723828125\n"
          ]
        },
        {
          "output_type": "stream",
          "name": "stderr",
          "text": [
            "Epoch [65/120]: 100%|██████████| 157/157 [00:10<00:00, 15.13it/s, loss=0.289]\n"
          ]
        },
        {
          "output_type": "stream",
          "name": "stdout",
          "text": [
            " training accuracy: 0.631141291033807\n",
            " validation accuracy: 0.725\n"
          ]
        },
        {
          "output_type": "stream",
          "name": "stderr",
          "text": [
            "Epoch [66/120]: 100%|██████████| 157/157 [00:10<00:00, 14.67it/s, loss=0.187]\n"
          ]
        },
        {
          "output_type": "stream",
          "name": "stdout",
          "text": [
            " training accuracy: 0.6355693429116\n",
            " validation accuracy: 0.72626953125\n"
          ]
        },
        {
          "output_type": "stream",
          "name": "stderr",
          "text": [
            "Epoch [67/120]: 100%|██████████| 157/157 [00:10<00:00, 14.33it/s, loss=0.183]\n"
          ]
        },
        {
          "output_type": "stream",
          "name": "stdout",
          "text": [
            " training accuracy: 0.6399974153911969\n",
            " validation accuracy: 0.716796875\n"
          ]
        },
        {
          "output_type": "stream",
          "name": "stderr",
          "text": [
            "Epoch [68/120]: 100%|██████████| 157/157 [00:10<00:00, 14.42it/s, loss=0.237]\n"
          ]
        },
        {
          "output_type": "stream",
          "name": "stdout",
          "text": [
            " training accuracy: 0.6443812347789434\n",
            " validation accuracy: 0.725390625\n"
          ]
        },
        {
          "output_type": "stream",
          "name": "stderr",
          "text": [
            "Epoch [69/120]: 100%|██████████| 157/157 [00:10<00:00, 14.49it/s, loss=0.25]\n"
          ]
        },
        {
          "output_type": "stream",
          "name": "stdout",
          "text": [
            " training accuracy: 0.6487649139204283\n",
            " validation accuracy: 0.72041015625\n"
          ]
        },
        {
          "output_type": "stream",
          "name": "stderr",
          "text": [
            "Epoch [70/120]: 100%|██████████| 157/157 [00:10<00:00, 14.42it/s, loss=0.229]\n"
          ]
        },
        {
          "output_type": "stream",
          "name": "stdout",
          "text": [
            " training accuracy: 0.6530446712920838\n",
            " validation accuracy: 0.72587890625\n"
          ]
        },
        {
          "output_type": "stream",
          "name": "stderr",
          "text": [
            "Epoch [71/120]: 100%|██████████| 157/157 [00:10<00:00, 14.43it/s, loss=0.145]\n"
          ]
        },
        {
          "output_type": "stream",
          "name": "stdout",
          "text": [
            " training accuracy: 0.6573496512514578\n",
            " validation accuracy: 0.733984375\n"
          ]
        },
        {
          "output_type": "stream",
          "name": "stderr",
          "text": [
            "Epoch [72/120]: 100%|██████████| 157/157 [00:11<00:00, 14.04it/s, loss=0.224]\n"
          ]
        },
        {
          "output_type": "stream",
          "name": "stdout",
          "text": [
            " training accuracy: 0.661601742193029\n",
            " validation accuracy: 0.70234375\n"
          ]
        },
        {
          "output_type": "stream",
          "name": "stderr",
          "text": [
            "Epoch [73/120]: 100%|██████████| 157/157 [00:11<00:00, 14.20it/s, loss=0.0488]\n"
          ]
        },
        {
          "output_type": "stream",
          "name": "stdout",
          "text": [
            " training accuracy: 0.6658358372960475\n",
            " validation accuracy: 0.73251953125\n"
          ]
        },
        {
          "output_type": "stream",
          "name": "stderr",
          "text": [
            "Epoch [74/120]: 100%|██████████| 157/157 [00:11<00:00, 14.09it/s, loss=0.084]\n"
          ]
        },
        {
          "output_type": "stream",
          "name": "stdout",
          "text": [
            " training accuracy: 0.6700799002625236\n",
            " validation accuracy: 0.73017578125\n"
          ]
        },
        {
          "output_type": "stream",
          "name": "stderr",
          "text": [
            "Epoch [75/120]: 100%|██████████| 157/157 [00:11<00:00, 14.12it/s, loss=0.051]\n"
          ]
        },
        {
          "output_type": "stream",
          "name": "stdout",
          "text": [
            " training accuracy: 0.6742588906581741\n",
            " validation accuracy: 0.73232421875\n"
          ]
        },
        {
          "output_type": "stream",
          "name": "stderr",
          "text": [
            "Epoch [76/120]: 100%|██████████| 157/157 [00:10<00:00, 14.78it/s, loss=0.0786]\n"
          ]
        },
        {
          "output_type": "stream",
          "name": "stdout",
          "text": [
            " training accuracy: 0.678395019694938\n",
            " validation accuracy: 0.7296875\n"
          ]
        },
        {
          "output_type": "stream",
          "name": "stderr",
          "text": [
            "Epoch [77/120]: 100%|██████████| 157/157 [00:10<00:00, 14.56it/s, loss=0.0548]\n"
          ]
        },
        {
          "output_type": "stream",
          "name": "stdout",
          "text": [
            " training accuracy: 0.6824431042683431\n",
            " validation accuracy: 0.6978515625\n"
          ]
        },
        {
          "output_type": "stream",
          "name": "stderr",
          "text": [
            "Epoch [78/120]: 100%|██████████| 157/157 [00:10<00:00, 14.72it/s, loss=0.0453]\n"
          ]
        },
        {
          "output_type": "stream",
          "name": "stdout",
          "text": [
            " training accuracy: 0.6863924955087376\n",
            " validation accuracy: 0.7330078125\n"
          ]
        },
        {
          "output_type": "stream",
          "name": "stderr",
          "text": [
            "Epoch [79/120]: 100%|██████████| 157/157 [00:10<00:00, 15.26it/s, loss=0.0239]\n"
          ]
        },
        {
          "output_type": "stream",
          "name": "stdout",
          "text": [
            " training accuracy: 0.6903130794968959\n",
            " validation accuracy: 0.72646484375\n"
          ]
        },
        {
          "output_type": "stream",
          "name": "stderr",
          "text": [
            "Epoch [80/120]: 100%|██████████| 157/157 [00:10<00:00, 15.01it/s, loss=0.0219]\n"
          ]
        },
        {
          "output_type": "stream",
          "name": "stdout",
          "text": [
            " training accuracy: 0.6941574193869426\n",
            " validation accuracy: 0.7318359375\n"
          ]
        },
        {
          "output_type": "stream",
          "name": "stderr",
          "text": [
            "Epoch [81/120]: 100%|██████████| 157/157 [00:10<00:00, 15.03it/s, loss=0.0225]\n"
          ]
        },
        {
          "output_type": "stream",
          "name": "stdout",
          "text": [
            " training accuracy: 0.6979209670126603\n",
            " validation accuracy: 0.7369140625\n"
          ]
        },
        {
          "output_type": "stream",
          "name": "stderr",
          "text": [
            "Epoch [82/120]: 100%|██████████| 157/157 [00:10<00:00, 14.90it/s, loss=0.0237]\n"
          ]
        },
        {
          "output_type": "stream",
          "name": "stdout",
          "text": [
            " training accuracy: 0.7015969686965978\n",
            " validation accuracy: 0.739453125\n"
          ]
        },
        {
          "output_type": "stream",
          "name": "stderr",
          "text": [
            "Epoch [83/120]: 100%|██████████| 157/157 [00:11<00:00, 13.87it/s, loss=0.0178]\n"
          ]
        },
        {
          "output_type": "stream",
          "name": "stdout",
          "text": [
            " training accuracy: 0.7051454224541478\n",
            " validation accuracy: 0.73916015625\n"
          ]
        },
        {
          "output_type": "stream",
          "name": "stderr",
          "text": [
            "Epoch [84/120]: 100%|██████████| 157/157 [00:11<00:00, 14.12it/s, loss=0.00542]\n"
          ]
        },
        {
          "output_type": "stream",
          "name": "stdout",
          "text": [
            " training accuracy: 0.7086538188125568\n",
            " validation accuracy: 0.73994140625\n"
          ]
        },
        {
          "output_type": "stream",
          "name": "stderr",
          "text": [
            "Epoch [85/120]: 100%|██████████| 157/157 [00:11<00:00, 13.97it/s, loss=0.00701]\n"
          ]
        },
        {
          "output_type": "stream",
          "name": "stdout",
          "text": [
            " training accuracy: 0.7120805428062945\n",
            " validation accuracy: 0.744921875\n"
          ]
        },
        {
          "output_type": "stream",
          "name": "stderr",
          "text": [
            "Epoch [86/120]: 100%|██████████| 157/157 [00:11<00:00, 13.91it/s, loss=0.00721]\n"
          ]
        },
        {
          "output_type": "stream",
          "name": "stdout",
          "text": [
            " training accuracy: 0.7154284434713376\n",
            " validation accuracy: 0.73896484375\n"
          ]
        },
        {
          "output_type": "stream",
          "name": "stderr",
          "text": [
            "Epoch [87/120]: 100%|██████████| 157/157 [00:11<00:00, 13.99it/s, loss=0.00595]\n"
          ]
        },
        {
          "output_type": "stream",
          "name": "stdout",
          "text": [
            " training accuracy: 0.7186993809027015\n",
            " validation accuracy: 0.74296875\n"
          ]
        },
        {
          "output_type": "stream",
          "name": "stderr",
          "text": [
            "Epoch [88/120]: 100%|██████████| 157/157 [00:10<00:00, 14.32it/s, loss=0.00948]\n"
          ]
        },
        {
          "output_type": "stream",
          "name": "stdout",
          "text": [
            " training accuracy: 0.721895978846989\n",
            " validation accuracy: 0.7431640625\n"
          ]
        },
        {
          "output_type": "stream",
          "name": "stderr",
          "text": [
            "Epoch [89/120]: 100%|██████████| 157/157 [00:11<00:00, 14.07it/s, loss=0.00371]\n"
          ]
        },
        {
          "output_type": "stream",
          "name": "stdout",
          "text": [
            " training accuracy: 0.7250207431296071\n",
            " validation accuracy: 0.74560546875\n"
          ]
        },
        {
          "output_type": "stream",
          "name": "stderr",
          "text": [
            "Epoch [90/120]: 100%|██████████| 157/157 [00:11<00:00, 14.23it/s, loss=0.00399]\n"
          ]
        },
        {
          "output_type": "stream",
          "name": "stdout",
          "text": [
            " training accuracy: 0.7280760682059448\n",
            " validation accuracy: 0.7462890625\n"
          ]
        },
        {
          "output_type": "stream",
          "name": "stderr",
          "text": [
            "Epoch [91/120]: 100%|██████████| 157/157 [00:11<00:00, 13.97it/s, loss=0.0058]\n"
          ]
        },
        {
          "output_type": "stream",
          "name": "stdout",
          "text": [
            " training accuracy: 0.7310642432806047\n",
            " validation accuracy: 0.74326171875\n"
          ]
        },
        {
          "output_type": "stream",
          "name": "stderr",
          "text": [
            "Epoch [92/120]: 100%|██████████| 157/157 [00:11<00:00, 13.89it/s, loss=0.00379]\n"
          ]
        },
        {
          "output_type": "stream",
          "name": "stdout",
          "text": [
            " training accuracy: 0.7339874580275547\n",
            " validation accuracy: 0.741796875\n"
          ]
        },
        {
          "output_type": "stream",
          "name": "stderr",
          "text": [
            "Epoch [93/120]: 100%|██████████| 157/157 [00:11<00:00, 13.94it/s, loss=0.00323]\n"
          ]
        },
        {
          "output_type": "stream",
          "name": "stdout",
          "text": [
            " training accuracy: 0.7368478079412369\n",
            " validation accuracy: 0.74462890625\n"
          ]
        },
        {
          "output_type": "stream",
          "name": "stderr",
          "text": [
            "Epoch [94/120]: 100%|██████████| 157/157 [00:11<00:00, 13.98it/s, loss=0.00452]\n"
          ]
        },
        {
          "output_type": "stream",
          "name": "stdout",
          "text": [
            " training accuracy: 0.7396472993461174\n",
            " validation accuracy: 0.74462890625\n"
          ]
        },
        {
          "output_type": "stream",
          "name": "stderr",
          "text": [
            "Epoch [95/120]: 100%|██████████| 157/157 [00:11<00:00, 14.09it/s, loss=0.00346]\n"
          ]
        },
        {
          "output_type": "stream",
          "name": "stdout",
          "text": [
            " training accuracy: 0.7423878540898424\n",
            " validation accuracy: 0.747265625\n"
          ]
        },
        {
          "output_type": "stream",
          "name": "stderr",
          "text": [
            "Epoch [96/120]: 100%|██████████| 157/157 [00:11<00:00, 14.03it/s, loss=0.00205]\n"
          ]
        },
        {
          "output_type": "stream",
          "name": "stdout",
          "text": [
            " training accuracy: 0.7450713139430732\n",
            " validation accuracy: 0.74619140625\n"
          ]
        },
        {
          "output_type": "stream",
          "name": "stderr",
          "text": [
            "Epoch [97/120]: 100%|██████████| 157/157 [00:10<00:00, 14.32it/s, loss=0.00392]\n"
          ]
        },
        {
          "output_type": "stream",
          "name": "stdout",
          "text": [
            " training accuracy: 0.7476994447271653\n",
            " validation accuracy: 0.74208984375\n"
          ]
        },
        {
          "output_type": "stream",
          "name": "stderr",
          "text": [
            "Epoch [98/120]: 100%|██████████| 157/157 [00:10<00:00, 14.59it/s, loss=0.00278]\n"
          ]
        },
        {
          "output_type": "stream",
          "name": "stdout",
          "text": [
            " training accuracy: 0.750273940189133\n",
            " validation accuracy: 0.74697265625\n"
          ]
        },
        {
          "output_type": "stream",
          "name": "stderr",
          "text": [
            "Epoch [99/120]: 100%|██████████| 157/157 [00:10<00:00, 14.65it/s, loss=0.00195]\n"
          ]
        },
        {
          "output_type": "stream",
          "name": "stdout",
          "text": [
            " training accuracy: 0.752796425641768\n",
            " validation accuracy: 0.74130859375\n"
          ]
        },
        {
          "output_type": "stream",
          "name": "stderr",
          "text": [
            "Epoch [100/120]: 100%|██████████| 157/157 [00:10<00:00, 14.64it/s, loss=0.00155]\n"
          ]
        },
        {
          "output_type": "stream",
          "name": "stdout",
          "text": [
            " training accuracy: 0.7552684613853503\n",
            " validation accuracy: 0.74208984375\n"
          ]
        },
        {
          "output_type": "stream",
          "name": "stderr",
          "text": [
            "Epoch [101/120]: 100%|██████████| 157/157 [00:10<00:00, 14.78it/s, loss=0.00327]\n"
          ]
        },
        {
          "output_type": "stream",
          "name": "stdout",
          "text": [
            " training accuracy: 0.7576915459260894\n",
            " validation accuracy: 0.74736328125\n"
          ]
        },
        {
          "output_type": "stream",
          "name": "stderr",
          "text": [
            "Epoch [102/120]: 100%|██████████| 157/157 [00:10<00:00, 14.57it/s, loss=0.00187]\n"
          ]
        },
        {
          "output_type": "stream",
          "name": "stdout",
          "text": [
            " training accuracy: 0.7600671190052454\n",
            " validation accuracy: 0.74150390625\n"
          ]
        },
        {
          "output_type": "stream",
          "name": "stderr",
          "text": [
            "Epoch [103/120]: 100%|██████████| 157/157 [00:10<00:00, 14.65it/s, loss=0.00188]\n"
          ]
        },
        {
          "output_type": "stream",
          "name": "stdout",
          "text": [
            " training accuracy: 0.7623965644517964\n",
            " validation accuracy: 0.74091796875\n"
          ]
        },
        {
          "output_type": "stream",
          "name": "stderr",
          "text": [
            "Epoch [104/120]: 100%|██████████| 157/157 [00:10<00:00, 14.75it/s, loss=0.00205]\n"
          ]
        },
        {
          "output_type": "stream",
          "name": "stdout",
          "text": [
            " training accuracy: 0.7646812128705291\n",
            " validation accuracy: 0.745703125\n"
          ]
        },
        {
          "output_type": "stream",
          "name": "stderr",
          "text": [
            "Epoch [105/120]: 100%|██████████| 157/157 [00:10<00:00, 14.61it/s, loss=0.00319]\n"
          ]
        },
        {
          "output_type": "stream",
          "name": "stdout",
          "text": [
            " training accuracy: 0.7669223441765242\n",
            " validation accuracy: 0.74638671875\n"
          ]
        },
        {
          "output_type": "stream",
          "name": "stderr",
          "text": [
            "Epoch [106/120]: 100%|██████████| 157/157 [00:10<00:00, 14.50it/s, loss=0.00129]\n"
          ]
        },
        {
          "output_type": "stream",
          "name": "stdout",
          "text": [
            " training accuracy: 0.7691211899861795\n",
            " validation accuracy: 0.74482421875\n"
          ]
        },
        {
          "output_type": "stream",
          "name": "stderr",
          "text": [
            "Epoch [107/120]: 100%|██████████| 157/157 [00:10<00:00, 14.41it/s, loss=0.00137]\n"
          ]
        },
        {
          "output_type": "stream",
          "name": "stdout",
          "text": [
            " training accuracy: 0.7712789358741592\n",
            " validation accuracy: 0.744140625\n"
          ]
        },
        {
          "output_type": "stream",
          "name": "stderr",
          "text": [
            "Epoch [108/120]: 100%|██████████| 157/157 [00:11<00:00, 14.23it/s, loss=0.00121]\n"
          ]
        },
        {
          "output_type": "stream",
          "name": "stdout",
          "text": [
            " training accuracy: 0.773396723504954\n",
            " validation accuracy: 0.73720703125\n"
          ]
        },
        {
          "output_type": "stream",
          "name": "stderr",
          "text": [
            "Epoch [109/120]: 100%|██████████| 157/157 [00:11<00:00, 14.08it/s, loss=0.00116]\n"
          ]
        },
        {
          "output_type": "stream",
          "name": "stdout",
          "text": [
            " training accuracy: 0.7754756526471104\n",
            " validation accuracy: 0.74462890625\n"
          ]
        },
        {
          "output_type": "stream",
          "name": "stderr",
          "text": [
            "Epoch [110/120]: 100%|██████████| 157/157 [00:11<00:00, 14.09it/s, loss=0.00198]\n"
          ]
        },
        {
          "output_type": "stream",
          "name": "stdout",
          "text": [
            " training accuracy: 0.7775167830775912\n",
            " validation accuracy: 0.74306640625\n"
          ]
        },
        {
          "output_type": "stream",
          "name": "stderr",
          "text": [
            "Epoch [111/120]: 100%|██████████| 157/157 [00:11<00:00, 13.98it/s, loss=0.00148]\n"
          ]
        },
        {
          "output_type": "stream",
          "name": "stdout",
          "text": [
            " training accuracy: 0.7795211363831985\n",
            " validation accuracy: 0.74765625\n"
          ]
        },
        {
          "output_type": "stream",
          "name": "stderr",
          "text": [
            "Epoch [112/120]: 100%|██████████| 157/157 [00:11<00:00, 13.98it/s, loss=0.00122]\n"
          ]
        },
        {
          "output_type": "stream",
          "name": "stdout",
          "text": [
            " training accuracy: 0.7814896976654914\n",
            " validation accuracy: 0.74951171875\n"
          ]
        },
        {
          "output_type": "stream",
          "name": "stderr",
          "text": [
            "Epoch [113/120]: 100%|██████████| 157/157 [00:11<00:00, 13.91it/s, loss=0.00144]\n"
          ]
        },
        {
          "output_type": "stream",
          "name": "stdout",
          "text": [
            " training accuracy: 0.7834234171551773\n",
            " validation accuracy: 0.74365234375\n"
          ]
        },
        {
          "output_type": "stream",
          "name": "stderr",
          "text": [
            "Epoch [114/120]: 100%|██████████| 157/157 [00:11<00:00, 13.79it/s, loss=0.0013]\n"
          ]
        },
        {
          "output_type": "stream",
          "name": "stdout",
          "text": [
            " training accuracy: 0.7853232117415354\n",
            " validation accuracy: 0.7470703125\n"
          ]
        },
        {
          "output_type": "stream",
          "name": "stderr",
          "text": [
            "Epoch [115/120]: 100%|██████████| 157/157 [00:11<00:00, 13.95it/s, loss=0.000877]\n"
          ]
        },
        {
          "output_type": "stream",
          "name": "stdout",
          "text": [
            " training accuracy: 0.7871899664220438\n",
            " validation accuracy: 0.745703125\n"
          ]
        },
        {
          "output_type": "stream",
          "name": "stderr",
          "text": [
            "Epoch [116/120]: 100%|██████████| 157/157 [00:11<00:00, 13.98it/s, loss=0.00111]\n"
          ]
        },
        {
          "output_type": "stream",
          "name": "stdout",
          "text": [
            " training accuracy: 0.7890245356770261\n",
            " validation accuracy: 0.74169921875\n"
          ]
        },
        {
          "output_type": "stream",
          "name": "stderr",
          "text": [
            "Epoch [117/120]: 100%|██████████| 157/157 [00:11<00:00, 13.99it/s, loss=0.00138]\n"
          ]
        },
        {
          "output_type": "stream",
          "name": "stdout",
          "text": [
            " training accuracy: 0.7908277447738037\n",
            " validation accuracy: 0.7517578125\n"
          ]
        },
        {
          "output_type": "stream",
          "name": "stderr",
          "text": [
            "Epoch [118/120]: 100%|██████████| 157/157 [00:11<00:00, 14.03it/s, loss=0.00125]\n"
          ]
        },
        {
          "output_type": "stream",
          "name": "stdout",
          "text": [
            " training accuracy: 0.7926003910045342\n",
            " validation accuracy: 0.7451171875\n"
          ]
        },
        {
          "output_type": "stream",
          "name": "stderr",
          "text": [
            "Epoch [119/120]: 100%|██████████| 157/157 [00:11<00:00, 13.88it/s, loss=0.000798]\n"
          ]
        },
        {
          "output_type": "stream",
          "name": "stdout",
          "text": [
            " training accuracy: 0.7943432448616389\n",
            " validation accuracy: 0.74443359375\n"
          ]
        },
        {
          "output_type": "stream",
          "name": "stderr",
          "text": [
            "Epoch [120/120]: 100%|██████████| 157/157 [00:11<00:00, 13.86it/s, loss=0.000966]\n"
          ]
        },
        {
          "output_type": "stream",
          "name": "stdout",
          "text": [
            " training accuracy: 0.7960570511544586\n",
            " validation accuracy: 0.74462890625\n"
          ]
        }
      ]
    },
    {
      "cell_type": "code",
      "source": [
        "correct = 0\n",
        "total = 0\n",
        "# since we're not training, we don't need to calculate the gradients for our outputs\n",
        "with torch.no_grad():\n",
        "    for data in test_loader:\n",
        "        images, labels = data\n",
        "        images, labels = images.to(device), labels.to(device)\n",
        "        # calculate outputs by running images through the network\n",
        "        outputs = model(images)\n",
        "        # the class with the highest energy is what we choose as prediction\n",
        "        _, predicted = torch.max(outputs.data, 1)\n",
        "        total += labels.size(0)\n",
        "        correct += (predicted == labels).sum().item()\n",
        "\n",
        "print(f'Accuracy of the network on the 10000 test images: {100 * correct // total} %')\n",
        "print(model)\n",
        "train_loss = train_loss_epoch_history\n",
        "print(train_loss_epoch_history)\n",
        "# extract validation loss vector\n",
        "valid_loss = valid_loss_history\n",
        "\n",
        "# extract training acc vector\n",
        "train_acc = train_acc_history\n",
        "\n",
        "# extract validation acc vector\n",
        "valid_acc = valid_acc_history\n",
        "\n",
        "# create 1x2 subplots for loss on left, accuracy on right\n",
        "fig, axs = plt.subplots(1, 2, figsize=(10, 5))\n",
        "# plot train in blue, val in orange\n",
        "axs[0].plot(train_loss, label='train', color='blue')\n",
        "axs[0].plot(valid_loss, label='validation', color='orange')\n",
        "axs[0].set_title('Loss over epochs')\n",
        "axs[0].set_xlabel('Epoch')\n",
        "axs[0].set_ylabel('Loss')\n",
        "axs[0].legend()\n",
        "\n",
        "# plot train in blue, val in orange\n",
        "axs[1].plot(train_acc, label='train', color='blue')\n",
        "axs[1].plot(valid_acc, label='validation', color='orange')\n",
        "axs[1].set_title('Accuracy over epochs')\n",
        "axs[1].set_xlabel('Epoch')\n",
        "axs[1].set_ylabel('Accuracy')\n",
        "axs[1].legend()\n",
        "\n",
        "plt.show()\n",
        "\n",
        "# ENDS HERE"
      ],
      "metadata": {
        "id": "oIe5y1dOpLl6",
        "colab": {
          "base_uri": "https://localhost:8080/",
          "height": 708
        },
        "outputId": "046e450b-9839-4ed0-f36b-1c397e265145"
      },
      "execution_count": null,
      "outputs": [
        {
          "output_type": "stream",
          "name": "stdout",
          "text": [
            "Accuracy of the network on the 10000 test images: 74 %\n",
            "your_cnn(\n",
            "  (conv1): Conv2d(3, 64, kernel_size=(3, 3), stride=(1, 1))\n",
            "  (pool): MaxPool2d(kernel_size=2, stride=2, padding=0, dilation=1, ceil_mode=False)\n",
            "  (conv2): Conv2d(64, 128, kernel_size=(3, 3), stride=(1, 1))\n",
            "  (conv3): Conv2d(128, 256, kernel_size=(3, 3), stride=(1, 1))\n",
            "  (conv4): Conv2d(256, 512, kernel_size=(3, 3), stride=(1, 1))\n",
            "  (fc1): Linear(in_features=2048, out_features=1024, bias=True)\n",
            "  (fc2): Linear(in_features=1024, out_features=10, bias=True)\n",
            ")\n",
            "[2.3020511113913957, 2.3000163120828616, 2.2919543427266893, 2.180096754602566, 2.0465695668178, 1.9803353183588404, 1.8929930454606463, 1.812159800225762, 1.7506912658169012, 1.6935935012853829, 1.630692046159392, 1.5752563225995204, 1.5190304874614546, 1.4819604462119425, 1.4356505703774227, 1.3929109489841827, 1.352317790316928, 1.321162668003398, 1.2817106930313595, 1.2520868512475567, 1.2327634468200102, 1.1968616755904666, 1.167535667206831, 1.13661632947861, 1.1103638661135533, 1.08548041513771, 1.0546746075532998, 1.034568312821115, 1.0088029150750226, 0.9831505577275708, 0.9609209333255793, 0.9360916982790467, 0.91637061735627, 0.893410210017186, 0.8689406172485109, 0.8490143258860157, 0.828787111932305, 0.8103216142411445, 0.7817768872163857, 0.7661027376818809, 0.7404957060601302, 0.7206440157951064, 0.7066047070132699, 0.6808731069990025, 0.6591761254580917, 0.6441108434443261, 0.621960400965563, 0.59772805290617, 0.5816775803353377, 0.5653327227018441, 0.542096113323406, 0.5204907084346577, 0.5012614290425732, 0.4830205338016437, 0.4643469384521436, 0.44036426684658997, 0.41717342662203843, 0.3917522293746851, 0.3794978008528424, 0.34968180755141437, 0.3320571584686352, 0.30269205427853163, 0.29030499830367457, 0.27037401933958577, 0.252050981589943, 0.2276831669792248, 0.20621636818358852, 0.19212730034331607, 0.1670010659345396, 0.16495337659955783, 0.1344245156854581, 0.12280516074911045, 0.10587473652639966, 0.08246548877210375, 0.07090558951637548, 0.05625905757354703, 0.049359633439001, 0.04769645087942956, 0.03136097718101398, 0.024831154443038878, 0.01772376973253147, 0.014081603755498199, 0.025730442042183724, 0.010411134164685466, 0.008238703878537106, 0.007032894728123952, 0.0062021266173713716, 0.005439892338565106, 0.00488490760652645, 0.0044413381775212325, 0.004070393248775582, 0.0038501510150422144, 0.0035504411778466147, 0.0033252469358882705, 0.003128595905271685, 0.0029232997082434833, 0.002756110678729453, 0.002619863813298096, 0.0024855834814559693, 0.0023601586051036124, 0.002257006579511769, 0.0021546310685859743, 0.0020448623364494674, 0.001961905398008645, 0.0018955272730665318, 0.001812622355220092, 0.001743776267720683, 0.001675596670544214, 0.0016094359004229402, 0.0015620993514052907, 0.0015174638899636403, 0.001469633850094026, 0.0014176970736307513, 0.0013805778050546055, 0.0013241722929932082, 0.0012903431067866078, 0.0012591640145375518, 0.0012211079336999424, 0.0011817865881173142, 0.0011518445321222304]\n"
          ]
        },
        {
          "output_type": "display_data",
          "data": {
            "text/plain": [
              "<Figure size 1000x500 with 2 Axes>"
            ],
            "image/png": "[encoded data removed]"
          },
          "metadata": {}
        }
      ]
    }
  ]
}